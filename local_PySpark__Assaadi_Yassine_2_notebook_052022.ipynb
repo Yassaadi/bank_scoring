{
  "cells": [
    {
      "cell_type": "markdown",
      "metadata": {
        "id": "view-in-github",
        "colab_type": "text"
      },
      "source": [
        "<a href=\"https://colab.research.google.com/github/Yassaadi/bank_scoring/blob/main/local_PySpark__Assaadi_Yassine_2_notebook_052022.ipynb\" target=\"_parent\"><img src=\"https://colab.research.google.com/assets/colab-badge.svg\" alt=\"Open In Colab\"/></a>"
      ]
    },
    {
      "cell_type": "code",
      "source": [
        "#GOOGLE COLAB\n",
        "from google.colab import drive\n",
        "drive.mount('/content/drive')\n",
        "%cd /content/drive/MyDrive/Colab Notebooks/P8-Fruits/P8_Mode_opératoire\n",
        "from IPython.display import Image"
      ],
      "metadata": {
        "colab": {
          "base_uri": "https://localhost:8080/"
        },
        "id": "FRSGam0KpbIB",
        "outputId": "c0702b44-6e93-4585-d693-d3836b3a55e9",
        "collapsed": true
      },
      "id": "FRSGam0KpbIB",
      "execution_count": null,
      "outputs": [
        {
          "output_type": "stream",
          "name": "stdout",
          "text": [
            "Mounted at /content/drive\n",
            "/content/drive/MyDrive/Colab Notebooks/P8-Fruits/P8_Mode_opératoire\n"
          ]
        }
      ]
    },
    {
      "cell_type": "markdown",
      "id": "441159cc",
      "metadata": {
        "id": "441159cc"
      },
      "source": [
        "# Déployez un modèle dans le cloud\n",
        "\n",
        "\n",
        "# Sommaire :\n",
        "\n",
        "**1. Préambule**<br />\n",
        "&emsp;1.1 Problématique<br />\n",
        "&emsp;1.2 Objectifs dans ce projet<br />\n",
        "&emsp;1.3 Déroulement des étapes du projet<br />\n",
        "**2. Choix techniques généraux retenus**<br />\n",
        "&emsp;2.1 Calcul distribué<br />\n",
        "&emsp;2.2 Transfert Learning<br />\n",
        "**3. Déploiement de la solution en local**<br />\n",
        "&emsp;3.1 Environnement de travail<br />\n",
        "&emsp;3.2 Installation de Spark<br />\n",
        "&emsp;3.3 Installation des packages<br />\n",
        "&emsp;3.4 Import des librairies<br />\n",
        "&emsp;3.5 Définition des PATH pour charger les images et enregistrer les résultats<br />\n",
        "&emsp;3.6 Création de la SparkSession<br />\n",
        "&emsp;3.7 Traitement des données<br />\n",
        "&emsp;&emsp;3.7.1 Chargement des données<br />\n",
        "&emsp;&emsp;3.7.2 Préparation du modèle<br />\n",
        "&emsp;&emsp;3.7.3 Définition du processus de chargement des images et application <br />\n",
        "&emsp;&emsp;&emsp;&emsp;&emsp;de leur featurisation à travers l'utilisation de pandas UDF<br />\n",
        "&emsp;&emsp;3.7.4 Exécution des actions d'extractions de features<br />\n",
        "&emsp;3.8 Chargement des données enregistrées et validation du résultat<br />\n",
        "**4. Déploiement de la solution sur le cloud**<br />\n",
        "&emsp;4.1 Choix du prestataire cloud : AWS<br />\n",
        "&emsp;4.2 Choix de la solution technique : EMR<br />\n",
        "&emsp;4.3 Choix de la solution de stockage des données : Amazon S3<br />\n",
        "&emsp;4.4 Configuration de l'environnement de travail<br />\n",
        "&emsp;4.5 Upload de nos données sur S3<br />\n",
        "&emsp;4.6 Configuration du serveur EMR<br />\n",
        "&emsp;&emsp;4.6.1 Étape 1 : Logiciels et étapes<br />\n",
        "&emsp;&emsp;&emsp;4.6.1.1 Configuration des logiciels<br />\n",
        "&emsp;&emsp;&emsp;4.6.1.2 Modifier les paramètres du logiciel<br />\n",
        "&emsp;&emsp;4.6.2 Étape 2 : Matériel<br />\n",
        "&emsp;&emsp;4.6.3 Étape 3 : Paramètres de cluster généraux<br />\n",
        "&emsp;&emsp;&emsp;4.6.3.1 Options générales<br />\n",
        "&emsp;&emsp;&emsp;4.6.3.2 Actions d'amorçage<br />\n",
        "&emsp;&emsp;4.6.4 Étape 4 : Sécurité<br />\n",
        "&emsp;&emsp;&emsp;4.6.4.1 Options de sécurité<br />\n",
        "&emsp;4.7 Instanciation du serveur<br />\n",
        "&emsp;4.8 Création du tunnel SSH à l'instance EC2 (Maître)<br />\n",
        "&emsp;&emsp;4.8.1 Création des autorisations sur les connexions entrantes<br />\n",
        "&emsp;&emsp;4.8.2 Création du tunnel ssh vers le Driver<br />\n",
        "&emsp;&emsp;4.8.3 Configuration de FoxyProxy<br />\n",
        "&emsp;&emsp;4.8.4 Accès aux applications du serveur EMR via le tunnel ssh<br />\n",
        "&emsp;4.9 Connexion au notebook JupyterHub<br />\n",
        "&emsp;4.10 Exécution du code<br />\n",
        "&emsp;&emsp;4.10.1 Démarrage de la session Spark<br />\n",
        "&emsp;&emsp;4.10.2 Installation des packages<br />\n",
        "&emsp;&emsp;4.10.3 Import des librairies<br />\n",
        "&emsp;&emsp;4.10.4 Définition des PATH pour charger les images et enregistrer les résultats<br />\n",
        "&emsp;&emsp;4.10.5 Traitement des données<br />\n",
        "&emsp;&emsp;&emsp;4.10.5.1 Chargement des données<br />\n",
        "&emsp;&emsp;&emsp;4.10.5.2 Préparation du modèle<br />\n",
        "&emsp;&emsp;&emsp;4.10.5.3 Définition du processus de chargement des images<br />\n",
        "&emsp;&emsp;&emsp;&emsp;&emsp;&emsp;&emsp;et application de leur featurisation à travers l'utilisation de pandas UDF<br />\n",
        "&emsp;&emsp;&emsp;4.10.5.4 Exécutions des actions d'extractions de features<br />\n",
        "&emsp;&emsp;4.10.6 Chargement des données enregistrées et validation du résultat<br />\n",
        "&emsp;4.11 Suivi de l'avancement des tâches avec le Serveur d'Historique Spark<br />\n",
        "&emsp;4.12 Résiliation de l'instance EMR<br />\n",
        "&emsp;4.13 Cloner le serveur EMR (si besoin)<br />\n",
        "&emsp;4.14 Arborescence du serveur S3 à la fin du projet<br />\n",
        "**5. Conclusion**"
      ]
    },
    {
      "cell_type": "markdown",
      "id": "ec2cee08",
      "metadata": {
        "id": "ec2cee08"
      },
      "source": [
        "# 1. Préambule\n",
        "\n",
        "## 1.1 Problématique\n",
        "\n",
        "La très jeune start-up de l'AgriTech, nommée \"**Fruits**!\", <br />\n",
        "cherche à proposer des solutions innovantes pour la récolte des fruits.\n",
        "\n",
        "La volonté de l’entreprise est de préserver la biodiversité des fruits <br />\n",
        "en permettant des traitements spécifiques pour chaque espèce de fruits <br />\n",
        "en développant des robots cueilleurs intelligents.\n",
        "\n",
        "La start-up souhaite dans un premier temps se faire connaître en mettant <br />\n",
        "à disposition du grand public une application mobile qui permettrait aux <br />\n",
        "utilisateurs de prendre en photo un fruit et d'obtenir des informations sur ce fruit.\n",
        "\n",
        "Pour la start-up, cette application permettrait de sensibiliser le grand public <br /> \n",
        "à la biodiversité des fruits et de mettre en place une première version du moteur <br />\n",
        "de classification des images de fruits.\n",
        "\n",
        "De plus, le développement de l’application mobile permettra de construire <br />\n",
        "une première version de l'architecture **Big Data** nécessaire.\n",
        "\n",
        "## 1.2 Objectifs dans ce projet\n",
        "\n",
        "1. Développer une première chaîne de traitement des données qui <br />\n",
        "   comprendra le **preprocessing** et une étape de **réduction de dimension**.\n",
        "2. Tenir compte du fait que <u>le volume de données va augmenter <br />\n",
        "   très rapidement</u> après la livraison de ce projet, ce qui implique de:\n",
        " - Déployer le traitement des données dans un environnement **Big Data**\n",
        " - Développer les scripts en **pyspark** pour effectuer du **calcul distribué**"
      ]
    },
    {
      "cell_type": "markdown",
      "id": "6b95e6ce",
      "metadata": {
        "id": "6b95e6ce"
      },
      "source": [
        "## 1.3 Déroulement des étapes du projet\n",
        "\n",
        "Le projet va être réalisé en 2 temps, dans deux environnements différents. <br />\n",
        "Nous allons dans un premier temps développer et exécuter notre code en local, <br />\n",
        "en travaillant sur un nombre limité d'images à traiter.\n",
        "\n",
        "Une fois les choix techniques validés, nous déploierons notre solution <br />\n",
        "dans un environnement Big Data en mode distribué.\n",
        "\n",
        "<u>Pour cette raison, ce projet sera divisé en 3 parties</u>:\n",
        "1. Liste des choix techniques généraux retenus\n",
        "2. Déploiement de la solution en local\n",
        "3. Déploiement de la solution dans le cloud"
      ]
    },
    {
      "cell_type": "markdown",
      "id": "f5b34029",
      "metadata": {
        "id": "f5b34029"
      },
      "source": [
        "# 2. Choix techniques généraux retenus"
      ]
    },
    {
      "cell_type": "markdown",
      "id": "32baf092",
      "metadata": {
        "id": "32baf092"
      },
      "source": [
        "## 2.1 Calcul distribué\n",
        "\n",
        "L’énoncé du projet nous impose de développer des scripts en **pyspark** <br />\n",
        "afin de <u>prendre en compte l’augmentation très rapide du volume <br />\n",
        "de donné après la livraison du projet</u>.\n",
        "\n",
        "Pour comprendre rapidement et simplement ce qu’est **pyspark** <br />\n",
        "et son principe de fonctionnement, nous vous conseillons de lire <br />\n",
        "cet article : [PySpark : Tout savoir sur la librairie Python](https://datascientest.com/pyspark)\n",
        "\n",
        "<u>Le début de l’article nous dit ceci </u>:<br />\n",
        "« *Lorsque l’on parle de traitement de bases de données sur python, <br />\n",
        "on pense immédiatement à la librairie pandas. Cependant, lorsqu’on a <br />\n",
        "affaire à des bases de données trop massives, les calculs deviennent trop lents.<br />\n",
        "Heureusement, il existe une autre librairie python, assez proche <br />\n",
        "de pandas, qui permet de traiter des très grandes quantités de données : PySpark.<br />\n",
        "Apache Spark est un framework open-source développé par l’AMPLab <br />\n",
        "de UC Berkeley permettant de traiter des bases de données massives <br />\n",
        "en utilisant le calcul distribué, technique qui consiste à exploiter <br />\n",
        "plusieurs unités de calcul réparties en clusters au profit d’un seul <br />\n",
        "projet afin de diviser le temps d’exécution d’une requête.<br />\n",
        "Spark a été développé en Scala et est au meilleur de ses capacités <br />\n",
        "dans son langage natif. Cependant, la librairie PySpark propose de <br />\n",
        "l’utiliser avec le langage Python, en gardant des performances <br />\n",
        "similaires à des implémentations en Scala.<br />\n",
        "Pyspark est donc une bonne alternative à la librairie pandas lorsqu’on <br />\n",
        "cherche à traiter des jeux de données trop volumineux qui entraînent <br />\n",
        "des calculs trop chronophages.* »\n",
        "\n",
        "Comme nous le constatons, **pySpark** est un moyen de communiquer <br />\n",
        "avec **Spark** via le langage **Python**.<br />\n",
        "**Spark**, quant à lui, est un outil qui permet de gérer et de coordonner <br />\n",
        "l'exécution de tâches sur des données à travers un groupe d'ordinateurs. <br />\n",
        "<u>Spark (ou Apache Spark) est un framework open source de calcul distribué <br />\n",
        "in-memory pour le traitement et l'analyse de données massives</u>.\n",
        "\n",
        "Un autre [article très intéressant et beaucoup plus complet pour <br />\n",
        "comprendre le **fonctionnement de Spark**](https://www.veonum.com/apache-spark-pour-les-nuls/), ainsi que le rôle <br />\n",
        "des **Spark Session** que nous utiliserons dans ce projet.\n",
        "\n",
        "<u>Voici également un extrait</u>:\n",
        "\n",
        "*Les applications Spark se composent d’un pilote (« driver process ») <br />\n",
        "et de plusieurs exécuteurs (« executor processes »). Il peut être configuré <br />\n",
        "pour être lui-même l’exécuteur (local mode) ou en utiliser autant que <br />\n",
        "nécessaire pour traiter l’application, Spark prenant en charge la mise <br />\n",
        "à l’échelle automatique par une configuration d’un nombre minimum <br />\n",
        "et maximum d’exécuteurs.*\n",
        "\n",
        "![Schéma de Spark](img/spark-schema.png)\n",
        "\n",
        "*Le driver (parfois appelé « Spark Session ») distribue et planifie <br />\n",
        "les tâches entre les différents exécuteurs qui les exécutent et permettent <br />\n",
        "un traitement réparti. Il est le responsable de l’exécution du code <br />\n",
        "sur les différentes machines.\n",
        "\n",
        "Chaque exécuteur est un processus Java Virtual Machine (JVM) distinct <br />\n",
        "dont il est possible de configurer le nombre de CPU et la quantité de <br />\n",
        "mémoire qui lui est alloué. <br />\n",
        "Une seule tâche peut traiter un fractionnement de données à la fois.*\n",
        "\n",
        "Dans les deux environnements (Local et Cloud) nous utiliserons donc **Spark** <br />\n",
        "et nous l’exploiterons à travers des scripts python grâce à **PySpark**.\n",
        "\n",
        "Dans la <u>version locale</u> de notre script nous **simulerons <br />\n",
        "le calcul distribué** afin de valider que notre solution fonctionne.<br />\n",
        "Dans la <u>version cloud</u> nous **réaliserons les opérations sur un cluster de machine**."
      ]
    },
    {
      "cell_type": "markdown",
      "id": "5364c9f9",
      "metadata": {
        "id": "5364c9f9"
      },
      "source": [
        "## 2.2 Transfert Learning\n",
        "\n",
        "L'énoncé du projet nous demande également de <br />\n",
        "réaliser une première chaîne de traitement <br />\n",
        "des données qui comprendra le preprocessing et <br />\n",
        "une étape de réduction de dimension.\n",
        "\n",
        "Il est également précisé qu'il n'est pas nécessaire <br />\n",
        "d'entraîner un modèle pour le moment.\n",
        "\n",
        "Nous décidons de partir sur une solution de **transfert learning**.\n",
        "\n",
        "Simplement, le **transfert learning** consiste <br />\n",
        "à utiliser la connaissance déjà acquise <br />\n",
        "par un modèle entraîné (ici **MobileNetV2**) pour <br />\n",
        "l'adapter à notre problématique.\n",
        "\n",
        "Nous allons fournir au modèle nos images, et nous allons <br />\n",
        "<u>récupérer l'avant dernière couche</u> du modèle.<br />\n",
        "En effet la dernière couche de modèle est une couche softmax <br />\n",
        "qui permet la classification des images ce que nous ne <br />\n",
        "souhaitons pas dans ce projet.\n",
        "\n",
        "L'avant dernière couche correspond à un **vecteur <br />\n",
        "réduit** de dimension (1,1,1280).\n",
        "\n",
        "Cela permettra de réaliser une première version du moteur <br />\n",
        "pour la classification des images des fruits.\n",
        "\n",
        "**MobileNetV2** a été retenu pour sa <u>rapidité d'exécution</u>, <br />\n",
        "particulièrement adaptée pour le traitement d'un gros volume <br />\n",
        "de données ainsi que la <u>faible dimensionnalité du vecteur <br />\n",
        "de caractéristique en sortie</u> (1,1,1280)"
      ]
    },
    {
      "cell_type": "markdown",
      "id": "1e89a2da",
      "metadata": {
        "id": "1e89a2da"
      },
      "source": [
        "# 3. Déploiement de la solution en local\n",
        "\n",
        "\n",
        "## 3.1 Environnement de travail\n",
        "\n",
        "Pour des raisons de simplicité, nous développons dans un environnement <br />\n",
        "Linux Unbuntu (exécuté depuis une machine Windows dans une machine virtuelle)\n",
        "* Pour installer une machine virtuelle :  https://www.malekal.com/meilleurs-logiciels-de-machine-virtuelle-gratuits-ou-payants/\n",
        "\n",
        "## 3.2 Installation de Spark\n",
        "\n",
        "[La première étape consiste à installer Spark ](https://computingforgeeks.com/how-to-install-apache-spark-on-ubuntu-debian/)\n",
        "\n",
        "## 3.3 Installation des packages\n",
        "\n",
        "<u>On installe ensuite à l'aide de la commande **pip** <br />\n",
        "les packages qui nous seront nécessaires</u> :"
      ]
    },
    {
      "cell_type": "markdown",
      "metadata": {
        "id": "Dd6t0uFzuR4X"
      },
      "source": [
        "<a id='installing-spark'></a>\n",
        "### Installing Spark"
      ],
      "id": "Dd6t0uFzuR4X"
    },
    {
      "cell_type": "markdown",
      "metadata": {
        "id": "6apGVff5h4ca"
      },
      "source": [
        "Install Dependencies:\n",
        "\n",
        "\n",
        "1.   Java 8\n",
        "2.   Apache Spark with hadoop and\n",
        "3.   Findspark (used to locate the spark in the system)\n"
      ],
      "id": "6apGVff5h4ca"
    },
    {
      "cell_type": "code",
      "source": [
        "!pip install Pandas pillow pyarrow pyspark"
      ],
      "metadata": {
        "collapsed": true,
        "id": "4pgged2NUH9M",
        "colab": {
          "base_uri": "https://localhost:8080/"
        },
        "outputId": "405a7ba1-1537-43b8-f91c-aa33899e115a"
      },
      "id": "4pgged2NUH9M",
      "execution_count": null,
      "outputs": [
        {
          "output_type": "stream",
          "name": "stdout",
          "text": [
            "Looking in indexes: https://pypi.org/simple, https://us-python.pkg.dev/colab-wheels/public/simple/\n",
            "Requirement already satisfied: Pandas in /usr/local/lib/python3.9/dist-packages (1.4.4)\n",
            "Requirement already satisfied: pillow in /usr/local/lib/python3.9/dist-packages (8.4.0)\n",
            "Requirement already satisfied: pyarrow in /usr/local/lib/python3.9/dist-packages (9.0.0)\n",
            "Collecting pyspark\n",
            "  Downloading pyspark-3.3.2.tar.gz (281.4 MB)\n",
            "\u001b[2K     \u001b[90m━━━━━━━━━━━━━━━━━━━━━━━━━━━━━━━━━━━━━━━\u001b[0m \u001b[32m281.4/281.4 MB\u001b[0m \u001b[31m6.3 MB/s\u001b[0m eta \u001b[36m0:00:00\u001b[0m\n",
            "\u001b[?25h  Preparing metadata (setup.py) ... \u001b[?25l\u001b[?25hdone\n",
            "Requirement already satisfied: numpy>=1.18.5 in /usr/local/lib/python3.9/dist-packages (from Pandas) (1.22.4)\n",
            "Requirement already satisfied: pytz>=2020.1 in /usr/local/lib/python3.9/dist-packages (from Pandas) (2022.7.1)\n",
            "Requirement already satisfied: python-dateutil>=2.8.1 in /usr/local/lib/python3.9/dist-packages (from Pandas) (2.8.2)\n",
            "Collecting py4j==0.10.9.5\n",
            "  Downloading py4j-0.10.9.5-py2.py3-none-any.whl (199 kB)\n",
            "\u001b[2K     \u001b[90m━━━━━━━━━━━━━━━━━━━━━━━━━━━━━━━━━━━━━━\u001b[0m \u001b[32m199.7/199.7 KB\u001b[0m \u001b[31m26.5 MB/s\u001b[0m eta \u001b[36m0:00:00\u001b[0m\n",
            "\u001b[?25hRequirement already satisfied: six>=1.5 in /usr/local/lib/python3.9/dist-packages (from python-dateutil>=2.8.1->Pandas) (1.16.0)\n",
            "Building wheels for collected packages: pyspark\n",
            "  Building wheel for pyspark (setup.py) ... \u001b[?25l\u001b[?25hdone\n",
            "  Created wheel for pyspark: filename=pyspark-3.3.2-py2.py3-none-any.whl size=281824028 sha256=904672271cb573a80c17542b8ca6e55e672d865aa500903129637dda750fd8c0\n",
            "  Stored in directory: /root/.cache/pip/wheels/6c/e3/9b/0525ce8a69478916513509d43693511463c6468db0de237c86\n",
            "Successfully built pyspark\n",
            "Installing collected packages: py4j, pyspark\n",
            "  Attempting uninstall: py4j\n",
            "    Found existing installation: py4j 0.10.9.7\n",
            "    Uninstalling py4j-0.10.9.7:\n",
            "      Successfully uninstalled py4j-0.10.9.7\n",
            "Successfully installed py4j-0.10.9.5 pyspark-3.3.2\n"
          ]
        }
      ]
    },
    {
      "cell_type": "markdown",
      "id": "33a43845",
      "metadata": {
        "id": "33a43845"
      },
      "source": [
        "## 3.4 Import des librairies"
      ]
    },
    {
      "cell_type": "code",
      "execution_count": null,
      "id": "a5c0c74f",
      "metadata": {
        "id": "a5c0c74f"
      },
      "outputs": [],
      "source": [
        "import pandas as pd\n",
        "from PIL import Image\n",
        "import numpy as np\n",
        "import io\n",
        "import os\n",
        "\n",
        "import tensorflow as tf\n",
        "from tensorflow.keras.applications.mobilenet_v2 import MobileNetV2, preprocess_input\n",
        "from tensorflow.keras.preprocessing.image import img_to_array\n",
        "from tensorflow.keras import Model\n",
        "from pyspark.sql.functions import col, pandas_udf, PandasUDFType, element_at, split\n",
        "from pyspark.sql import SparkSession\n",
        "from pyspark.ml.feature import VectorAssembler, StandardScaler, PCA\n",
        "import matplotlib.pyplot as plt"
      ]
    },
    {
      "cell_type": "code",
      "source": [
        "!ls"
      ],
      "metadata": {
        "colab": {
          "base_uri": "https://localhost:8080/"
        },
        "collapsed": true,
        "id": "KbldLyyp6U--",
        "outputId": "94d5e05c-b040-4ccc-e3fc-7601fd8d2b48"
      },
      "id": "KbldLyyp6U--",
      "execution_count": null,
      "outputs": [
        {
          "output_type": "stream",
          "name": "stdout",
          "text": [
            "data\t\t\t\t  spark-3.1.1-bin-hadoop3.2.tgz.5\n",
            "img\t\t\t\t  spark-3.1.1-bin-hadoop3.2.tgz.6\n",
            "spark-3.1.1-bin-hadoop3.2\t  spark-3.1.1-bin-hadoop3.2.tgz.7\n",
            "spark-3.1.1-bin-hadoop3.2.tgz\t  spark-3.1.1-bin-hadoop3.2.tgz.8\n",
            "spark-3.1.1-bin-hadoop3.2.tgz.1   spark-3.1.1-bin-hadoop3.2.tgz.9\n",
            "spark-3.1.1-bin-hadoop3.2.tgz.10  spark-3.2.1-bin-hadoop3.2\n",
            "spark-3.1.1-bin-hadoop3.2.tgz.2   spark-3.2.1-bin-hadoop3.2.tgz\n",
            "spark-3.1.1-bin-hadoop3.2.tgz.3   YAS_P8_Notebook_Linux_EMR_PySpark_V2.0.ipynb\n",
            "spark-3.1.1-bin-hadoop3.2.tgz.4\n"
          ]
        }
      ]
    },
    {
      "cell_type": "markdown",
      "id": "661ff67c",
      "metadata": {
        "id": "661ff67c"
      },
      "source": [
        "## 3.5 Définition des PATH pour charger les images <br /> et enregistrer les résultats\n",
        "\n",
        "Dans cette version locale nous partons du principe que les données <br />\n",
        "sont stockées dans le même répertoire que le notebook.<br />\n",
        "Nous n'utilisons qu'un extrait de **300 images** à traiter dans cette <br />\n",
        "première version en local.<br />\n",
        "L'extrait des images à charger est stockée dans le dossier **Test1**.<br />\n",
        "Nous enregistrerons le résultat de notre traitement <br />\n",
        "dans le dossier \"**Results_Local**\""
      ]
    },
    {
      "cell_type": "code",
      "execution_count": null,
      "id": "cde0aa67",
      "metadata": {
        "id": "cde0aa67",
        "outputId": "30dd48c4-ea47-472f-8911-6772c8532ddf",
        "colab": {
          "base_uri": "https://localhost:8080/"
        }
      },
      "outputs": [
        {
          "output_type": "stream",
          "name": "stdout",
          "text": [
            "PATH:        /content/drive/MyDrive/Colab Notebooks/P8-Fruits/P8_Mode_opératoire\n",
            "PATH_Data:   /content/drive/MyDrive/Colab Notebooks/P8-Fruits/P8_Mode_opératoire/data/Test1\n",
            "PATH_Result: /content/drive/MyDrive/Colab Notebooks/P8-Fruits/P8_Mode_opératoire/data/Results\n"
          ]
        }
      ],
      "source": [
        "PATH = os.getcwd() #Return current directory\n",
        "PATH_Data = PATH+'/data/Test1'\n",
        "PATH_Result = PATH+'/data/Results'\n",
        "print('PATH:        '+\\\n",
        "      PATH+'\\nPATH_Data:   '+\\\n",
        "      PATH_Data+'\\nPATH_Result: '+PATH_Result)"
      ]
    },
    {
      "cell_type": "markdown",
      "id": "da5e637a",
      "metadata": {
        "id": "da5e637a"
      },
      "source": [
        "## 3.6 Création de la SparkSession\n",
        "\n",
        "L’application Spark est contrôlée grâce à un processus de pilotage (driver process) appelé **SparkSession**. <br />\n",
        "<u>Une instance de **SparkSession** est la façon dont Spark exécute les fonctions définies par l’utilisateur <br />\n",
        "dans l’ensemble du cluster</u>. <u>Une SparkSession correspond toujours à une application Spark</u>.\n",
        "\n",
        "<u>Ici nous créons une session spark en spécifiant dans l'ordre</u> :\n",
        " 1. un **nom pour l'application**, qui sera affichée dans l'interface utilisateur Web Spark \"**P8**\"\n",
        " 2. que l'application doit s'exécuter **localement**. <br />\n",
        "   Nous ne définissons pas le nombre de cœurs à utiliser (comme .master('local[4]) pour 4 cœurs à utiliser), <br />\n",
        "   nous utiliserons donc tous les cœurs disponibles dans notre processeur.<br />\n",
        " 3. une option de configuration supplémentaire permettant d'utiliser le **format \"parquet\"** <br />\n",
        "   que nous utiliserons pour enregistrer et charger le résultat de notre travail.\n",
        " 4. vouloir **obtenir une session spark** existante ou si aucune n'existe, en créer une nouvelle"
      ]
    },
    {
      "cell_type": "code",
      "execution_count": null,
      "id": "b7bea157",
      "metadata": {
        "id": "b7bea157"
      },
      "outputs": [],
      "source": [
        "spark = (SparkSession\n",
        "             .builder\n",
        "             .appName('P8')\n",
        "             .master(\"local[*]\")\n",
        "             .config(\"spark.sql.parquet.writeLegacyFormat\", 'true')\n",
        "             .getOrCreate()\n",
        ")\n",
        "\n",
        "#spark.conf.set(\"spark.sql.repl.eagerEval.enabled\", True) # Property used to format output tables better"
      ]
    },
    {
      "cell_type": "markdown",
      "id": "5c8b53ac",
      "metadata": {
        "id": "5c8b53ac"
      },
      "source": [
        "<u>Nous créons également la variable \"**sc**\" qui est un **SparkContext** issue de la variable **spark**</u> :"
      ]
    },
    {
      "cell_type": "code",
      "execution_count": null,
      "id": "14aeccb1",
      "metadata": {
        "id": "14aeccb1"
      },
      "outputs": [],
      "source": [
        "sc = spark.sparkContext"
      ]
    },
    {
      "cell_type": "markdown",
      "id": "5a086010",
      "metadata": {
        "id": "5a086010"
      },
      "source": [
        "<u>Affichage des informations de Spark en cours d'execution</u> :"
      ]
    },
    {
      "cell_type": "code",
      "execution_count": null,
      "id": "e97bf13b",
      "metadata": {
        "id": "e97bf13b",
        "colab": {
          "base_uri": "https://localhost:8080/",
          "height": 219
        },
        "outputId": "59be8a3b-5555-4d53-8733-13e672bb306e"
      },
      "outputs": [
        {
          "output_type": "execute_result",
          "data": {
            "text/plain": [
              "<pyspark.sql.session.SparkSession at 0x7fb50804d490>"
            ],
            "text/html": [
              "\n",
              "            <div>\n",
              "                <p><b>SparkSession - in-memory</b></p>\n",
              "                \n",
              "        <div>\n",
              "            <p><b>SparkContext</b></p>\n",
              "\n",
              "            <p><a href=\"http://3bf242038235:4040\">Spark UI</a></p>\n",
              "\n",
              "            <dl>\n",
              "              <dt>Version</dt>\n",
              "                <dd><code>v3.3.2</code></dd>\n",
              "              <dt>Master</dt>\n",
              "                <dd><code>local[*]</code></dd>\n",
              "              <dt>AppName</dt>\n",
              "                <dd><code>P8</code></dd>\n",
              "            </dl>\n",
              "        </div>\n",
              "        \n",
              "            </div>\n",
              "        "
            ]
          },
          "metadata": {},
          "execution_count": 13
        }
      ],
      "source": [
        "spark"
      ]
    },
    {
      "cell_type": "markdown",
      "id": "195a88b0",
      "metadata": {
        "id": "195a88b0"
      },
      "source": [
        "## 3.7 Traitement des données\n",
        "\n",
        "<u>Dans la suite de notre flux de travail, <br />\n",
        "nous allons successivement</u> :\n",
        "1. Préparer nos données\n",
        "    1. Importer les images dans un dataframe **pandas UDF**\n",
        "    2. Associer aux images leur **label**\n",
        "    3. Préprocesser en **redimensionnant nos images pour <br />\n",
        "       qu'elles soient compatibles avec notre modèle**\n",
        "2. Préparer notre modèle\n",
        "    1. Importer le modèle **MobileNetV2**\n",
        "    2. Créer un **nouveau modèle** dépourvu de la dernière couche de MobileNetV2\n",
        "3. Définir le processus de chargement des images et l'application <br />\n",
        "   de leur featurisation à travers l'utilisation de pandas UDF\n",
        "3. Exécuter les actions d'extraction de features\n",
        "4. Enregistrer le résultat de nos actions\n",
        "5. Tester le bon fonctionnement en chargeant les données enregistrées\n",
        "\n",
        "\n"
      ]
    },
    {
      "cell_type": "markdown",
      "id": "386fe0bc",
      "metadata": {
        "id": "386fe0bc"
      },
      "source": [
        "### 3.7.1 Chargement des données\n",
        "\n",
        "Les images sont chargées au format binaire, ce qui offre, <br />\n",
        "plus de souplesse dans la façon de prétraiter les images.\n",
        "\n",
        "Avant de charger les images, nous spécifions que nous voulons charger <br />\n",
        "uniquement les fichiers dont l'extension est **jpg**.\n",
        "\n",
        "Nous indiquons également de charger tous les objets possibles contenus <br />\n",
        "dans les sous-dossiers du dossier communiqué."
      ]
    },
    {
      "cell_type": "code",
      "execution_count": null,
      "id": "e68e53b9",
      "metadata": {
        "id": "e68e53b9",
        "colab": {
          "base_uri": "https://localhost:8080/",
          "height": 201
        },
        "outputId": "cd5dd5d7-b7aa-4b0a-c4bf-7c6cb9f0e6ff"
      },
      "outputs": [
        {
          "output_type": "error",
          "ename": "NameError",
          "evalue": "ignored",
          "traceback": [
            "\u001b[0;31m---------------------------------------------------------------------------\u001b[0m",
            "\u001b[0;31mNameError\u001b[0m                                 Traceback (most recent call last)",
            "\u001b[0;32m<ipython-input-14-f83e1ebc5ce0>\u001b[0m in \u001b[0;36m<cell line: 1>\u001b[0;34m()\u001b[0m\n\u001b[1;32m      2\u001b[0m   \u001b[0;34m.\u001b[0m\u001b[0moption\u001b[0m\u001b[0;34m(\u001b[0m\u001b[0;34m\"pathGlobFilter\"\u001b[0m\u001b[0;34m,\u001b[0m \u001b[0;34m\"*.jpg\"\u001b[0m\u001b[0;34m)\u001b[0m\u001b[0;31m \u001b[0m\u001b[0;31m\\\u001b[0m\u001b[0;34m\u001b[0m\u001b[0;34m\u001b[0m\u001b[0m\n\u001b[1;32m      3\u001b[0m   \u001b[0;34m.\u001b[0m\u001b[0moption\u001b[0m\u001b[0;34m(\u001b[0m\u001b[0;34m\"recursiveFileLookup\"\u001b[0m\u001b[0;34m,\u001b[0m \u001b[0;34m\"true\"\u001b[0m\u001b[0;34m)\u001b[0m\u001b[0;31m \u001b[0m\u001b[0;31m\\\u001b[0m\u001b[0;34m\u001b[0m\u001b[0;34m\u001b[0m\u001b[0m\n\u001b[0;32m----> 4\u001b[0;31m   \u001b[0;34m.\u001b[0m\u001b[0mload\u001b[0m\u001b[0;34m(\u001b[0m\u001b[0mPATH_Data\u001b[0m\u001b[0;34m)\u001b[0m\u001b[0;34m\u001b[0m\u001b[0;34m\u001b[0m\u001b[0m\n\u001b[0m",
            "\u001b[0;31mNameError\u001b[0m: name 'PATH_Data' is not defined"
          ]
        }
      ],
      "source": [
        "images = spark.read.format(\"binaryFile\") \\\n",
        "  .option(\"pathGlobFilter\", \"*.jpg\") \\\n",
        "  .option(\"recursiveFileLookup\", \"true\") \\\n",
        "  .load(PATH_Data)"
      ]
    },
    {
      "cell_type": "markdown",
      "id": "645faeaf",
      "metadata": {
        "id": "645faeaf"
      },
      "source": [
        "<u>Affichage des 5 premières images contenant</u> :\n",
        " - le path de l'image\n",
        " - la date et heure de sa dernière modification\n",
        " - sa longueur\n",
        " - son contenu encodé en valeur hexadécimal"
      ]
    },
    {
      "cell_type": "markdown",
      "id": "863981e5",
      "metadata": {
        "id": "863981e5"
      },
      "source": [
        "<u>Je ne conserve que le **path** de l'image et j'ajoute <br />\n",
        "    une colonne contenant les **labels** de chaque image</u> :"
      ]
    },
    {
      "cell_type": "code",
      "execution_count": null,
      "id": "a08b0494",
      "metadata": {
        "id": "a08b0494",
        "colab": {
          "base_uri": "https://localhost:8080/"
        },
        "outputId": "908846e9-d621-412b-ddca-de7de0c4d388"
      },
      "outputs": [
        {
          "output_type": "stream",
          "name": "stdout",
          "text": [
            "root\n",
            " |-- path: string (nullable = true)\n",
            " |-- modificationTime: timestamp (nullable = true)\n",
            " |-- length: long (nullable = true)\n",
            " |-- content: binary (nullable = true)\n",
            " |-- label: string (nullable = true)\n",
            "\n",
            "None\n",
            "+--------------------------------------------------------------------------------------------------------------+---------------+\n",
            "|path                                                                                                          |label          |\n",
            "+--------------------------------------------------------------------------------------------------------------+---------------+\n",
            "|file:/content/drive/MyDrive/Colab Notebooks/P8-Fruits/P8_Mode_opératoire/data/Test1/cabbage_white_1/r0_11.jpg|cabbage_white_1|\n",
            "|file:/content/drive/MyDrive/Colab Notebooks/P8-Fruits/P8_Mode_opératoire/data/Test1/cabbage_white_1/r0_7.jpg |cabbage_white_1|\n",
            "|file:/content/drive/MyDrive/Colab Notebooks/P8-Fruits/P8_Mode_opératoire/data/Test1/cabbage_white_1/r0_19.jpg|cabbage_white_1|\n",
            "|file:/content/drive/MyDrive/Colab Notebooks/P8-Fruits/P8_Mode_opératoire/data/Test1/cabbage_white_1/r0_15.jpg|cabbage_white_1|\n",
            "|file:/content/drive/MyDrive/Colab Notebooks/P8-Fruits/P8_Mode_opératoire/data/Test1/cabbage_white_1/r0_3.jpg |cabbage_white_1|\n",
            "+--------------------------------------------------------------------------------------------------------------+---------------+\n",
            "only showing top 5 rows\n",
            "\n",
            "None\n"
          ]
        }
      ],
      "source": [
        "images = images.withColumn('label', element_at(split(images['path'], '/'),-2))\n",
        "print(images.printSchema())\n",
        "print(images.select('path','label').show(5,False))"
      ]
    },
    {
      "cell_type": "code",
      "source": [
        "images.show()"
      ],
      "metadata": {
        "id": "v1SJpmO0sGMd",
        "colab": {
          "base_uri": "https://localhost:8080/"
        },
        "outputId": "fa169e3d-1248-4496-e4b0-2ffcaf1e5c8a"
      },
      "id": "v1SJpmO0sGMd",
      "execution_count": null,
      "outputs": [
        {
          "output_type": "stream",
          "name": "stdout",
          "text": [
            "+--------------------+-------------------+------+--------------------+---------------+\n",
            "|                path|   modificationTime|length|             content|          label|\n",
            "+--------------------+-------------------+------+--------------------+---------------+\n",
            "|file:/content/dri...|2021-09-12 17:23:50| 99176|[FF D8 FF E0 00 1...|cabbage_white_1|\n",
            "|file:/content/dri...|2021-09-12 17:23:50| 98391|[FF D8 FF E0 00 1...|cabbage_white_1|\n",
            "|file:/content/dri...|2021-09-12 17:23:50| 97815|[FF D8 FF E0 00 1...|cabbage_white_1|\n",
            "|file:/content/dri...|2021-09-12 17:23:50| 96546|[FF D8 FF E0 00 1...|cabbage_white_1|\n",
            "|file:/content/dri...|2021-09-12 17:23:50| 96048|[FF D8 FF E0 00 1...|cabbage_white_1|\n",
            "|file:/content/dri...|2021-09-12 17:23:54| 77993|[FF D8 FF E0 00 1...|         pear_3|\n",
            "|file:/content/dri...|2021-09-12 17:23:54| 77311|[FF D8 FF E0 00 1...|         pear_3|\n",
            "|file:/content/dri...|2021-09-12 17:23:54| 76909|[FF D8 FF E0 00 1...|         pear_3|\n",
            "|file:/content/dri...|2021-09-12 17:23:54| 76395|[FF D8 FF E0 00 1...|         pear_3|\n",
            "|file:/content/dri...|2021-09-12 17:23:54| 75940|[FF D8 FF E0 00 1...|         pear_3|\n",
            "|file:/content/dri...|2021-09-12 17:23:54| 75424|[FF D8 FF E0 00 1...|         pear_3|\n",
            "|file:/content/dri...|2021-09-12 17:23:52| 65195|[FF D8 FF E0 00 1...|     cucumber_3|\n",
            "|file:/content/dri...|2021-09-12 17:23:52| 64938|[FF D8 FF E0 00 1...|     cucumber_3|\n",
            "|file:/content/dri...|2021-09-12 17:23:52| 64802|[FF D8 FF E0 00 1...|     cucumber_3|\n",
            "|file:/content/dri...|2021-09-12 17:23:52| 64734|[FF D8 FF E0 00 1...|     cucumber_3|\n",
            "|file:/content/dri...|2021-09-12 17:23:52| 64587|[FF D8 FF E0 00 1...|     cucumber_3|\n",
            "|file:/content/dri...|2021-09-12 17:23:52| 64575|[FF D8 FF E0 00 1...|     cucumber_3|\n",
            "|file:/content/dri...|2021-09-12 17:23:54| 56533|[FF D8 FF E0 00 1...|         pear_1|\n",
            "|file:/content/dri...|2021-09-12 17:23:54| 56483|[FF D8 FF E0 00 1...|         pear_1|\n",
            "|file:/content/dri...|2021-09-12 17:23:52| 55913|[FF D8 FF E0 00 1...|     cucumber_1|\n",
            "+--------------------+-------------------+------+--------------------+---------------+\n",
            "only showing top 20 rows\n",
            "\n"
          ]
        }
      ]
    },
    {
      "cell_type": "markdown",
      "id": "83d47705",
      "metadata": {
        "id": "83d47705"
      },
      "source": [
        "### 3.7.2 Préparation du modèle\n",
        "\n",
        "Je vais utiliser la technique du **transfert learning** pour extraire les features des images.<br />\n",
        "J'ai choisi d'utiliser le modèle **MobileNetV2** pour sa rapidité d'exécution comparée <br />\n",
        "à d'autres modèles comme *VGG16* par exemple.\n",
        "\n",
        "Pour en savoir plus sur la conception et le fonctionnement de MobileNetV2, <br />\n",
        "je vous invite à lire [cet article](https://towardsdatascience.com/review-mobilenetv2-light-weight-model-image-classification-8febb490e61c).\n",
        "\n",
        "<u>Voici le schéma de son architecture globale</u> : \n",
        "\n",
        "![Architecture de MobileNetV2](/content/drive/MyDrive/Colab\\Notebooks/P8-Fruits/P8_Mode_opératoire/img/mobilenetv2_architecture.png)\n",
        "\n",
        "Il existe une dernière couche qui sert à classer les images <br />\n",
        "selon 1000 catégories que nous ne voulons pas utiliser.<br />\n",
        "L'idée dans ce projet est de récupérer le **vecteur de caractéristiques <br />\n",
        "de dimensions (1,1,1280)** qui servira, plus tard, au travers d'un moteur <br />\n",
        "de classification à reconnaitre les différents fruits du jeu de données.\n",
        "\n",
        "Comme d'autres modèles similaires, **MobileNetV2**, lorsqu'on l'utilise <br />\n",
        "en incluant toutes ses couches, attend obligatoirement des images <br />\n",
        "de dimension (224,224,3). Nos images étant toutes de dimension (100,100,3), <br />\n",
        "nous devrons simplement les **redimensionner** avant de les confier au modèle.\n",
        "\n",
        "<u>Dans l'odre</u> :\n",
        " 1. Nous chargeons le modèle **MobileNetV2** avec les poids **précalculés** <br />\n",
        "    issus d'**imagenet** et en spécifiant le format de nos images en entrée\n",
        " 2. Nous créons un nouveau modèle avec:\n",
        "  - <u>en entrée</u> : l'entrée du modèle MobileNetV2\n",
        "  - <u>en sortie</u> : l'avant dernière couche du modèle MobileNetV2"
      ]
    },
    {
      "cell_type": "code",
      "execution_count": null,
      "id": "9cdd9bdf",
      "metadata": {
        "id": "9cdd9bdf",
        "colab": {
          "base_uri": "https://localhost:8080/"
        },
        "outputId": "0b76fa20-1b40-4c71-8caf-30d33708bcbc"
      },
      "outputs": [
        {
          "output_type": "stream",
          "name": "stdout",
          "text": [
            "Downloading data from https://storage.googleapis.com/tensorflow/keras-applications/mobilenet_v2/mobilenet_v2_weights_tf_dim_ordering_tf_kernels_1.0_224.h5\n",
            "14536120/14536120 [==============================] - 2s 0us/step\n"
          ]
        }
      ],
      "source": [
        "model = MobileNetV2(weights='imagenet',\n",
        "                    include_top=True,\n",
        "                    input_shape=(224, 224, 3))"
      ]
    },
    {
      "cell_type": "code",
      "execution_count": null,
      "id": "99d6b68d",
      "metadata": {
        "id": "99d6b68d"
      },
      "outputs": [],
      "source": [
        "new_model = Model(inputs=model.input,\n",
        "                  outputs=model.layers[-2].output)"
      ]
    },
    {
      "cell_type": "markdown",
      "id": "7b197379",
      "metadata": {
        "id": "7b197379"
      },
      "source": [
        "Affichage du résumé de notre nouveau modèle où nous constatons <br />\n",
        "que <u>nous récupérons bien en sortie un vecteur de dimension (1, 1, 1280)</u> :"
      ]
    },
    {
      "cell_type": "code",
      "execution_count": null,
      "id": "e8207725",
      "metadata": {
        "id": "e8207725",
        "outputId": "1c037fcc-723d-4380-a2c3-db0e2cc00efb",
        "colab": {
          "base_uri": "https://localhost:8080/"
        },
        "collapsed": true
      },
      "outputs": [
        {
          "output_type": "stream",
          "name": "stdout",
          "text": [
            "Model: \"model\"\n",
            "__________________________________________________________________________________________________\n",
            " Layer (type)                   Output Shape         Param #     Connected to                     \n",
            "==================================================================================================\n",
            " input_1 (InputLayer)           [(None, 224, 224, 3  0           []                               \n",
            "                                )]                                                                \n",
            "                                                                                                  \n",
            " Conv1 (Conv2D)                 (None, 112, 112, 32  864         ['input_1[0][0]']                \n",
            "                                )                                                                 \n",
            "                                                                                                  \n",
            " bn_Conv1 (BatchNormalization)  (None, 112, 112, 32  128         ['Conv1[0][0]']                  \n",
            "                                )                                                                 \n",
            "                                                                                                  \n",
            " Conv1_relu (ReLU)              (None, 112, 112, 32  0           ['bn_Conv1[0][0]']               \n",
            "                                )                                                                 \n",
            "                                                                                                  \n",
            " expanded_conv_depthwise (Depth  (None, 112, 112, 32  288        ['Conv1_relu[0][0]']             \n",
            " wiseConv2D)                    )                                                                 \n",
            "                                                                                                  \n",
            " expanded_conv_depthwise_BN (Ba  (None, 112, 112, 32  128        ['expanded_conv_depthwise[0][0]']\n",
            " tchNormalization)              )                                                                 \n",
            "                                                                                                  \n",
            " expanded_conv_depthwise_relu (  (None, 112, 112, 32  0          ['expanded_conv_depthwise_BN[0][0\n",
            " ReLU)                          )                                ]']                              \n",
            "                                                                                                  \n",
            " expanded_conv_project (Conv2D)  (None, 112, 112, 16  512        ['expanded_conv_depthwise_relu[0]\n",
            "                                )                                [0]']                            \n",
            "                                                                                                  \n",
            " expanded_conv_project_BN (Batc  (None, 112, 112, 16  64         ['expanded_conv_project[0][0]']  \n",
            " hNormalization)                )                                                                 \n",
            "                                                                                                  \n",
            " block_1_expand (Conv2D)        (None, 112, 112, 96  1536        ['expanded_conv_project_BN[0][0]'\n",
            "                                )                                ]                                \n",
            "                                                                                                  \n",
            " block_1_expand_BN (BatchNormal  (None, 112, 112, 96  384        ['block_1_expand[0][0]']         \n",
            " ization)                       )                                                                 \n",
            "                                                                                                  \n",
            " block_1_expand_relu (ReLU)     (None, 112, 112, 96  0           ['block_1_expand_BN[0][0]']      \n",
            "                                )                                                                 \n",
            "                                                                                                  \n",
            " block_1_pad (ZeroPadding2D)    (None, 113, 113, 96  0           ['block_1_expand_relu[0][0]']    \n",
            "                                )                                                                 \n",
            "                                                                                                  \n",
            " block_1_depthwise (DepthwiseCo  (None, 56, 56, 96)  864         ['block_1_pad[0][0]']            \n",
            " nv2D)                                                                                            \n",
            "                                                                                                  \n",
            " block_1_depthwise_BN (BatchNor  (None, 56, 56, 96)  384         ['block_1_depthwise[0][0]']      \n",
            " malization)                                                                                      \n",
            "                                                                                                  \n",
            " block_1_depthwise_relu (ReLU)  (None, 56, 56, 96)   0           ['block_1_depthwise_BN[0][0]']   \n",
            "                                                                                                  \n",
            " block_1_project (Conv2D)       (None, 56, 56, 24)   2304        ['block_1_depthwise_relu[0][0]'] \n",
            "                                                                                                  \n",
            " block_1_project_BN (BatchNorma  (None, 56, 56, 24)  96          ['block_1_project[0][0]']        \n",
            " lization)                                                                                        \n",
            "                                                                                                  \n",
            " block_2_expand (Conv2D)        (None, 56, 56, 144)  3456        ['block_1_project_BN[0][0]']     \n",
            "                                                                                                  \n",
            " block_2_expand_BN (BatchNormal  (None, 56, 56, 144)  576        ['block_2_expand[0][0]']         \n",
            " ization)                                                                                         \n",
            "                                                                                                  \n",
            " block_2_expand_relu (ReLU)     (None, 56, 56, 144)  0           ['block_2_expand_BN[0][0]']      \n",
            "                                                                                                  \n",
            " block_2_depthwise (DepthwiseCo  (None, 56, 56, 144)  1296       ['block_2_expand_relu[0][0]']    \n",
            " nv2D)                                                                                            \n",
            "                                                                                                  \n",
            " block_2_depthwise_BN (BatchNor  (None, 56, 56, 144)  576        ['block_2_depthwise[0][0]']      \n",
            " malization)                                                                                      \n",
            "                                                                                                  \n",
            " block_2_depthwise_relu (ReLU)  (None, 56, 56, 144)  0           ['block_2_depthwise_BN[0][0]']   \n",
            "                                                                                                  \n",
            " block_2_project (Conv2D)       (None, 56, 56, 24)   3456        ['block_2_depthwise_relu[0][0]'] \n",
            "                                                                                                  \n",
            " block_2_project_BN (BatchNorma  (None, 56, 56, 24)  96          ['block_2_project[0][0]']        \n",
            " lization)                                                                                        \n",
            "                                                                                                  \n",
            " block_2_add (Add)              (None, 56, 56, 24)   0           ['block_1_project_BN[0][0]',     \n",
            "                                                                  'block_2_project_BN[0][0]']     \n",
            "                                                                                                  \n",
            " block_3_expand (Conv2D)        (None, 56, 56, 144)  3456        ['block_2_add[0][0]']            \n",
            "                                                                                                  \n",
            " block_3_expand_BN (BatchNormal  (None, 56, 56, 144)  576        ['block_3_expand[0][0]']         \n",
            " ization)                                                                                         \n",
            "                                                                                                  \n",
            " block_3_expand_relu (ReLU)     (None, 56, 56, 144)  0           ['block_3_expand_BN[0][0]']      \n",
            "                                                                                                  \n",
            " block_3_pad (ZeroPadding2D)    (None, 57, 57, 144)  0           ['block_3_expand_relu[0][0]']    \n",
            "                                                                                                  \n",
            " block_3_depthwise (DepthwiseCo  (None, 28, 28, 144)  1296       ['block_3_pad[0][0]']            \n",
            " nv2D)                                                                                            \n",
            "                                                                                                  \n",
            " block_3_depthwise_BN (BatchNor  (None, 28, 28, 144)  576        ['block_3_depthwise[0][0]']      \n",
            " malization)                                                                                      \n",
            "                                                                                                  \n",
            " block_3_depthwise_relu (ReLU)  (None, 28, 28, 144)  0           ['block_3_depthwise_BN[0][0]']   \n",
            "                                                                                                  \n",
            " block_3_project (Conv2D)       (None, 28, 28, 32)   4608        ['block_3_depthwise_relu[0][0]'] \n",
            "                                                                                                  \n",
            " block_3_project_BN (BatchNorma  (None, 28, 28, 32)  128         ['block_3_project[0][0]']        \n",
            " lization)                                                                                        \n",
            "                                                                                                  \n",
            " block_4_expand (Conv2D)        (None, 28, 28, 192)  6144        ['block_3_project_BN[0][0]']     \n",
            "                                                                                                  \n",
            " block_4_expand_BN (BatchNormal  (None, 28, 28, 192)  768        ['block_4_expand[0][0]']         \n",
            " ization)                                                                                         \n",
            "                                                                                                  \n",
            " block_4_expand_relu (ReLU)     (None, 28, 28, 192)  0           ['block_4_expand_BN[0][0]']      \n",
            "                                                                                                  \n",
            " block_4_depthwise (DepthwiseCo  (None, 28, 28, 192)  1728       ['block_4_expand_relu[0][0]']    \n",
            " nv2D)                                                                                            \n",
            "                                                                                                  \n",
            " block_4_depthwise_BN (BatchNor  (None, 28, 28, 192)  768        ['block_4_depthwise[0][0]']      \n",
            " malization)                                                                                      \n",
            "                                                                                                  \n",
            " block_4_depthwise_relu (ReLU)  (None, 28, 28, 192)  0           ['block_4_depthwise_BN[0][0]']   \n",
            "                                                                                                  \n",
            " block_4_project (Conv2D)       (None, 28, 28, 32)   6144        ['block_4_depthwise_relu[0][0]'] \n",
            "                                                                                                  \n",
            " block_4_project_BN (BatchNorma  (None, 28, 28, 32)  128         ['block_4_project[0][0]']        \n",
            " lization)                                                                                        \n",
            "                                                                                                  \n",
            " block_4_add (Add)              (None, 28, 28, 32)   0           ['block_3_project_BN[0][0]',     \n",
            "                                                                  'block_4_project_BN[0][0]']     \n",
            "                                                                                                  \n",
            " block_5_expand (Conv2D)        (None, 28, 28, 192)  6144        ['block_4_add[0][0]']            \n",
            "                                                                                                  \n",
            " block_5_expand_BN (BatchNormal  (None, 28, 28, 192)  768        ['block_5_expand[0][0]']         \n",
            " ization)                                                                                         \n",
            "                                                                                                  \n",
            " block_5_expand_relu (ReLU)     (None, 28, 28, 192)  0           ['block_5_expand_BN[0][0]']      \n",
            "                                                                                                  \n",
            " block_5_depthwise (DepthwiseCo  (None, 28, 28, 192)  1728       ['block_5_expand_relu[0][0]']    \n",
            " nv2D)                                                                                            \n",
            "                                                                                                  \n",
            " block_5_depthwise_BN (BatchNor  (None, 28, 28, 192)  768        ['block_5_depthwise[0][0]']      \n",
            " malization)                                                                                      \n",
            "                                                                                                  \n",
            " block_5_depthwise_relu (ReLU)  (None, 28, 28, 192)  0           ['block_5_depthwise_BN[0][0]']   \n",
            "                                                                                                  \n",
            " block_5_project (Conv2D)       (None, 28, 28, 32)   6144        ['block_5_depthwise_relu[0][0]'] \n",
            "                                                                                                  \n",
            " block_5_project_BN (BatchNorma  (None, 28, 28, 32)  128         ['block_5_project[0][0]']        \n",
            " lization)                                                                                        \n",
            "                                                                                                  \n",
            " block_5_add (Add)              (None, 28, 28, 32)   0           ['block_4_add[0][0]',            \n",
            "                                                                  'block_5_project_BN[0][0]']     \n",
            "                                                                                                  \n",
            " block_6_expand (Conv2D)        (None, 28, 28, 192)  6144        ['block_5_add[0][0]']            \n",
            "                                                                                                  \n",
            " block_6_expand_BN (BatchNormal  (None, 28, 28, 192)  768        ['block_6_expand[0][0]']         \n",
            " ization)                                                                                         \n",
            "                                                                                                  \n",
            " block_6_expand_relu (ReLU)     (None, 28, 28, 192)  0           ['block_6_expand_BN[0][0]']      \n",
            "                                                                                                  \n",
            " block_6_pad (ZeroPadding2D)    (None, 29, 29, 192)  0           ['block_6_expand_relu[0][0]']    \n",
            "                                                                                                  \n",
            " block_6_depthwise (DepthwiseCo  (None, 14, 14, 192)  1728       ['block_6_pad[0][0]']            \n",
            " nv2D)                                                                                            \n",
            "                                                                                                  \n",
            " block_6_depthwise_BN (BatchNor  (None, 14, 14, 192)  768        ['block_6_depthwise[0][0]']      \n",
            " malization)                                                                                      \n",
            "                                                                                                  \n",
            " block_6_depthwise_relu (ReLU)  (None, 14, 14, 192)  0           ['block_6_depthwise_BN[0][0]']   \n",
            "                                                                                                  \n",
            " block_6_project (Conv2D)       (None, 14, 14, 64)   12288       ['block_6_depthwise_relu[0][0]'] \n",
            "                                                                                                  \n",
            " block_6_project_BN (BatchNorma  (None, 14, 14, 64)  256         ['block_6_project[0][0]']        \n",
            " lization)                                                                                        \n",
            "                                                                                                  \n",
            " block_7_expand (Conv2D)        (None, 14, 14, 384)  24576       ['block_6_project_BN[0][0]']     \n",
            "                                                                                                  \n",
            " block_7_expand_BN (BatchNormal  (None, 14, 14, 384)  1536       ['block_7_expand[0][0]']         \n",
            " ization)                                                                                         \n",
            "                                                                                                  \n",
            " block_7_expand_relu (ReLU)     (None, 14, 14, 384)  0           ['block_7_expand_BN[0][0]']      \n",
            "                                                                                                  \n",
            " block_7_depthwise (DepthwiseCo  (None, 14, 14, 384)  3456       ['block_7_expand_relu[0][0]']    \n",
            " nv2D)                                                                                            \n",
            "                                                                                                  \n",
            " block_7_depthwise_BN (BatchNor  (None, 14, 14, 384)  1536       ['block_7_depthwise[0][0]']      \n",
            " malization)                                                                                      \n",
            "                                                                                                  \n",
            " block_7_depthwise_relu (ReLU)  (None, 14, 14, 384)  0           ['block_7_depthwise_BN[0][0]']   \n",
            "                                                                                                  \n",
            " block_7_project (Conv2D)       (None, 14, 14, 64)   24576       ['block_7_depthwise_relu[0][0]'] \n",
            "                                                                                                  \n",
            " block_7_project_BN (BatchNorma  (None, 14, 14, 64)  256         ['block_7_project[0][0]']        \n",
            " lization)                                                                                        \n",
            "                                                                                                  \n",
            " block_7_add (Add)              (None, 14, 14, 64)   0           ['block_6_project_BN[0][0]',     \n",
            "                                                                  'block_7_project_BN[0][0]']     \n",
            "                                                                                                  \n",
            " block_8_expand (Conv2D)        (None, 14, 14, 384)  24576       ['block_7_add[0][0]']            \n",
            "                                                                                                  \n",
            " block_8_expand_BN (BatchNormal  (None, 14, 14, 384)  1536       ['block_8_expand[0][0]']         \n",
            " ization)                                                                                         \n",
            "                                                                                                  \n",
            " block_8_expand_relu (ReLU)     (None, 14, 14, 384)  0           ['block_8_expand_BN[0][0]']      \n",
            "                                                                                                  \n",
            " block_8_depthwise (DepthwiseCo  (None, 14, 14, 384)  3456       ['block_8_expand_relu[0][0]']    \n",
            " nv2D)                                                                                            \n",
            "                                                                                                  \n",
            " block_8_depthwise_BN (BatchNor  (None, 14, 14, 384)  1536       ['block_8_depthwise[0][0]']      \n",
            " malization)                                                                                      \n",
            "                                                                                                  \n",
            " block_8_depthwise_relu (ReLU)  (None, 14, 14, 384)  0           ['block_8_depthwise_BN[0][0]']   \n",
            "                                                                                                  \n",
            " block_8_project (Conv2D)       (None, 14, 14, 64)   24576       ['block_8_depthwise_relu[0][0]'] \n",
            "                                                                                                  \n",
            " block_8_project_BN (BatchNorma  (None, 14, 14, 64)  256         ['block_8_project[0][0]']        \n",
            " lization)                                                                                        \n",
            "                                                                                                  \n",
            " block_8_add (Add)              (None, 14, 14, 64)   0           ['block_7_add[0][0]',            \n",
            "                                                                  'block_8_project_BN[0][0]']     \n",
            "                                                                                                  \n",
            " block_9_expand (Conv2D)        (None, 14, 14, 384)  24576       ['block_8_add[0][0]']            \n",
            "                                                                                                  \n",
            " block_9_expand_BN (BatchNormal  (None, 14, 14, 384)  1536       ['block_9_expand[0][0]']         \n",
            " ization)                                                                                         \n",
            "                                                                                                  \n",
            " block_9_expand_relu (ReLU)     (None, 14, 14, 384)  0           ['block_9_expand_BN[0][0]']      \n",
            "                                                                                                  \n",
            " block_9_depthwise (DepthwiseCo  (None, 14, 14, 384)  3456       ['block_9_expand_relu[0][0]']    \n",
            " nv2D)                                                                                            \n",
            "                                                                                                  \n",
            " block_9_depthwise_BN (BatchNor  (None, 14, 14, 384)  1536       ['block_9_depthwise[0][0]']      \n",
            " malization)                                                                                      \n",
            "                                                                                                  \n",
            " block_9_depthwise_relu (ReLU)  (None, 14, 14, 384)  0           ['block_9_depthwise_BN[0][0]']   \n",
            "                                                                                                  \n",
            " block_9_project (Conv2D)       (None, 14, 14, 64)   24576       ['block_9_depthwise_relu[0][0]'] \n",
            "                                                                                                  \n",
            " block_9_project_BN (BatchNorma  (None, 14, 14, 64)  256         ['block_9_project[0][0]']        \n",
            " lization)                                                                                        \n",
            "                                                                                                  \n",
            " block_9_add (Add)              (None, 14, 14, 64)   0           ['block_8_add[0][0]',            \n",
            "                                                                  'block_9_project_BN[0][0]']     \n",
            "                                                                                                  \n",
            " block_10_expand (Conv2D)       (None, 14, 14, 384)  24576       ['block_9_add[0][0]']            \n",
            "                                                                                                  \n",
            " block_10_expand_BN (BatchNorma  (None, 14, 14, 384)  1536       ['block_10_expand[0][0]']        \n",
            " lization)                                                                                        \n",
            "                                                                                                  \n",
            " block_10_expand_relu (ReLU)    (None, 14, 14, 384)  0           ['block_10_expand_BN[0][0]']     \n",
            "                                                                                                  \n",
            " block_10_depthwise (DepthwiseC  (None, 14, 14, 384)  3456       ['block_10_expand_relu[0][0]']   \n",
            " onv2D)                                                                                           \n",
            "                                                                                                  \n",
            " block_10_depthwise_BN (BatchNo  (None, 14, 14, 384)  1536       ['block_10_depthwise[0][0]']     \n",
            " rmalization)                                                                                     \n",
            "                                                                                                  \n",
            " block_10_depthwise_relu (ReLU)  (None, 14, 14, 384)  0          ['block_10_depthwise_BN[0][0]']  \n",
            "                                                                                                  \n",
            " block_10_project (Conv2D)      (None, 14, 14, 96)   36864       ['block_10_depthwise_relu[0][0]']\n",
            "                                                                                                  \n",
            " block_10_project_BN (BatchNorm  (None, 14, 14, 96)  384         ['block_10_project[0][0]']       \n",
            " alization)                                                                                       \n",
            "                                                                                                  \n",
            " block_11_expand (Conv2D)       (None, 14, 14, 576)  55296       ['block_10_project_BN[0][0]']    \n",
            "                                                                                                  \n",
            " block_11_expand_BN (BatchNorma  (None, 14, 14, 576)  2304       ['block_11_expand[0][0]']        \n",
            " lization)                                                                                        \n",
            "                                                                                                  \n",
            " block_11_expand_relu (ReLU)    (None, 14, 14, 576)  0           ['block_11_expand_BN[0][0]']     \n",
            "                                                                                                  \n",
            " block_11_depthwise (DepthwiseC  (None, 14, 14, 576)  5184       ['block_11_expand_relu[0][0]']   \n",
            " onv2D)                                                                                           \n",
            "                                                                                                  \n",
            " block_11_depthwise_BN (BatchNo  (None, 14, 14, 576)  2304       ['block_11_depthwise[0][0]']     \n",
            " rmalization)                                                                                     \n",
            "                                                                                                  \n",
            " block_11_depthwise_relu (ReLU)  (None, 14, 14, 576)  0          ['block_11_depthwise_BN[0][0]']  \n",
            "                                                                                                  \n",
            " block_11_project (Conv2D)      (None, 14, 14, 96)   55296       ['block_11_depthwise_relu[0][0]']\n",
            "                                                                                                  \n",
            " block_11_project_BN (BatchNorm  (None, 14, 14, 96)  384         ['block_11_project[0][0]']       \n",
            " alization)                                                                                       \n",
            "                                                                                                  \n",
            " block_11_add (Add)             (None, 14, 14, 96)   0           ['block_10_project_BN[0][0]',    \n",
            "                                                                  'block_11_project_BN[0][0]']    \n",
            "                                                                                                  \n",
            " block_12_expand (Conv2D)       (None, 14, 14, 576)  55296       ['block_11_add[0][0]']           \n",
            "                                                                                                  \n",
            " block_12_expand_BN (BatchNorma  (None, 14, 14, 576)  2304       ['block_12_expand[0][0]']        \n",
            " lization)                                                                                        \n",
            "                                                                                                  \n",
            " block_12_expand_relu (ReLU)    (None, 14, 14, 576)  0           ['block_12_expand_BN[0][0]']     \n",
            "                                                                                                  \n",
            " block_12_depthwise (DepthwiseC  (None, 14, 14, 576)  5184       ['block_12_expand_relu[0][0]']   \n",
            " onv2D)                                                                                           \n",
            "                                                                                                  \n",
            " block_12_depthwise_BN (BatchNo  (None, 14, 14, 576)  2304       ['block_12_depthwise[0][0]']     \n",
            " rmalization)                                                                                     \n",
            "                                                                                                  \n",
            " block_12_depthwise_relu (ReLU)  (None, 14, 14, 576)  0          ['block_12_depthwise_BN[0][0]']  \n",
            "                                                                                                  \n",
            " block_12_project (Conv2D)      (None, 14, 14, 96)   55296       ['block_12_depthwise_relu[0][0]']\n",
            "                                                                                                  \n",
            " block_12_project_BN (BatchNorm  (None, 14, 14, 96)  384         ['block_12_project[0][0]']       \n",
            " alization)                                                                                       \n",
            "                                                                                                  \n",
            " block_12_add (Add)             (None, 14, 14, 96)   0           ['block_11_add[0][0]',           \n",
            "                                                                  'block_12_project_BN[0][0]']    \n",
            "                                                                                                  \n",
            " block_13_expand (Conv2D)       (None, 14, 14, 576)  55296       ['block_12_add[0][0]']           \n",
            "                                                                                                  \n",
            " block_13_expand_BN (BatchNorma  (None, 14, 14, 576)  2304       ['block_13_expand[0][0]']        \n",
            " lization)                                                                                        \n",
            "                                                                                                  \n",
            " block_13_expand_relu (ReLU)    (None, 14, 14, 576)  0           ['block_13_expand_BN[0][0]']     \n",
            "                                                                                                  \n",
            " block_13_pad (ZeroPadding2D)   (None, 15, 15, 576)  0           ['block_13_expand_relu[0][0]']   \n",
            "                                                                                                  \n",
            " block_13_depthwise (DepthwiseC  (None, 7, 7, 576)   5184        ['block_13_pad[0][0]']           \n",
            " onv2D)                                                                                           \n",
            "                                                                                                  \n",
            " block_13_depthwise_BN (BatchNo  (None, 7, 7, 576)   2304        ['block_13_depthwise[0][0]']     \n",
            " rmalization)                                                                                     \n",
            "                                                                                                  \n",
            " block_13_depthwise_relu (ReLU)  (None, 7, 7, 576)   0           ['block_13_depthwise_BN[0][0]']  \n",
            "                                                                                                  \n",
            " block_13_project (Conv2D)      (None, 7, 7, 160)    92160       ['block_13_depthwise_relu[0][0]']\n",
            "                                                                                                  \n",
            " block_13_project_BN (BatchNorm  (None, 7, 7, 160)   640         ['block_13_project[0][0]']       \n",
            " alization)                                                                                       \n",
            "                                                                                                  \n",
            " block_14_expand (Conv2D)       (None, 7, 7, 960)    153600      ['block_13_project_BN[0][0]']    \n",
            "                                                                                                  \n",
            " block_14_expand_BN (BatchNorma  (None, 7, 7, 960)   3840        ['block_14_expand[0][0]']        \n",
            " lization)                                                                                        \n",
            "                                                                                                  \n",
            " block_14_expand_relu (ReLU)    (None, 7, 7, 960)    0           ['block_14_expand_BN[0][0]']     \n",
            "                                                                                                  \n",
            " block_14_depthwise (DepthwiseC  (None, 7, 7, 960)   8640        ['block_14_expand_relu[0][0]']   \n",
            " onv2D)                                                                                           \n",
            "                                                                                                  \n",
            " block_14_depthwise_BN (BatchNo  (None, 7, 7, 960)   3840        ['block_14_depthwise[0][0]']     \n",
            " rmalization)                                                                                     \n",
            "                                                                                                  \n",
            " block_14_depthwise_relu (ReLU)  (None, 7, 7, 960)   0           ['block_14_depthwise_BN[0][0]']  \n",
            "                                                                                                  \n",
            " block_14_project (Conv2D)      (None, 7, 7, 160)    153600      ['block_14_depthwise_relu[0][0]']\n",
            "                                                                                                  \n",
            " block_14_project_BN (BatchNorm  (None, 7, 7, 160)   640         ['block_14_project[0][0]']       \n",
            " alization)                                                                                       \n",
            "                                                                                                  \n",
            " block_14_add (Add)             (None, 7, 7, 160)    0           ['block_13_project_BN[0][0]',    \n",
            "                                                                  'block_14_project_BN[0][0]']    \n",
            "                                                                                                  \n",
            " block_15_expand (Conv2D)       (None, 7, 7, 960)    153600      ['block_14_add[0][0]']           \n",
            "                                                                                                  \n",
            " block_15_expand_BN (BatchNorma  (None, 7, 7, 960)   3840        ['block_15_expand[0][0]']        \n",
            " lization)                                                                                        \n",
            "                                                                                                  \n",
            " block_15_expand_relu (ReLU)    (None, 7, 7, 960)    0           ['block_15_expand_BN[0][0]']     \n",
            "                                                                                                  \n",
            " block_15_depthwise (DepthwiseC  (None, 7, 7, 960)   8640        ['block_15_expand_relu[0][0]']   \n",
            " onv2D)                                                                                           \n",
            "                                                                                                  \n",
            " block_15_depthwise_BN (BatchNo  (None, 7, 7, 960)   3840        ['block_15_depthwise[0][0]']     \n",
            " rmalization)                                                                                     \n",
            "                                                                                                  \n",
            " block_15_depthwise_relu (ReLU)  (None, 7, 7, 960)   0           ['block_15_depthwise_BN[0][0]']  \n",
            "                                                                                                  \n",
            " block_15_project (Conv2D)      (None, 7, 7, 160)    153600      ['block_15_depthwise_relu[0][0]']\n",
            "                                                                                                  \n",
            " block_15_project_BN (BatchNorm  (None, 7, 7, 160)   640         ['block_15_project[0][0]']       \n",
            " alization)                                                                                       \n",
            "                                                                                                  \n",
            " block_15_add (Add)             (None, 7, 7, 160)    0           ['block_14_add[0][0]',           \n",
            "                                                                  'block_15_project_BN[0][0]']    \n",
            "                                                                                                  \n",
            " block_16_expand (Conv2D)       (None, 7, 7, 960)    153600      ['block_15_add[0][0]']           \n",
            "                                                                                                  \n",
            " block_16_expand_BN (BatchNorma  (None, 7, 7, 960)   3840        ['block_16_expand[0][0]']        \n",
            " lization)                                                                                        \n",
            "                                                                                                  \n",
            " block_16_expand_relu (ReLU)    (None, 7, 7, 960)    0           ['block_16_expand_BN[0][0]']     \n",
            "                                                                                                  \n",
            " block_16_depthwise (DepthwiseC  (None, 7, 7, 960)   8640        ['block_16_expand_relu[0][0]']   \n",
            " onv2D)                                                                                           \n",
            "                                                                                                  \n",
            " block_16_depthwise_BN (BatchNo  (None, 7, 7, 960)   3840        ['block_16_depthwise[0][0]']     \n",
            " rmalization)                                                                                     \n",
            "                                                                                                  \n",
            " block_16_depthwise_relu (ReLU)  (None, 7, 7, 960)   0           ['block_16_depthwise_BN[0][0]']  \n",
            "                                                                                                  \n",
            " block_16_project (Conv2D)      (None, 7, 7, 320)    307200      ['block_16_depthwise_relu[0][0]']\n",
            "                                                                                                  \n",
            " block_16_project_BN (BatchNorm  (None, 7, 7, 320)   1280        ['block_16_project[0][0]']       \n",
            " alization)                                                                                       \n",
            "                                                                                                  \n",
            " Conv_1 (Conv2D)                (None, 7, 7, 1280)   409600      ['block_16_project_BN[0][0]']    \n",
            "                                                                                                  \n",
            " Conv_1_bn (BatchNormalization)  (None, 7, 7, 1280)  5120        ['Conv_1[0][0]']                 \n",
            "                                                                                                  \n",
            " out_relu (ReLU)                (None, 7, 7, 1280)   0           ['Conv_1_bn[0][0]']              \n",
            "                                                                                                  \n",
            " global_average_pooling2d (Glob  (None, 1280)        0           ['out_relu[0][0]']               \n",
            " alAveragePooling2D)                                                                              \n",
            "                                                                                                  \n",
            "==================================================================================================\n",
            "Total params: 2,257,984\n",
            "Trainable params: 2,223,872\n",
            "Non-trainable params: 34,112\n",
            "__________________________________________________________________________________________________\n"
          ]
        }
      ],
      "source": [
        "new_model.summary()"
      ]
    },
    {
      "cell_type": "markdown",
      "id": "2a0adcf5",
      "metadata": {
        "id": "2a0adcf5"
      },
      "source": [
        "Tous les workeurs doivent pouvoir accéder au modèle ainsi qu'à ses poids. <br />\n",
        "Une bonne pratique consiste à charger le modèle sur le driver puis à diffuser <br />\n",
        "ensuite les poids aux différents workeurs."
      ]
    },
    {
      "cell_type": "code",
      "execution_count": null,
      "id": "1cc53ff0",
      "metadata": {
        "id": "1cc53ff0"
      },
      "outputs": [],
      "source": [
        "brodcast_weights = sc.broadcast(new_model.get_weights())"
      ]
    },
    {
      "cell_type": "code",
      "source": [
        "brodcast_weights"
      ],
      "metadata": {
        "colab": {
          "base_uri": "https://localhost:8080/"
        },
        "id": "zYV8p7pSPywL",
        "outputId": "7c4e3ae8-9719-498d-a7e0-0cc378b3a715"
      },
      "id": "zYV8p7pSPywL",
      "execution_count": null,
      "outputs": [
        {
          "output_type": "execute_result",
          "data": {
            "text/plain": [
              "<pyspark.broadcast.Broadcast at 0x7f18e844bfd0>"
            ]
          },
          "metadata": {},
          "execution_count": 23
        }
      ]
    },
    {
      "cell_type": "markdown",
      "id": "8bc0e34e",
      "metadata": {
        "id": "8bc0e34e"
      },
      "source": [
        "<u>Mettons cela sous forme de fonction</u> :"
      ]
    },
    {
      "cell_type": "code",
      "execution_count": null,
      "id": "3fd51ba9",
      "metadata": {
        "id": "3fd51ba9"
      },
      "outputs": [],
      "source": [
        "def model_fn():\n",
        "    \"\"\"\n",
        "    Returns a MobileNetV2 model with top layer removed \n",
        "    and broadcasted pretrained weights.\n",
        "    \"\"\"\n",
        "    model = MobileNetV2(weights='imagenet',\n",
        "                        include_top=True,\n",
        "                        input_shape=(224, 224, 3))\n",
        "    for layer in model.layers:\n",
        "        layer.trainable = False\n",
        "    new_model = Model(inputs=model.input,\n",
        "                  outputs=model.layers[-2].output)\n",
        "    new_model.set_weights(brodcast_weights.value)\n",
        "    return new_model"
      ]
    },
    {
      "cell_type": "markdown",
      "id": "e5620876",
      "metadata": {
        "id": "e5620876"
      },
      "source": [
        "### 3.7.3 Définition du processus de chargement des images et application <br/>de leur featurisation à travers l'utilisation de pandas UDF\n",
        "\n",
        "Ce notebook définit la logique par étapes, jusqu'à Pandas UDF.\n",
        "\n",
        "<u>L'empilement des appels est la suivante</u> :\n",
        "\n",
        "- Pandas UDF\n",
        "  - featuriser une série d'images pd.Series\n",
        "   - prétraiter une image"
      ]
    },
    {
      "cell_type": "code",
      "execution_count": null,
      "id": "dc4e5f69",
      "metadata": {
        "id": "dc4e5f69",
        "outputId": "6bb62856-7964-45de-b46c-60e776491a76",
        "colab": {
          "base_uri": "https://localhost:8080/"
        }
      },
      "outputs": [
        {
          "output_type": "stream",
          "name": "stderr",
          "text": [
            "/usr/local/lib/python3.9/dist-packages/pyspark/sql/pandas/functions.py:389: UserWarning: In Python 3.6+ and Spark 3.0+, it is preferred to specify type hints for pandas UDF instead of specifying pandas UDF type which will be deprecated in the future releases. See SPARK-28264 for more details.\n",
            "  warnings.warn(\n"
          ]
        }
      ],
      "source": [
        "def preprocess(content):\n",
        "    \"\"\"\n",
        "    Preprocesses raw image bytes for prediction.\n",
        "    \"\"\"\n",
        "    img = Image.open(io.BytesIO(content)).resize([224, 224]) #Open image from binary objects content and resize it\n",
        "    arr = img_to_array(img) # Convert img to to array\n",
        "    return preprocess_input(arr) #Reshape to (224,224,3)\n",
        "\n",
        "def featurize_series(model, content_series):\n",
        "    \"\"\"\n",
        "    Featurize a pd.Series of raw images using the input model.\n",
        "    :return: a pd.Series of image features\n",
        "    \"\"\"\n",
        "    input = np.stack(content_series.map(preprocess))\n",
        "    preds = model.predict(input)\n",
        "    # For some layers, output features will be multi-dimensional tensors.\n",
        "    # We flatten the feature tensors to vectors for easier storage in Spark DataFrames.\n",
        "    output = [p.flatten() for p in preds]\n",
        "    return pd.Series(output)\n",
        "\n",
        "@pandas_udf('array<float>', PandasUDFType.SCALAR_ITER)\n",
        "def featurize_udf(content_series_iter):\n",
        "    '''\n",
        "    This method is a Scalar Iterator pandas UDF wrapping our featurization function.\n",
        "    The decorator specifies that this returns a Spark DataFrame column of type ArrayType(FloatType).\n",
        "\n",
        "    :param content_series_iter: This argument is an iterator over batches of data, where each batch\n",
        "                              is a pandas Series of image data.\n",
        "    '''\n",
        "    # With Scalar Iterator pandas UDFs, we can load the model once and then re-use it\n",
        "    # for multiple data batches.  This amortizes the overhead of loading big models.\n",
        "    model = model_fn() \n",
        "    #Weights broadcasting\n",
        "    model.set_weights(brodcast_weights.value)\n",
        "    for content_series in content_series_iter:\n",
        "        yield featurize_series(model, content_series)"
      ]
    },
    {
      "cell_type": "markdown",
      "id": "2bdf2ef9",
      "metadata": {
        "id": "2bdf2ef9"
      },
      "source": [
        "### 3.7.4 Exécution des actions d'extraction de features\n",
        "\n",
        "Les Pandas UDF, sur de grands enregistrements (par exemple, de très grandes images), <br />\n",
        "peuvent rencontrer des erreurs de type Out Of Memory (OOM).<br />\n",
        "Si vous rencontrez de telles erreurs dans la cellule ci-dessous, <br />\n",
        "essayez de réduire la taille du lot Arrow via 'maxRecordsPerBatch'\n",
        "\n",
        "Je n'utiliserai pas cette commande dans ce projet <br />\n",
        "et je laisse donc la commande en commentaire."
      ]
    },
    {
      "cell_type": "code",
      "execution_count": null,
      "id": "1f30d28c",
      "metadata": {
        "id": "1f30d28c"
      },
      "outputs": [],
      "source": [
        "# spark.conf.set(\"spark.sql.execution.arrow.maxRecordsPerBatch\", \"1024\")"
      ]
    },
    {
      "cell_type": "markdown",
      "id": "70f8f95d",
      "metadata": {
        "id": "70f8f95d"
      },
      "source": [
        "Nous pouvons maintenant exécuter la featurisation sur l'ensemble de notre DataFrame Spark.<br />\n",
        "<u>REMARQUE</u> : Cela peut prendre beaucoup de temps, tout dépend du volume de données à traiter. <br />\n",
        "\n",
        "Notre jeu de données de **Test** contient **22819 images**. <br />\n",
        "Cependant, dans l'exécution en mode **local**, <br />\n",
        "nous <u>traiterons un ensemble réduit de **330 images**</u>."
      ]
    },
    {
      "cell_type": "code",
      "execution_count": null,
      "id": "69c1767c",
      "metadata": {
        "id": "69c1767c",
        "colab": {
          "base_uri": "https://localhost:8080/",
          "height": 218
        },
        "outputId": "423721c9-e07b-4c83-9e11-47df4422b0f5"
      },
      "outputs": [
        {
          "output_type": "error",
          "ename": "NameError",
          "evalue": "ignored",
          "traceback": [
            "\u001b[0;31m---------------------------------------------------------------------------\u001b[0m",
            "\u001b[0;31mNameError\u001b[0m                                 Traceback (most recent call last)",
            "\u001b[0;32m<ipython-input-10-64fb9e1e1c76>\u001b[0m in \u001b[0;36m<cell line: 1>\u001b[0;34m()\u001b[0m\n\u001b[1;32m      1\u001b[0m features_df = images.repartition(20).select(col(\"path\"),\n\u001b[1;32m      2\u001b[0m                                             \u001b[0mcol\u001b[0m\u001b[0;34m(\u001b[0m\u001b[0;34m\"label\"\u001b[0m\u001b[0;34m)\u001b[0m\u001b[0;34m,\u001b[0m\u001b[0;34m\u001b[0m\u001b[0;34m\u001b[0m\u001b[0m\n\u001b[0;32m----> 3\u001b[0;31m                                             \u001b[0mfeaturize_udf\u001b[0m\u001b[0;34m(\u001b[0m\u001b[0;34m\"content\"\u001b[0m\u001b[0;34m)\u001b[0m\u001b[0;34m.\u001b[0m\u001b[0malias\u001b[0m\u001b[0;34m(\u001b[0m\u001b[0;34m\"features\"\u001b[0m\u001b[0;34m)\u001b[0m\u001b[0;34m\u001b[0m\u001b[0;34m\u001b[0m\u001b[0m\n\u001b[0m\u001b[1;32m      4\u001b[0m                                            )\n",
            "\u001b[0;31mNameError\u001b[0m: name 'featurize_udf' is not defined"
          ]
        }
      ],
      "source": [
        "features_df = images.repartition(20).select(col(\"path\"),\n",
        "                                            col(\"label\"),\n",
        "                                            featurize_udf(\"content\").alias(\"features\")\n",
        "                                           )"
      ]
    },
    {
      "cell_type": "markdown",
      "id": "eb5e83ec",
      "metadata": {
        "id": "eb5e83ec"
      },
      "source": [
        "<u>Rappel du PATH où seront inscrits les fichiers au format \"**parquet**\" <br />\n",
        "contenant nos résultats, à savoir, un DataFrame contenant 3 colonnes</u> :\n",
        " 1. Path des images\n",
        " 2. Label de l'image\n",
        " 3. Vecteur de caractéristiques de l'image"
      ]
    },
    {
      "cell_type": "code",
      "execution_count": null,
      "id": "67fcdb0f",
      "metadata": {
        "id": "67fcdb0f",
        "outputId": "bffd48c1-08c2-4ac2-a1dc-ed2e162afbcd",
        "colab": {
          "base_uri": "https://localhost:8080/"
        }
      },
      "outputs": [
        {
          "output_type": "stream",
          "name": "stdout",
          "text": [
            "/content/drive/MyDrive/Colab Notebooks/P8-Fruits/P8_Mode_opératoire/data/Results\n"
          ]
        }
      ],
      "source": [
        "print(PATH_Result)"
      ]
    },
    {
      "cell_type": "code",
      "source": [
        "type(images)"
      ],
      "metadata": {
        "colab": {
          "base_uri": "https://localhost:8080/"
        },
        "id": "-ODt3F1IxdKM",
        "outputId": "5dd2c19d-00dc-40b0-e19f-90293dc9ca78"
      },
      "id": "-ODt3F1IxdKM",
      "execution_count": null,
      "outputs": [
        {
          "output_type": "execute_result",
          "data": {
            "text/plain": [
              "pyspark.sql.dataframe.DataFrame"
            ]
          },
          "metadata": {},
          "execution_count": 28
        }
      ]
    },
    {
      "cell_type": "markdown",
      "id": "f8901db3",
      "metadata": {
        "id": "f8901db3"
      },
      "source": [
        "<u>Enregistrement des données traitées au format \"**parquet**\"</u> :"
      ]
    },
    {
      "cell_type": "code",
      "execution_count": null,
      "id": "95d07466",
      "metadata": {
        "id": "95d07466"
      },
      "outputs": [],
      "source": [
        "features_df.write.mode(\"overwrite\").parquet(PATH_Result)"
      ]
    },
    {
      "cell_type": "markdown",
      "id": "f9506f21",
      "metadata": {
        "id": "f9506f21"
      },
      "source": [
        "## 3.8 Chargement des données enregistrées et validation du résultat\n",
        "\n",
        "<u>On charge les données fraichement enregistrées dans un **DataFrame Pandas**</u> :"
      ]
    },
    {
      "cell_type": "code",
      "execution_count": null,
      "id": "19243bf5",
      "metadata": {
        "id": "19243bf5"
      },
      "outputs": [],
      "source": [
        "df = pd.read_parquet(PATH_Result, engine='pyarrow')"
      ]
    },
    {
      "cell_type": "markdown",
      "id": "27f15070",
      "metadata": {
        "id": "27f15070"
      },
      "source": [
        "<u>On affiche les 5 premières lignes du DataFrame</u> :"
      ]
    },
    {
      "cell_type": "code",
      "execution_count": null,
      "id": "8a1bcdeb",
      "metadata": {
        "id": "8a1bcdeb",
        "outputId": "53e65787-4a77-45ae-dd52-c0e5d7d1ca41",
        "colab": {
          "base_uri": "https://localhost:8080/",
          "height": 206
        }
      },
      "outputs": [
        {
          "output_type": "execute_result",
          "data": {
            "text/plain": [
              "                                                path             label  \\\n",
              "0  file:/content/drive/MyDrive/Colab Notebooks/P8...            pear_1   \n",
              "1  file:/content/drive/MyDrive/Colab Notebooks/P8...  apple_braeburn_1   \n",
              "2  file:/content/drive/MyDrive/Colab Notebooks/P8...   zucchini_dark_1   \n",
              "3  file:/content/drive/MyDrive/Colab Notebooks/P8...  apple_braeburn_1   \n",
              "4  file:/content/drive/MyDrive/Colab Notebooks/P8...   zucchini_dark_1   \n",
              "\n",
              "                                            features  \n",
              "0  [1.0626231, 0.11354711, 0.0, 0.0, 0.0, 0.05484...  \n",
              "1  [0.04310427, 0.066478096, 0.0, 0.0, 0.0, 0.554...  \n",
              "2  [0.17094472, 0.008105326, 0.7820679, 0.0, 1.13...  \n",
              "3  [0.120135434, 0.014146357, 0.0, 0.0, 0.0, 0.82...  \n",
              "4  [0.2212768, 0.0, 0.34022278, 0.030905694, 2.84...  "
            ],
            "text/html": [
              "\n",
              "  <div id=\"df-b8071254-7a71-4de7-8eb5-0121caadd2ef\">\n",
              "    <div class=\"colab-df-container\">\n",
              "      <div>\n",
              "<style scoped>\n",
              "    .dataframe tbody tr th:only-of-type {\n",
              "        vertical-align: middle;\n",
              "    }\n",
              "\n",
              "    .dataframe tbody tr th {\n",
              "        vertical-align: top;\n",
              "    }\n",
              "\n",
              "    .dataframe thead th {\n",
              "        text-align: right;\n",
              "    }\n",
              "</style>\n",
              "<table border=\"1\" class=\"dataframe\">\n",
              "  <thead>\n",
              "    <tr style=\"text-align: right;\">\n",
              "      <th></th>\n",
              "      <th>path</th>\n",
              "      <th>label</th>\n",
              "      <th>features</th>\n",
              "    </tr>\n",
              "  </thead>\n",
              "  <tbody>\n",
              "    <tr>\n",
              "      <th>0</th>\n",
              "      <td>file:/content/drive/MyDrive/Colab Notebooks/P8...</td>\n",
              "      <td>pear_1</td>\n",
              "      <td>[1.0626231, 0.11354711, 0.0, 0.0, 0.0, 0.05484...</td>\n",
              "    </tr>\n",
              "    <tr>\n",
              "      <th>1</th>\n",
              "      <td>file:/content/drive/MyDrive/Colab Notebooks/P8...</td>\n",
              "      <td>apple_braeburn_1</td>\n",
              "      <td>[0.04310427, 0.066478096, 0.0, 0.0, 0.0, 0.554...</td>\n",
              "    </tr>\n",
              "    <tr>\n",
              "      <th>2</th>\n",
              "      <td>file:/content/drive/MyDrive/Colab Notebooks/P8...</td>\n",
              "      <td>zucchini_dark_1</td>\n",
              "      <td>[0.17094472, 0.008105326, 0.7820679, 0.0, 1.13...</td>\n",
              "    </tr>\n",
              "    <tr>\n",
              "      <th>3</th>\n",
              "      <td>file:/content/drive/MyDrive/Colab Notebooks/P8...</td>\n",
              "      <td>apple_braeburn_1</td>\n",
              "      <td>[0.120135434, 0.014146357, 0.0, 0.0, 0.0, 0.82...</td>\n",
              "    </tr>\n",
              "    <tr>\n",
              "      <th>4</th>\n",
              "      <td>file:/content/drive/MyDrive/Colab Notebooks/P8...</td>\n",
              "      <td>zucchini_dark_1</td>\n",
              "      <td>[0.2212768, 0.0, 0.34022278, 0.030905694, 2.84...</td>\n",
              "    </tr>\n",
              "  </tbody>\n",
              "</table>\n",
              "</div>\n",
              "      <button class=\"colab-df-convert\" onclick=\"convertToInteractive('df-b8071254-7a71-4de7-8eb5-0121caadd2ef')\"\n",
              "              title=\"Convert this dataframe to an interactive table.\"\n",
              "              style=\"display:none;\">\n",
              "        \n",
              "  <svg xmlns=\"http://www.w3.org/2000/svg\" height=\"24px\"viewBox=\"0 0 24 24\"\n",
              "       width=\"24px\">\n",
              "    <path d=\"M0 0h24v24H0V0z\" fill=\"none\"/>\n",
              "    <path d=\"M18.56 5.44l.94 2.06.94-2.06 2.06-.94-2.06-.94-.94-2.06-.94 2.06-2.06.94zm-11 1L8.5 8.5l.94-2.06 2.06-.94-2.06-.94L8.5 2.5l-.94 2.06-2.06.94zm10 10l.94 2.06.94-2.06 2.06-.94-2.06-.94-.94-2.06-.94 2.06-2.06.94z\"/><path d=\"M17.41 7.96l-1.37-1.37c-.4-.4-.92-.59-1.43-.59-.52 0-1.04.2-1.43.59L10.3 9.45l-7.72 7.72c-.78.78-.78 2.05 0 2.83L4 21.41c.39.39.9.59 1.41.59.51 0 1.02-.2 1.41-.59l7.78-7.78 2.81-2.81c.8-.78.8-2.07 0-2.86zM5.41 20L4 18.59l7.72-7.72 1.47 1.35L5.41 20z\"/>\n",
              "  </svg>\n",
              "      </button>\n",
              "      \n",
              "  <style>\n",
              "    .colab-df-container {\n",
              "      display:flex;\n",
              "      flex-wrap:wrap;\n",
              "      gap: 12px;\n",
              "    }\n",
              "\n",
              "    .colab-df-convert {\n",
              "      background-color: #E8F0FE;\n",
              "      border: none;\n",
              "      border-radius: 50%;\n",
              "      cursor: pointer;\n",
              "      display: none;\n",
              "      fill: #1967D2;\n",
              "      height: 32px;\n",
              "      padding: 0 0 0 0;\n",
              "      width: 32px;\n",
              "    }\n",
              "\n",
              "    .colab-df-convert:hover {\n",
              "      background-color: #E2EBFA;\n",
              "      box-shadow: 0px 1px 2px rgba(60, 64, 67, 0.3), 0px 1px 3px 1px rgba(60, 64, 67, 0.15);\n",
              "      fill: #174EA6;\n",
              "    }\n",
              "\n",
              "    [theme=dark] .colab-df-convert {\n",
              "      background-color: #3B4455;\n",
              "      fill: #D2E3FC;\n",
              "    }\n",
              "\n",
              "    [theme=dark] .colab-df-convert:hover {\n",
              "      background-color: #434B5C;\n",
              "      box-shadow: 0px 1px 3px 1px rgba(0, 0, 0, 0.15);\n",
              "      filter: drop-shadow(0px 1px 2px rgba(0, 0, 0, 0.3));\n",
              "      fill: #FFFFFF;\n",
              "    }\n",
              "  </style>\n",
              "\n",
              "      <script>\n",
              "        const buttonEl =\n",
              "          document.querySelector('#df-b8071254-7a71-4de7-8eb5-0121caadd2ef button.colab-df-convert');\n",
              "        buttonEl.style.display =\n",
              "          google.colab.kernel.accessAllowed ? 'block' : 'none';\n",
              "\n",
              "        async function convertToInteractive(key) {\n",
              "          const element = document.querySelector('#df-b8071254-7a71-4de7-8eb5-0121caadd2ef');\n",
              "          const dataTable =\n",
              "            await google.colab.kernel.invokeFunction('convertToInteractive',\n",
              "                                                     [key], {});\n",
              "          if (!dataTable) return;\n",
              "\n",
              "          const docLinkHtml = 'Like what you see? Visit the ' +\n",
              "            '<a target=\"_blank\" href=https://colab.research.google.com/notebooks/data_table.ipynb>data table notebook</a>'\n",
              "            + ' to learn more about interactive tables.';\n",
              "          element.innerHTML = '';\n",
              "          dataTable['output_type'] = 'display_data';\n",
              "          await google.colab.output.renderOutput(dataTable, element);\n",
              "          const docLink = document.createElement('div');\n",
              "          docLink.innerHTML = docLinkHtml;\n",
              "          element.appendChild(docLink);\n",
              "        }\n",
              "      </script>\n",
              "    </div>\n",
              "  </div>\n",
              "  "
            ]
          },
          "metadata": {},
          "execution_count": 12
        }
      ],
      "source": [
        "df.head()"
      ]
    },
    {
      "cell_type": "markdown",
      "id": "e2794fca",
      "metadata": {
        "id": "e2794fca"
      },
      "source": [
        "<u>On valide que la dimension du vecteur de caractéristiques des images est bien de dimension 1280</u> :"
      ]
    },
    {
      "cell_type": "code",
      "execution_count": null,
      "id": "0bb933b9",
      "metadata": {
        "id": "0bb933b9",
        "outputId": "eb3dc40f-b4bb-41ef-dfcd-601f4eeef894",
        "colab": {
          "base_uri": "https://localhost:8080/"
        }
      },
      "outputs": [
        {
          "output_type": "execute_result",
          "data": {
            "text/plain": [
              "(1280,)"
            ]
          },
          "metadata": {},
          "execution_count": 13
        }
      ],
      "source": [
        "df.loc[0,'features'].shape"
      ]
    },
    {
      "cell_type": "code",
      "source": [
        "df1 = spark.read.parquet(PATH_Result)"
      ],
      "metadata": {
        "id": "6YQ-oi5WxD3x"
      },
      "id": "6YQ-oi5WxD3x",
      "execution_count": null,
      "outputs": []
    },
    {
      "cell_type": "code",
      "source": [
        "df1.printSchema()"
      ],
      "metadata": {
        "colab": {
          "base_uri": "https://localhost:8080/"
        },
        "id": "Yl8Xxl9Y1hQj",
        "outputId": "2d89ad82-5aad-4a9b-fdd6-f7f7435ccd88"
      },
      "id": "Yl8Xxl9Y1hQj",
      "execution_count": null,
      "outputs": [
        {
          "output_type": "stream",
          "name": "stdout",
          "text": [
            "root\n",
            " |-- path: string (nullable = true)\n",
            " |-- label: string (nullable = true)\n",
            " |-- features: array (nullable = true)\n",
            " |    |-- element: float (containsNull = true)\n",
            "\n"
          ]
        }
      ]
    },
    {
      "cell_type": "markdown",
      "source": [
        "## 3.9 Standard scalering image features"
      ],
      "metadata": {
        "id": "0oA1Ta7vhu6R"
      },
      "id": "0oA1Ta7vhu6R"
    },
    {
      "cell_type": "code",
      "source": [
        "from pyspark.ml.linalg import VectorUDT, Vectors\n",
        "from pyspark.sql.functions import udf\n",
        "from pyspark.sql.types import ArrayType, DoubleType\n",
        "\n",
        "# define a UDF for converting numpy arrays to PySpark VectorUDT objects\n",
        "numpy_to_vector = udf(lambda a: Vectors.dense(a), returnType=VectorUDT())\n",
        "\n",
        "# apply the UDF to the 'features' column to create a new column of VectorUDT objects\n",
        "df1 = df1.withColumn('features_vector', numpy_to_vector(df1['features']))\n",
        "df1 = df1.withColumn('label_red', element_at(split(df1['label'], '_'),1))\n",
        "# drop the original 'features' column\n",
        "#df = df.drop('features')"
      ],
      "metadata": {
        "id": "6lyAv4zq2Xjk"
      },
      "id": "6lyAv4zq2Xjk",
      "execution_count": null,
      "outputs": []
    },
    {
      "cell_type": "code",
      "source": [
        "df1.show()"
      ],
      "metadata": {
        "colab": {
          "base_uri": "https://localhost:8080/"
        },
        "id": "ThLtKwUo8Ini",
        "outputId": "7b6d5aa6-3cc7-4b5b-a4a3-1f30240029d9"
      },
      "id": "ThLtKwUo8Ini",
      "execution_count": null,
      "outputs": [
        {
          "output_type": "stream",
          "name": "stdout",
          "text": [
            "+--------------------+---------------+--------------------+--------------------+---------+\n",
            "|                path|          label|            features|     features_vector|label_red|\n",
            "+--------------------+---------------+--------------------+--------------------+---------+\n",
            "|file:/content/dri...|     cucumber_3|[0.47135264, 0.64...|[0.47135263681411...| cucumber|\n",
            "|file:/content/dri...|         pear_3|[1.4832611, 0.0, ...|[1.48326110839843...|     pear|\n",
            "|file:/content/dri...|         pear_1|[1.0241469, 0.115...|[1.02414691448211...|     pear|\n",
            "|file:/content/dri...|     zucchini_1|[0.0, 0.70493853,...|[0.0,0.7049385309...| zucchini|\n",
            "|file:/content/dri...|zucchini_dark_1|[0.34860915, 0.0,...|[0.34860914945602...| zucchini|\n",
            "|file:/content/dri...|zucchini_dark_1|[0.17964712, 0.0,...|[0.17964711785316...| zucchini|\n",
            "|file:/content/dri...|        apple_6|[0.022195164, 0.3...|[0.02219516411423...|    apple|\n",
            "|file:/content/dri...|        apple_6|[0.10118419, 0.85...|[0.10118418931961...|    apple|\n",
            "|file:/content/dri...|        apple_6|[0.013050653, 0.4...|[0.01305065304040...|    apple|\n",
            "|file:/content/dri...|        apple_6|[0.39738423, 0.45...|[0.39738422632217...|    apple|\n",
            "|file:/content/dri...|        apple_6|[0.033550497, 0.4...|[0.03355049714446...|    apple|\n",
            "|file:/content/dri...|        apple_6|[0.021785308, 1.2...|[0.02178530767560...|    apple|\n",
            "|file:/content/dri...|        apple_6|[0.053463314, 1.2...|[0.05346331372857...|    apple|\n",
            "|file:/content/dri...|     cucumber_3|[0.84237564, 0.76...|[0.84237563610076...| cucumber|\n",
            "|file:/content/dri...|     cucumber_1|[1.6268797, 0.010...|[1.62687969207763...| cucumber|\n",
            "|file:/content/dri...|     zucchini_1|[0.0019634208, 0....|[0.00196342077106...| zucchini|\n",
            "|file:/content/dri...|zucchini_dark_1|[0.13799514, 0.0,...|[0.13799513876438...| zucchini|\n",
            "|file:/content/dri...|zucchini_dark_1|[0.07329515, 0.0,...|[0.07329515367746...| zucchini|\n",
            "|file:/content/dri...|       carrot_1|[0.2981051, 0.160...|[0.29810509085655...|   carrot|\n",
            "|file:/content/dri...|        apple_6|[0.0, 0.19224256,...|[0.0,0.1922425627...|    apple|\n",
            "+--------------------+---------------+--------------------+--------------------+---------+\n",
            "only showing top 20 rows\n",
            "\n"
          ]
        }
      ]
    },
    {
      "cell_type": "code",
      "source": [
        "scaler = StandardScaler(\n",
        "    inputCol = 'features_vector', \n",
        "    outputCol = 'scaledFeatures',\n",
        "    withMean = True,\n",
        "    withStd = True\n",
        ").fit(df1)\n",
        "\n",
        "# when we transform the dataframe, the old\n",
        "# feature will still remain in it\n",
        "df_scaled = scaler.transform(df1)\n",
        "df_scaled.show(6)"
      ],
      "metadata": {
        "colab": {
          "base_uri": "https://localhost:8080/"
        },
        "id": "7zYqiS7Yh-3m",
        "outputId": "a7e2e6e5-9639-4c39-e0c0-5087f8501fd9"
      },
      "id": "7zYqiS7Yh-3m",
      "execution_count": null,
      "outputs": [
        {
          "output_type": "stream",
          "name": "stdout",
          "text": [
            "+--------------------+---------------+--------------------+--------------------+---------+--------------------+\n",
            "|                path|          label|            features|     features_vector|label_red|      scaledFeatures|\n",
            "+--------------------+---------------+--------------------+--------------------+---------+--------------------+\n",
            "|file:/content/dri...|     cucumber_3|[0.47135264, 0.64...|[0.47135263681411...| cucumber|[0.42540941346383...|\n",
            "|file:/content/dri...|         pear_3|[1.4832611, 0.0, ...|[1.48326110839843...|     pear|[2.87794599661208...|\n",
            "|file:/content/dri...|         pear_1|[1.0241469, 0.115...|[1.02414691448211...|     pear|[1.76520271197543...|\n",
            "|file:/content/dri...|     zucchini_1|[0.0, 0.70493853,...|[0.0,0.7049385309...| zucchini|[-0.7169958710181...|\n",
            "|file:/content/dri...|zucchini_dark_1|[0.34860915, 0.0,...|[0.34860914945602...| zucchini|[0.12791917443303...|\n",
            "|file:/content/dri...|zucchini_dark_1|[0.17964712, 0.0,...|[0.17964711785316...| zucchini|[-0.2815897636829...|\n",
            "+--------------------+---------------+--------------------+--------------------+---------+--------------------+\n",
            "only showing top 6 rows\n",
            "\n"
          ]
        }
      ]
    },
    {
      "cell_type": "code",
      "source": [
        "df_scaled.printSchema()"
      ],
      "metadata": {
        "colab": {
          "base_uri": "https://localhost:8080/"
        },
        "id": "gZYIsykV6g_a",
        "outputId": "d602ea45-b693-462b-f00a-99224d9e6426"
      },
      "id": "gZYIsykV6g_a",
      "execution_count": null,
      "outputs": [
        {
          "output_type": "stream",
          "name": "stdout",
          "text": [
            "root\n",
            " |-- path: string (nullable = true)\n",
            " |-- label: string (nullable = true)\n",
            " |-- features: array (nullable = true)\n",
            " |    |-- element: float (containsNull = true)\n",
            " |-- features_vector: vector (nullable = true)\n",
            " |-- label_red: string (nullable = true)\n",
            " |-- scaledFeatures: vector (nullable = true)\n",
            "\n"
          ]
        }
      ]
    },
    {
      "cell_type": "markdown",
      "source": [
        "## 3.10 Performing PCA"
      ],
      "metadata": {
        "id": "f9fG7puLk_fJ"
      },
      "id": "f9fG7puLk_fJ"
    },
    {
      "cell_type": "code",
      "source": [
        "n_components = 20\n",
        "pca = PCA(\n",
        "    k = n_components, \n",
        "    inputCol = 'scaledFeatures', \n",
        "    outputCol = 'pcaFeatures'\n",
        ").fit(df_scaled)\n",
        "print('Cumulative variance', pca.explainedVariance.toArray().sum())"
      ],
      "metadata": {
        "colab": {
          "base_uri": "https://localhost:8080/",
          "height": 235
        },
        "id": "yA96VxQElGlQ",
        "outputId": "67d2f476-17a7-4807-feec-d9b8c6b80a11"
      },
      "id": "yA96VxQElGlQ",
      "execution_count": null,
      "outputs": [
        {
          "output_type": "error",
          "ename": "NameError",
          "evalue": "ignored",
          "traceback": [
            "\u001b[0;31m---------------------------------------------------------------------------\u001b[0m",
            "\u001b[0;31mNameError\u001b[0m                                 Traceback (most recent call last)",
            "\u001b[0;32m<ipython-input-1-1754d21ee66d>\u001b[0m in \u001b[0;36m<cell line: 2>\u001b[0;34m()\u001b[0m\n\u001b[1;32m      1\u001b[0m \u001b[0mn_components\u001b[0m \u001b[0;34m=\u001b[0m \u001b[0;36m20\u001b[0m\u001b[0;34m\u001b[0m\u001b[0;34m\u001b[0m\u001b[0m\n\u001b[0;32m----> 2\u001b[0;31m pca = PCA(\n\u001b[0m\u001b[1;32m      3\u001b[0m     \u001b[0mk\u001b[0m \u001b[0;34m=\u001b[0m \u001b[0mn_components\u001b[0m\u001b[0;34m,\u001b[0m\u001b[0;34m\u001b[0m\u001b[0;34m\u001b[0m\u001b[0m\n\u001b[1;32m      4\u001b[0m     \u001b[0minputCol\u001b[0m \u001b[0;34m=\u001b[0m \u001b[0;34m'scaledFeatures'\u001b[0m\u001b[0;34m,\u001b[0m\u001b[0;34m\u001b[0m\u001b[0;34m\u001b[0m\u001b[0m\n\u001b[1;32m      5\u001b[0m     \u001b[0moutputCol\u001b[0m \u001b[0;34m=\u001b[0m \u001b[0;34m'pcaFeatures'\u001b[0m\u001b[0;34m\u001b[0m\u001b[0;34m\u001b[0m\u001b[0m\n",
            "\u001b[0;31mNameError\u001b[0m: name 'PCA' is not defined"
          ]
        }
      ]
    },
    {
      "cell_type": "code",
      "source": [
        "variances = pca.explainedVariance.toArray()\n",
        "# Compute the cumulative explained variance\n",
        "cumulative_variances = np.cumsum(variances)\n",
        "\n",
        "# Plot the explained variance ratios\n",
        "plt.bar(range(1, n_components + 1), variances, label='Individual explained variance')\n",
        "plt.plot(range(1, n_components + 1), cumulative_variances,'-s', label='Cumulative explained variance', color='red')\n",
        "plt.xlabel('Number of principal components')\n",
        "plt.ylabel('Explained variance ratio')\n",
        "plt.legend(loc='best')\n",
        "plt.show()"
      ],
      "metadata": {
        "colab": {
          "base_uri": "https://localhost:8080/",
          "height": 449
        },
        "id": "3fLfP7yNmQtQ",
        "outputId": "8e04eef1-f3cd-43b8-bf7d-4d543ce64828"
      },
      "id": "3fLfP7yNmQtQ",
      "execution_count": null,
      "outputs": [
        {
          "output_type": "display_data",
          "data": {
            "text/plain": [
              "<Figure size 640x480 with 1 Axes>"
            ],
            "image/png": "[encoded data removed]"
          },
          "metadata": {}
        }
      ]
    },
    {
      "cell_type": "code",
      "source": [
        "n_components = 2\n",
        "Pca = PCA(\n",
        "    k = n_components, \n",
        "    inputCol = 'scaledFeatures', \n",
        "    outputCol = 'pcaFeatures'\n",
        ").fit(df_scaled)\n",
        "\n",
        "df_pca = Pca.transform(df_scaled)\n",
        "print('Explained Variance Ratio', Pca.explainedVariance.toArray())\n",
        "df_pca.show(6)\n",
        "X_pca = df_pca.rdd.map(lambda row: row.pcaFeatures).collect()\n",
        "X_pca = np.array(X_pca)"
      ],
      "metadata": {
        "colab": {
          "base_uri": "https://localhost:8080/"
        },
        "id": "9-eCglmzmMXq",
        "outputId": "2ed3a98e-a22b-4367-c231-08ca1eef2ce1"
      },
      "id": "9-eCglmzmMXq",
      "execution_count": null,
      "outputs": [
        {
          "output_type": "stream",
          "name": "stdout",
          "text": [
            "Explained Variance Ratio [0.15652207 0.07429275]\n",
            "+--------------------+---------------+--------------------+--------------------+---------+--------------------+--------------------+\n",
            "|                path|          label|            features|     features_vector|label_red|      scaledFeatures|         pcaFeatures|\n",
            "+--------------------+---------------+--------------------+--------------------+---------+--------------------+--------------------+\n",
            "|file:/content/dri...|     cucumber_3|[0.47135264, 0.64...|[0.47135263681411...| cucumber|[0.42540941346383...|[11.3596894459071...|\n",
            "|file:/content/dri...|         pear_3|[1.4832611, 0.0, ...|[1.48326110839843...|     pear|[2.87794599661208...|[-4.1495691193120...|\n",
            "|file:/content/dri...|         pear_1|[1.0241469, 0.115...|[1.02414691448211...|     pear|[1.76520271197543...|[-7.5617186423112...|\n",
            "|file:/content/dri...|     zucchini_1|[0.0, 0.70493853,...|[0.0,0.7049385309...| zucchini|[-0.7169958710181...|[19.1052957723427...|\n",
            "|file:/content/dri...|zucchini_dark_1|[0.34860915, 0.0,...|[0.34860914945602...| zucchini|[0.12791917443303...|[27.9604274490659...|\n",
            "|file:/content/dri...|zucchini_dark_1|[0.17964712, 0.0,...|[0.17964711785316...| zucchini|[-0.2815897636829...|[30.0047288403945...|\n",
            "+--------------------+---------------+--------------------+--------------------+---------+--------------------+--------------------+\n",
            "only showing top 6 rows\n",
            "\n"
          ]
        }
      ]
    },
    {
      "cell_type": "code",
      "source": [
        "# change default style figure and font size\n",
        "def plot_pca(X, y):\n",
        "    \"\"\"Plot of the 2-dimensional image features\"\"\"\n",
        "    labels = np.array(df2.select('label').rdd.flatMap(lambda x: x).collect())\n",
        "    u_labels = np.unique(labels)\n",
        "\n",
        "    for i in u_labels:\n",
        "        plt.scatter(X[labels == i , 0] , X[labels == i , 1] , label = f'{i}')\n",
        "    plt.title(f'PCA Scatter plot', fontsize=14 )\n",
        "    plt.legend(loc='upper right')# bbox_to_anchor=(0.5, -0.2), ncol=len(u_labels)) #,\n",
        "    plt.show()"
      ],
      "metadata": {
        "id": "e0BAe4bV-djr"
      },
      "id": "e0BAe4bV-djr",
      "execution_count": null,
      "outputs": []
    },
    {
      "cell_type": "code",
      "source": [
        "plot_pca(X_pca, \"label_red\")"
      ],
      "metadata": {
        "colab": {
          "base_uri": "https://localhost:8080/",
          "height": 569
        },
        "id": "sMoFTtrF_PeV",
        "outputId": "b7f7069a-5f7b-4822-d226-3005cd362005"
      },
      "id": "sMoFTtrF_PeV",
      "execution_count": null,
      "outputs": [
        {
          "output_type": "display_data",
          "data": {
            "text/plain": [
              "<Figure size 800x600 with 1 Axes>"
            ],
            "image/png": "[encoded data removed]"
          },
          "metadata": {}
        }
      ]
    },
    {
      "cell_type": "markdown",
      "source": [
        "Save PCA dataframe"
      ],
      "metadata": {
        "id": "2SD1mEXzvk7Y"
      },
      "id": "2SD1mEXzvk7Y"
    },
    {
      "cell_type": "code",
      "source": [
        "PATH_pca = PATH+'/data/Results/PcaFeatures'\n",
        "df_pca.write.mode(\"overwrite\").parquet(PATH_pca)"
      ],
      "metadata": {
        "id": "QbHC6suDvCoo"
      },
      "id": "QbHC6suDvCoo",
      "execution_count": null,
      "outputs": []
    },
    {
      "cell_type": "markdown",
      "id": "efe5348d",
      "metadata": {
        "id": "efe5348d"
      },
      "source": [
        "Nous venons de valider le processus sur un jeu de données allégé en local <br />\n",
        "où nous avons simulé un cluster de machines en répartissant la charge de travail <br />\n",
        "sur différents cœurs de processeur au sein d'une même machine.\n",
        "\n",
        "Nous allons maintenant généraliser le processus en déployant notre solution <br />\n",
        "sur un réel cluster de machines et nous travaillerons désormais sur la totalité <br />\n",
        "des 22819 images de notre dossier \"Test\"."
      ]
    },
    {
      "cell_type": "markdown",
      "id": "a0f0f7c1",
      "metadata": {
        "id": "a0f0f7c1"
      },
      "source": [
        "# 4. Déploiement de la solution sur le cloud\n",
        "\n",
        "Maintenant que nous avons vérifié que notre solution fonctionne, <br />\n",
        "il est temps de la <u>déployer à plus grande échelle sur un vrai cluster de machines</u>.\n",
        "\n",
        "**Attention**, *je travaille sous Linux avec une version Ubuntu, <br />\n",
        "les commandes décrites ci-dessous sont donc réalisées <br />\n",
        "exclusivement dans cet environnement.*\n",
        "\n",
        "<u>Plusieurs contraintes se posent</u> :\n",
        " 1. Quel prestataire de Cloud choisir ?\n",
        " 2. Quelles solutions de ce prestataire adopter ?\n",
        " 3. Où stocker nos données ?\n",
        " 4. Comment configurer nos outils dans ce nouvel environnement ?\n",
        " \n",
        "## 4.1 Choix du prestataire cloud : AWS\n",
        "\n",
        "Le prestataire le plus connu et qui offre à ce jour l'offre <br />\n",
        "la plus large dans le cloud computing est **Amazon Web Services** (AWS).<br />\n",
        "Certaines de leurs offres sont parfaitement adaptées à notre problématique <br />\n",
        "et c'est la raison pour laquelle j'utiliserai leurs services.\n",
        "\n",
        "L'objectif premier est de pouvoir, grâce à AWS, <u>louer de la puissance de calcul à la demande</u>. <br />\n",
        "L'idée étant de pouvoir, quel que soit la charge de travail, <br />\n",
        "obtenir suffisamment de puissance de calcul pour pouvoir traiter nos images, <br />\n",
        "même si le volume de données venait à fortement augmenter.\n",
        "\n",
        "De plus, la capacité d'utiliser cette puissance de calcul à la demande <br />\n",
        "permet de diminuer drastiquement les coûts si l'on compare les coûts d'une location <br />\n",
        "de serveur complet sur une durée fixe (1 mois, 1 année par exemple).\n",
        "\n",
        "## 4.2 Choix de la solution technique : EMR\n",
        "\n",
        "<u>Plusieurs solutions s'offre à nous</u> :\n",
        "1. Solution **IAAS** (Infrastructure AS A Service)\n",
        " - Dans cette configuration **AWS** met à notre disposition des serveurs vierges <br />\n",
        "   sur lequel nous avons un accès en administrateur, ils sont nommés **instance EC2**.<br />\n",
        "   Pour faire simple, nous pouvons avec cette solution reproduire pratiquement <br />\n",
        "   à l'identique la solution mis en œuvre en local sur notre machine.<br />\n",
        "   <u>On installe nous-même l'intégralité des outils puis on exécute notre script</u> :\n",
        "  - Installation de **Spark**, **Java** etc.\n",
        "  - Installation de **Python** (via Anaconda par exemple)\n",
        "  - Installation de **Jupyter Notebook**\n",
        "  - Installation des **librairies complémentaires**\n",
        "  - Il faudra bien évidement veiller à **implémenter les librairies \n",
        "    nécessaires à toutes les machines (workers) du cluster**\n",
        "  - <u>Avantages</u> :\n",
        "      - Liberté totale de mise en œuvre de la solution\n",
        "      - Facilité de mise en œuvre à partir d'un modèle qui s'exécute en local sur une machine Linux\n",
        "  - <u>Inconvénients</u> :\n",
        "      - Cronophage\n",
        "          - Nécessité d'installer et de configurer toute la solution\n",
        "      - Possible problèmes techniques à l'installation des outils (des problématiques qui <br />\n",
        "        n'existaient pas en local sur notre machine peuvent apparaitre sur le serveur EC2)\n",
        "      - Solution non pérenne dans le temps, il faudra veiller à la mise à jour des outils <br />\n",
        "        et éventuellement devoir réinstaller Spark, Java etc. \n",
        "2. Solution **PAAS** (Plateforme As A Service)\n",
        " - **AWS** fournit énormément de services différents, dans l'un de ceux-là <br />\n",
        "   il existe une offre qui permet de louer des **instances EC2** <br />\n",
        "   avec des applications préinstallées et configurées : il s'agit du **service EMR**.\n",
        " - **Spark** y sera déjà installé\n",
        " - Possibilité de demander l'installation de **Tensorflow** ainsi que **JupyterHub**\n",
        " - Possibilité d'indiquer des **packages complémentaires** à installer <br />\n",
        "   à l'initialisation du serveur **sur l'ensemble des machines du cluster**.\n",
        " - <u>Avantages</u> :\n",
        "     - Facilité de mise en œuvre\n",
        "         - Il suffit de très peu de configuration pour obtenir <br />\n",
        "           un environnement parfaitement fonctionnel\n",
        "     - Rapidité de mise en œuvre\n",
        "         - Une fois la première configuration réalisée, il est très facile <br />\n",
        "           et très rapide de recréer des clusters à l'identique qui seront <br />\n",
        "           disponibles presque instantanément (le temps d'instancier les <br />\n",
        "           serveurs soit environ 15/20 minutes)\n",
        "     - Solutions matérielless et logicielles optimisées par les ingénieurs d'AWS\n",
        "         - On sait que les versions installées vont fonctionner <br />\n",
        "           et que l'architecture proposée est optimisée\n",
        "     - Stabilité de la solution\n",
        "    - Solution évolutive\n",
        "        Il est facile d’obtenir à chaque nouvelle instanciation une version à jour <br />\n",
        "        de chaque package, en étant garanti de leur compatibilité avec le reste de l’environnement.\n",
        "  - Plus sécurisé\n",
        "\t- Les éventuels patchs de sécurité seront automatiquement mis à jour <br />\n",
        "      à chaque nouvelle instanciation du cluster EMR.\n",
        " - <u>Inconvénients</u> :\n",
        "     - Peut-être un certain manque de liberté sur la version des packages disponibles ? <br />\n",
        "       Même si je n'ai pas constaté ce problème.\n",
        "   \n",
        "\n",
        "Je retiens la solution **PAAS** en choisissant d'utiliser <br />\n",
        "le service **EMR** d'Amazon Web Services.<br />\n",
        "Je la trouve plus adaptée à notre problématique et permet <br />\n",
        "une mise en œuvre qui soit à la fois plus rapide et <br />\n",
        "plus efficace que la solution IAAS.\n",
        "\n",
        "## 4.3 Choix de la solution de stockage des données : Amazon S3\n",
        "\n",
        "<u>Amazon propose une solution très efficace pour la gestion du stockage des données</u> : **Amazon S3**. <br />\n",
        "S3 pour Amazon Simple Storage Service.\n",
        "\n",
        "Il pourrait être tentant de stocker nos données sur l'espace alloué par le serveur **EC2**, <br />\n",
        "mais si nous ne prenons aucune mesure pour les sauvegarder ensuite sur un autre support, <br />\n",
        "<u>les données seront perdues</u> lorsque le serveur sera résilié (on résilie le serveur lorsqu'on <br />\n",
        "ne s'en sert pas pour des raisons de coût).<br />\n",
        "De fait, si l'on décide d'utiliser l'espace disque du serveur EC2 il faudra imaginer <br />\n",
        "une solution pour sauvegarder les données avant la résiliation du serveur.\n",
        "De plus, nous serions exposés à certaines problématiques si nos données venaient à <br />\n",
        "**saturer** l'espace disponible de nos serveurs (ralentissements, disfonctionnements).\n",
        "\n",
        "<u>Utiliser **Amazon S3** permet de s'affranchir de toutes ces problématiques</u>. <br />\n",
        "L'espace disque disponible est **illimité**, et il est **indépendant de nos serveurs EC2**. <br />\n",
        "L'accès aux données est **très rapide** car nous restons dans l'environnement d'AWS <br />\n",
        "et nous prenons soin de <u>choisir la même région pour nos serveurs **EC2** et **S3**</u>.\n",
        "\n",
        "De plus, comme nous le verrons <u>il est possible d'accéder aux données sur **S3** <br />\n",
        "    de la même manière que l'on **accède aux données sur un disque local**</u>.<br />\n",
        "Nous utiliserons simplement un **PATH au format s3://...** .\n",
        "\n",
        "## 4.4 Configuration de l'environnement de travail\n",
        "\n",
        "La première étape est d'installer et de configurer [**AWS Cli**](https://aws.amazon.com/fr/cli/),<br />\n",
        "il s'agit de l'**interface en ligne de commande d'AWS**.<br />\n",
        "Elle nous permet d'**interagir avec les différents services d'AWS**, comme **S3** par exemple.\n",
        "\n",
        "Pour pouvoir utiliser **AWS Cli**, il faut le configurer en créant préalablement <br />\n",
        "un utilisateur à qui on donnera les autorisations dont nous aurons besoin.<br />\n",
        "Dans ce projet il faut que l'utilisateur ait à minima un contrôle total sur le service S3.\n",
        "\n",
        "<u>La gestion des utilisateurs et de leurs droits s'effectue via le service **AMI**</u> d'AWS.\n",
        "\n",
        "Une fois l'utilisateur créé et ses autorisations configurées nous créons une **paire de clés** <br />\n",
        "qui nous permettra de nous **connecter sans à avoir à devoir saisir systématiquement notre login/mot de passe**.<br />\n",
        "\n",
        "Il faut également configurer l'**accès SSH** à nos futurs serveurs EC2. <br />\n",
        "Ici aussi, via un système de clés qui nous dispense de devoir nous authentifier \"à la main\" à chaque connexion.\n",
        "\n",
        "Toutes ses étapes de configuration sont parfaitement décrites <br />\n",
        "dans le cours du projet: [Réalisez des calculs distribués sur des données massives / Découvrez Amazon Web Services](https://openclassrooms.com/fr/courses/4297166-realisez-des-calculs-distribues-sur-des-donnees-massives/4308686-decouvrez-amazon-web-services#/id/r-4355822)\n",
        "\n",
        "## 4.5 Upload de nos données sur S3\n",
        "\n",
        "Nos outils sont configurés. <br />\n",
        "Il faut maintenant uploader nos données de travail sur Amazon S3.\n",
        "\n",
        "Ici aussi les étapes sont décrites avec précision <br />\n",
        "dans le cours [Réalisez des calculs distribués sur des données massives / Stockez des données sur S3](https://openclassrooms.com/fr/courses/4297166-realisez-des-calculs-distribues-sur-des-donnees-massives/4308691-stockez-des-donnees-sur-s3)\n",
        "\n",
        "Je décide de n'uploader que les données contenues dans le dossier **Test** du [jeu de données du projet](https://www.kaggle.com/moltean/fruits/download)\n",
        "\n",
        "\n",
        "La première étape consiste à **créer un bucket sur S3** <br />\n",
        "dans lequel nous uploaderons les données du projet:\n",
        "- **aws s3 mb s3://p8-data**\n",
        "\n",
        "On vérifie que le bucket à bien été créé\n",
        "- **aws s3 ls**\n",
        " - Si le nom du bucket s'affiche alors c'est qu'il a été correctement créé.\n",
        "\n",
        "On copie ensuite le contenu du dossier \"**Test**\" <br />\n",
        "dans un répertoire \"**Test**\" sur notre bucket \"**p8-data**\":\n",
        "1. On se place à l'intérieur du répertoire **Test**\n",
        "2. **aws sync . s3://p8-data/Test**\n",
        "\n",
        "La commande **sync** est utile pour synchroniser deux répertoires.\n",
        "\n",
        "<u>Nos données du projet sont maintenant disponibles sur Amazon S3</u>.\n",
        "\n",
        "## 4.6 Configuration du serveur EMR\n",
        "\n",
        "Une fois encore, le cours [Réalisez des calculs distribués sur des données massives / Déployez un cluster de calculs distribués](https://openclassrooms.com/fr/courses/4297166-realisez-des-calculs-distribues-sur-des-donnees-massives/4308696-deployez-un-cluster-de-calculs-distribues) <br /> détaille l'essentiel des étapes pour lancer un cluster avec **EMR**.\n",
        "\n",
        "<u>Je détaillerai ici les étapes particulières qui nous permettent <br />\n",
        "de configurer le serveur selon nos besoins</u> :\n",
        "\n",
        "1. Cliquez sur Créer un cluster\n",
        "![Créer un cluster](img/EMR_creer.png)\n",
        "2. Cliquez sur Accéder aux options avancées\n",
        "![Créer un cluster](img/EMR_options_avancees.png)\n",
        "\n",
        "### 4.6.1 Étape 1 : Logiciels et étapes\n",
        "\n",
        "#### 4.6.1.1 Configuration des logiciels\n",
        "\n",
        "<u>Sélectionnez les packages dont nous aurons besoin comme dans la capture d'écran</u> :\n",
        "1. Nous sélectionnons la dernière version d'**EMR**, soit la version **6.3.0** au moment où je rédige ce document\n",
        "2. Nous cochons bien évidement **Hadoop** et **Spark** qui seront préinstallés dans leur version la plus récente\n",
        "3. Nous aurons également besoin de **TensorFlow** pour importer notre modèle et réaliser le **transfert learning**\n",
        "4. Nous travaillerons enfin avec un **notebook Jupyter** via l'application **JupyterHub**<br />\n",
        " - Comme nous le verrons dans un instant nous allons <u>paramétrer l'application afin que les notebooks</u>, <br />\n",
        "   comme le reste de nos données de travail, <u>soient enregistrés directement sur S3</u>.\n",
        "![Créer un cluster](img/EMR_configuration_logiciels.png)\n",
        "\n",
        "#### 4.6.1.2 Modifier les paramètres du logiciel\n",
        "\n",
        "<u>Paramétrez la persistance des notebooks créés et ouvert via JupyterHub</u> :\n",
        "- On peut à cette étape effectuer des demandes de paramétrage particulières sur nos applications. <br />\n",
        "  L'objectif est, comme pour le reste de nos données de travail, <br />\n",
        "  d'éviter toutes les problématiques évoquées précédemment. <br />\n",
        "  C'est l'objectif à cette étape, <u>nous allons enregistrer <br />\n",
        "  et ouvrir les notebooks</u> non pas sur l'espace disque de  l'instance EC2 (comme <br />\n",
        "  ce serait le cas dans la configuration par défaut de JupyterHub) mais <br />\n",
        "  <u>directement sur **Amazon S3**</u>.\n",
        "- <u>deux solutions sont possibles pour réaliser cela</u> :\n",
        " 1. Créer un **fichier de configuration JSON** que l'on **upload sur S3** et on indique ensuite le chemin d’accès au fichier JSON\n",
        " 2. Rentrez directement la configuration au format JSON\n",
        " \n",
        "J'ai personnellement créé un fichier JSON lors de la création de ma première instance EMR, <br />\n",
        "puis lorsqu'on décide de cloner notre serveur pour en recréer un facilement à l'identique, <br />\n",
        "la configuration du fichier JSON se retrouve directement copié comme dans la capture ci-dessous.\n",
        "\n",
        "<u>Voici le contenu de mon fichier JSON</u> :  [{\"classification\":\"jupyter-s3-conf\",\"properties\":{\"s3.persistence.bucket\":\"p8-data\",\"s3.persistence.enabled\":\"true\"}}]\n",
        " Appuyez ensuite sur \"**Suivant**\"\n",
        "![Modifier les paramètres du logiciel](img/EMR_parametres_logiciel.png)\n",
        "\n",
        "### 4.6.2 Étape 2 : Matériel\n",
        "\n",
        "A cette étape, laissez les choix par défaut. <br />\n",
        "<u>L'important ici est la sélection de nos instances</u> :\n",
        "\n",
        "1. je choisi les instances de type **M5** qui sont des **instances de type équilibrés**\n",
        "2. je choisi le type **xlarge** qui est l'instance la **moins onéreuse disponible**\n",
        " [Plus d'informations sur les instances M5 Amazon EC2](https://aws.amazon.com/fr/ec2/instance-types/m5/)\n",
        "3. Je sélectionne **1 instance Maître** (le driver) et **2 instances Principales** (les workeurs) <br />\n",
        "   soit **un total de 3 instance EC2**.\n",
        "![Choix du materiel](img/EMR_materiel.png)\n",
        "\n",
        "### 4.6.3 Étape 3 : Paramètres de cluster généraux\n",
        "\n",
        "#### 4.6.3.1 Options générales\n",
        "<u>La première chose à faire est de donner un nom au cluster</u> :<br />\n",
        "*J'ai également décoché \"Protection de la résiliation\" pour des raisons pratiques.*\n",
        "    \n",
        "![Nom du Cluster](img/EMR_nom_cluster.png)\n",
        "\n",
        "#### 4.6.3.2 Actions d'amorçage\n",
        "\n",
        "Nous allons à cette étape **choisir les packages manquants à installer** et qui <br />\n",
        "nous serons utiles dans l'exécution de notre notebook.<br />\n",
        "<u>L'avantage de réaliser cette étape maintenant est que les packages <br />\n",
        "installés le seront sur l'ensemble des machines du cluster</u>.\n",
        "\n",
        "La procédure pour créer le fichier **bootstrap** qui contient <br />\n",
        "l'ensemble des instructions permettant d'installer tous <br />\n",
        "les packages dont nous aurons besoin est expliqué dans <br />\n",
        "le cours [Réalisez des calculs distribués sur des données massives / Bootstrapping](https://openclassrooms.com/fr/courses/4297166-realisez-des-calculs-distribues-sur-des-donnees-massives/4308696-deployez-un-cluster-de-calculs-distribues#/id/r-4356490)\n",
        "\n",
        "Nous créons donc un fichier nommé \"**bootstrap-emr.sh**\" que nous <u>uploadons <br />\n",
        "sur S3</u>(je l’installe à la racine de mon **bucket \"p8-data\"**) et nous l'ajoutons <br />\n",
        "comme indiqué dans la capture d'écran ci-dessous:\n",
        "![Actions d'amorcage](img/EMR_amorcage.png)\n",
        "\n",
        "Voici le contenu du fichier **bootstrap-emr.sh**<br />\n",
        "Comme on peut le constater il s'agit simplement de commande \"**pip install**\" <br />\n",
        "pour **installer les bibliothèques manquantes** comme réalisé en local.<br />\n",
        "Une fois encore, <u>il est nécessaire de réaliser ces actions à cette étape</u> <br />\n",
        "pour que <u>les packages soient installés sur l'ensemble des machines du cluster</u> <br />\n",
        "et non pas uniquement sur le driver, comme cela serait le cas si nous exécutions <br />\n",
        "ces commandes directement dans le notebook JupyterHub ou dans la console EMR (connecté au driver).\n",
        "![Contenu du fichier bootstrap](img/EMR_bootstrap.png)\n",
        "\n",
        "**setuptools** et **pip** sont mis à jour pour éviter une problématique <br />\n",
        "avec l'installation du package **pyarrow**.<br />\n",
        "**Pandas** a eu droit à une mise à jour majeur (1.3.0) il y a moins d'une semaine <br />\n",
        "au moment de la rédaction de ce notebook, et la nouvelle version de **Pandas** <br />\n",
        "nécessite une version plus récente de **Numpy** que la version installée par <br />\n",
        "défaut (1.16.5) à l'initialisation des instances **EC2**. <u>Il ne semble pas <br />\n",
        "possible d'imposer une autre version de Numpy que celle installé par <br />\n",
        "défaut</u> même si on force l'installation d'une version récente de **Numpy** <br />\n",
        "(en tout cas, ni simplement ni intuitivement).<br />\n",
        "La mise à jour étant très récente <u>la version de **Numpy** n'est pas encore <br />\n",
        "mise à jour sur **EC2**</u> mais on peut imaginer que ce sera le cas très rapidement <br />\n",
        "et il ne sera plus nécessaire d'imposer une version spécifique de **Pandas**.<br />\n",
        "En attendant, je demande <u>l'installation de l'avant dernière version de **Pandas (1.2.5)**</u>\n",
        "\n",
        "On clique ensuite sur ***Suivant***\n",
        "\n",
        "### 4.6.4 Étape 4 : Sécurité\n",
        "\n",
        "#### 4.6.4.1 Options de sécurité\n",
        "\n",
        "A cette étape nous sélectionnons la **paire de clés EC2** créé précédemment. <br />\n",
        "Elle nous permettra de se connecter en **ssh** à nos **instances EC2** <br />\n",
        "sans avoir à entrer nos login/mot de passe.<br />\n",
        "On laisse les autres paramètres par défaut. <br />\n",
        "Et enfin, on clique sur \"***Créer un cluster***\"\n",
        " \n",
        "![EMR Sécurité](img/EMR_securite.png)\n",
        "\n",
        "## 4.7 Instanciation du serveur\n",
        "\n",
        "Il ne nous reste plus qu'à attendre que le serveur soit prêt. <br />\n",
        "Cette étape peut prendre entre **15 et 20 minutes**.\n",
        "\n",
        "<u>Plusieurs étapes s'enchaîne, on peut suivre l'avancé du statut du **cluster EMR**</u> :\n",
        "\n",
        "![Instanciation étape 1](img/EMR_instanciation_01.png)\n",
        "![Instanciation étape 2](img/EMR_instanciation_02.png)\n",
        "![Instanciation étape 3](img/EMR_instanciation_03.png)\n",
        "\n",
        "<u>Lorsque le statut affiche en vert: \"**En attente**\" cela signifie que l'instanciation <br />\n",
        "s'est bien déroulée et que notre serveur est prêt à être utilisé</u>. \n",
        "\n",
        "## 4.8 Création du tunnel SSH à l'instance EC2 (Maître)\n",
        "\n",
        "### 4.8.1 Création des autorisations sur les connexions entrantes\n",
        "\n",
        "<u>Nous souhaitons maintenant pouvoir accéder à nos applications</u> :\n",
        " - **JupyterHub** pour l'exécution de notre notebook\n",
        " - **Serveur d'historique Spark** pour le suivi de l'exécution <br />\n",
        "   des tâches de notre script lorsqu'il sera lancé\n",
        " \n",
        "Cependant, <u>ces applications ne sont accessibles que depuis le réseau local du driver</u>, <br />\n",
        "et pour y accéder nous devons **créer un tunnel SSH vers le driver**.\n",
        "\n",
        "Par défaut, ce driver se situe derrière un firewall qui bloque l'accès en SSH. <br />\n",
        "<u>Pour ouvrir le port 22 qui correspond au port sur lequel écoute le serveur SSH, <br />\n",
        "il faut modifier le **groupe de sécurité EC2 du driver**</u>.\n",
        "\n",
        "Cette étape est décrite dans le cours [Réalisez des calculs distribués sur des données massives / Lancement d'une application à partir du driver](https://openclassrooms.com/fr/courses/4297166-realisez-des-calculs-distribues-sur-des-donnees-massives/4308696-deployez-un-cluster-de-calculs-distribues#/id/r-4356512): \n",
        "\n",
        "*Il faudra que l'on se connecte en SSH au driver de notre cluster. <br />\n",
        "Par défaut, ce driver se situe derrière un firewall qui bloque l'accès en SSH. <br />\n",
        "Pour ouvrir le port 22 qui correspond au port sur lequel écoute le serveur SSH, <br />\n",
        "il faut modifier le groupe de sécurité EC2 du driver. Sur la page de la console <br />\n",
        "consacrée à EC2, dans l'onglet \"Réseau et sécurité\", cliquez sur \"Groupes de sécurité\". <br />\n",
        "Vous allez devoir modifier le groupe de sécurité d’ElasticMapReduce-Master. <br />\n",
        "Dans l'onglet \"Entrant\", ajoutez une règle SSH dont la source est \"N'importe où\" <br />\n",
        "(ou \"Mon IP\" si vous disposez d'une adresse IP fixe).*\n",
        "\n",
        "![Configuration autorisation ports entrants pour ssh](img/EMR_config_ssh_01.png)\n",
        "\n",
        "<u>Une fois cette étape réalisée vous devriez avoir une configuration semblable à la mienne</u> :\n",
        "\n",
        "![Configuration ssh terminée](img/EMR_config_ssh_02.png)\n",
        "\n",
        "### 4.8.2 Création du tunnel ssh vers le Driver\n",
        "\n",
        "On peut maintenant établir le **tunnel SSH** vers le **Driver**. <br />\n",
        "Pour cela on récupère les informations de connexion fournis par Amazon <br />\n",
        "depuis la page du service EMR / Cluster / onglet Récapitulatif en <br />\n",
        "cliquant sur \"**Activer la connexion Web**\"\n",
        "\n",
        "![Activer la connexion Web](img/EMR_tunnel_ssh_01.png)\n",
        "\n",
        "<u>On récupère ensuite la commande fournis par Amazon pour **établir le tunnel SSH**</u> :\n",
        "\n",
        "![Récupérer la commande pour établir le tunnel ssh](img/EMR_tunnel_ssh_02.png)\n",
        "\n",
        "<u>Dans mon cas, la commande ne fonctionne pas tel</u> quel et j'ai du **l'adapter à ma configuration**. <br />\n",
        "La **clé ssh** se situe dans un dossier \"**.ssh**\" elle-même située dans <br />\n",
        "mon **répertoire personnel** dont le symbole est, sous Linux, identifié par un tilde \"**~**\".\n",
        "\n",
        "Ayant suivi le cours [Réalisez des calculs distribués sur des données massives / Lancement d'une application à partir du driver](https://openclassrooms.com/fr/courses/4297166-realisez-des-calculs-distribues-sur-des-donnees-massives) <br />\n",
        "j'ai choisi d'utiliser le port **5555** au lieu du **8157**, même si le choix n'est pas très important.<br />\n",
        "    j'ai également rencontré un <u>problème de compatibilité</u> avec <br />\n",
        "l'argument \"**-N**\" (liste des arguments et leur significations <br />\n",
        "disponibles [ici](https://explainshell.com/explain?cmd=ssh+-L+-N+-f+-l+-D)) j'ai décidé de simplement le supprimer.\n",
        "\n",
        "<u>Finalement, j'utilise la commande suivante dans un terminal pour établir <br />\n",
        "    mon tunnel ssh (seul l'URL change d'une instance à une autre)</u> : <br />\n",
        "\"**ssh -i ~/.ssh/p8-ec2.pem -D 5555 hadoop@ec2-35-180-91-39.eu-west-3.compute.amazonaws.com**\"\n",
        "\n",
        "<u>On inscrit \"**yes**\" pour valider la connexion et si <br />\n",
        "    la connexion est établit on obtient le résultat suivant</u> :\n",
        "\n",
        "![Création du tunnel SSH](img/EMR_connexion_ssh_01.png)\n",
        "\n",
        "Nous avons **correctement établi le tunnel ssh avec le driver** sur le port \"5555\".\n",
        "\n",
        "### 4.8.3 Configuration de FoxyProxy\n",
        "\n",
        "Une dernière étape est nécessaire pour accéder à nos applications, <br />\n",
        "en demandant à notre navigateur d'emprunter le tunnel ssh.<br />\n",
        "J'utilise pour cela **FoxyProxy**.\n",
        "[Une fois encore, vous pouvez utiliser le cours pour le configurer](https://openclassrooms.com/fr/courses/4297166-realisez-des-calculs-distribues-sur-des-donnees-massives/4308701-realisez-la-maintenance-dun-cluster#/id/r-4356554).\n",
        "\n",
        "Sinon, ouvrez la configuration de **FoxyProxy** et <u>cliquez sur **Ajouter**</u> en haut à gauche <br />\n",
        "puis renseigner les éléments comme dans la capture ci-dessous :\n",
        "\n",
        "![Configuration FoxyProxy Etape 1](img/EMR_foxyproxy_config_01.png)\n",
        "\n",
        "<u>On obtient le résultat ci-dessous</u> :\n",
        "\n",
        "![Configuration FoxyProxy Etape 2](img/EMR_foxyproxy_config_02.png)\n",
        "\n",
        "\n",
        "### 4.8.4 Accès aux applications du serveur EMR via le tunnel ssh\n",
        "\n",
        "\n",
        "<u>Avant d'établir notre **tunnel ssh** nous avions ça</u> :\n",
        "\n",
        "![avant tunnel ssh](img/EMR_tunnel_ssh_avant.png)\n",
        "\n",
        "<u>On active le **tunnel ssh** comme vu précédemment puis on demande <br />\n",
        "à notre navigateur de l'utiliser avec **FoxyProxy**</u> :\n",
        "\n",
        "![FoxyProxy activation](img/EMR_foxyproxy_activation.png)\n",
        "\n",
        "<u>On peut maintenant s'apercevoir que plusieurs applications nous sont accessibles</u> :\n",
        "\n",
        "![avant tunnel ssh](img/EMR_tunnel_ssh_apres.png)\n",
        "\n",
        "## 4.9 Connexion au notebook JupyterHub\n",
        "\n",
        "Pour se connecter à **JupyterHub** en vue d'exécuter notre **notebook**, <br />\n",
        "il faut commencer par <u>cliquer sur l'application **JupyterHub**</u> apparu <br />\n",
        "depuis que nous avons configuré le **tunnel ssh** et **foxyproxy** sur <br />\n",
        "notre navigateur (actualisez la page si ce n’est pas le cas).\n",
        "\n",
        "![Démarrage de JupyterHub](img/EMR_jupyterhub_connexion_01.png)\n",
        "\n",
        "On passe les éventuels avertissements de sécurité puis <br />\n",
        "nous arrivons sur une page de connexion.\n",
        "    \n",
        "<u>On se connecte avec les informations par défaut</u> :\n",
        " - <u>login</u>: **jovyan**\n",
        " - <u>password</u>: **jupyter**\n",
        " \n",
        "![Connexion à JupyterHub](img/EMR_jupyterhub_connexion_02.png)\n",
        "\n",
        "Nous arrivons ensuite dans un dossier vierge de notebook.<br />\n",
        "Il suffit d'en créer un en cliquant sur \"**New**\" en haut à droite.\n",
        "\n",
        "![Liste et création des notebook](img/EMR_jupyterhub_creer_notebooks.png)\n",
        "\n",
        "Il est également possible d'en <u>uploader un directement dans notre **bucket S3**</u>.\n",
        "\n",
        "Grace à la <u>**persistance** paramétrée à l'instanciation du cluster <br />\n",
        "nous sommes actuellement dans l'arborescence de notre **bucket S3**</u>\n",
        "\n",
        "![Notebook stockés sur S3](img/EMR_jupyterhub_S3.png)\n",
        "\n",
        "Je décide d'**importer un notebook déjà rédigé en local directement <br />\n",
        "sur S3** et je l'ouvre depuis **l'interface JupyterHub**.\n",
        "\n",
        "## 4.10 Exécution du code\n",
        "\n",
        "Je décide d'exécuter cette partie du code depuis **JupyterHub hébergé sur notre cluster EMR**.<br />\n",
        "Pour ne pas alourdir inutilement les explications du **notebook**, je ne réexpliquerai pas les étapes communes <br />\n",
        "que nous avons déjà vues dans la première partie où l'on a exécuté le code localement sur notre machine virtuelle Ubuntu.\n",
        "\n",
        "<u>Avant de commencer</u>, il faut s'assurer d'utiliser le **kernel pyspark**.\n",
        "\n",
        "**En utilisant ce kernel, une session spark est créé à l'exécution de la première cellule**. <br />\n",
        "Il n'est donc **plus nécessaire d'exécuter le code \"spark = (SparkSession ...\"** comme lors <br />\n",
        "de l'exécution de notre notebook en local sur notre VM Ubuntu."
      ]
    },
    {
      "cell_type": "markdown",
      "id": "4e759c1e",
      "metadata": {
        "id": "4e759c1e"
      },
      "source": [
        "### 4.10.1 Démarrage de la session Spark"
      ]
    },
    {
      "cell_type": "code",
      "execution_count": null,
      "id": "e5f0fbe1",
      "metadata": {
        "colab": {
          "referenced_widgets": [
            ""
          ]
        },
        "id": "e5f0fbe1",
        "outputId": "cc838294-1257-4d72-8adb-162085a69b4e"
      },
      "outputs": [
        {
          "name": "stdout",
          "output_type": "stream",
          "text": [
            "Starting Spark application\n"
          ]
        },
        {
          "data": {
            "text/html": [
              "<table>\n",
              "<tr><th>ID</th><th>YARN Application ID</th><th>Kind</th><th>State</th><th>Spark UI</th><th>Driver log</th><th>Current session?</th></tr><tr><td>0</td><td>application_1626050279029_0001</td><td>pyspark</td><td>idle</td><td><a target=\"_blank\" href=\"http://ip-172-31-10-195.eu-west-3.compute.internal:20888/proxy/application_1626050279029_0001/\">Link</a></td><td><a target=\"_blank\" href=\"http://ip-172-31-2-58.eu-west-3.compute.internal:8042/node/containerlogs/container_1626050279029_0001_01_000001/livy\">Link</a></td><td>✔</td></tr></table>"
            ],
            "text/plain": [
              "<IPython.core.display.HTML object>"
            ]
          },
          "metadata": {},
          "output_type": "display_data"
        },
        {
          "data": {
            "application/vnd.jupyter.widget-view+json": {
              "model_id": "",
              "version_major": 2,
              "version_minor": 0
            },
            "text/plain": [
              "FloatProgress(value=0.0, bar_style='info', description='Progress:', layout=Layout(height='25px', width='50%'),…"
            ]
          },
          "metadata": {},
          "output_type": "display_data"
        },
        {
          "name": "stdout",
          "output_type": "stream",
          "text": [
            "SparkSession available as 'spark'.\n"
          ]
        },
        {
          "data": {
            "application/vnd.jupyter.widget-view+json": {
              "model_id": "",
              "version_major": 2,
              "version_minor": 0
            },
            "text/plain": [
              "FloatProgress(value=0.0, bar_style='info', description='Progress:', layout=Layout(height='25px', width='50%'),…"
            ]
          },
          "metadata": {},
          "output_type": "display_data"
        }
      ],
      "source": [
        "# L'exécution de cette cellule démarre l'application Spark"
      ]
    },
    {
      "cell_type": "markdown",
      "id": "3aba202f",
      "metadata": {
        "id": "3aba202f"
      },
      "source": [
        "<u>Affichage des informations sur la session en cours et liens vers Spark UI</u> :"
      ]
    },
    {
      "cell_type": "code",
      "execution_count": null,
      "id": "fb788991",
      "metadata": {
        "id": "fb788991",
        "outputId": "fdac2f1d-fd5c-4a9b-e14e-9c6d8947f88c"
      },
      "outputs": [
        {
          "data": {
            "text/html": [
              "Current session configs: <tt>{'driverMemory': '1000M', 'executorCores': 2, 'proxyUser': 'jovyan', 'kind': 'pyspark'}</tt><br>"
            ],
            "text/plain": [
              "<IPython.core.display.HTML object>"
            ]
          },
          "metadata": {},
          "output_type": "display_data"
        },
        {
          "data": {
            "text/html": [
              "<table>\n",
              "<tr><th>ID</th><th>YARN Application ID</th><th>Kind</th><th>State</th><th>Spark UI</th><th>Driver log</th><th>Current session?</th></tr><tr><td>0</td><td>application_1626050279029_0001</td><td>pyspark</td><td>idle</td><td><a target=\"_blank\" href=\"http://ip-172-31-10-195.eu-west-3.compute.internal:20888/proxy/application_1626050279029_0001/\">Link</a></td><td><a target=\"_blank\" href=\"http://ip-172-31-2-58.eu-west-3.compute.internal:8042/node/containerlogs/container_1626050279029_0001_01_000001/livy\">Link</a></td><td>✔</td></tr></table>"
            ],
            "text/plain": [
              "<IPython.core.display.HTML object>"
            ]
          },
          "metadata": {},
          "output_type": "display_data"
        }
      ],
      "source": [
        "%%info"
      ]
    },
    {
      "cell_type": "markdown",
      "id": "27ac9832",
      "metadata": {
        "id": "27ac9832"
      },
      "source": [
        "### 4.10.2 Installation des packages\n",
        "\n",
        "Les packages nécessaires ont été installé via l'étape de **bootstrap** à l'instanciation du serveur.\n",
        "\n",
        "### 4.10.3 Import des librairies"
      ]
    },
    {
      "cell_type": "code",
      "execution_count": null,
      "id": "ad562eab",
      "metadata": {
        "colab": {
          "referenced_widgets": [
            ""
          ]
        },
        "id": "ad562eab",
        "outputId": "b2e0eaac-a13b-4c92-a053-62b0e4c3a2dd"
      },
      "outputs": [
        {
          "data": {
            "application/vnd.jupyter.widget-view+json": {
              "model_id": "",
              "version_major": 2,
              "version_minor": 0
            },
            "text/plain": [
              "FloatProgress(value=0.0, bar_style='info', description='Progress:', layout=Layout(height='25px', width='50%'),…"
            ]
          },
          "metadata": {},
          "output_type": "display_data"
        }
      ],
      "source": [
        "import pandas as pd\n",
        "import numpy as np\n",
        "import io\n",
        "import os\n",
        "import tensorflow as tf\n",
        "from PIL import Image\n",
        "from tensorflow.keras.applications.mobilenet_v2 import MobileNetV2, preprocess_input\n",
        "from tensorflow.keras.preprocessing.image import img_to_array\n",
        "from tensorflow.keras import Model\n",
        "from pyspark.sql.functions import col, pandas_udf, PandasUDFType, element_at, split"
      ]
    },
    {
      "cell_type": "markdown",
      "id": "83663cbd",
      "metadata": {
        "id": "83663cbd"
      },
      "source": [
        "### 4.10.4 Définition des PATH pour charger les images et enregistrer les résultats\n",
        "\n",
        "Nous accédons directement à nos **données sur S3** comme si elles étaient **stockées localement**."
      ]
    },
    {
      "cell_type": "code",
      "execution_count": null,
      "id": "46be859d",
      "metadata": {
        "colab": {
          "referenced_widgets": [
            ""
          ]
        },
        "id": "46be859d",
        "outputId": "3ffc80fe-e628-40ea-854e-06cebfcb5a75"
      },
      "outputs": [
        {
          "data": {
            "application/vnd.jupyter.widget-view+json": {
              "model_id": "",
              "version_major": 2,
              "version_minor": 0
            },
            "text/plain": [
              "FloatProgress(value=0.0, bar_style='info', description='Progress:', layout=Layout(height='25px', width='50%'),…"
            ]
          },
          "metadata": {},
          "output_type": "display_data"
        },
        {
          "name": "stdout",
          "output_type": "stream",
          "text": [
            "PATH:        s3://p8-data\n",
            "PATH_Data:   s3://p8-data/Test\n",
            "PATH_Result: s3://p8-data/Results"
          ]
        }
      ],
      "source": [
        "PATH = 's3://p8-data'\n",
        "PATH_Data = PATH+'/Test'\n",
        "PATH_Result = PATH+'/Results'\n",
        "print('PATH:        '+\\\n",
        "      PATH+'\\nPATH_Data:   '+\\\n",
        "      PATH_Data+'\\nPATH_Result: '+PATH_Result)"
      ]
    },
    {
      "cell_type": "markdown",
      "id": "cf883c20",
      "metadata": {
        "id": "cf883c20"
      },
      "source": [
        "### 4.10.5 Traitement des données"
      ]
    },
    {
      "cell_type": "markdown",
      "id": "2ffe93f5",
      "metadata": {
        "id": "2ffe93f5"
      },
      "source": [
        "#### 4.10.5.1 Chargement des données"
      ]
    },
    {
      "cell_type": "code",
      "execution_count": null,
      "id": "7e4b319a",
      "metadata": {
        "colab": {
          "referenced_widgets": [
            ""
          ]
        },
        "id": "7e4b319a",
        "outputId": "5a256601-d4bc-4802-e118-f3f36bae54d2"
      },
      "outputs": [
        {
          "data": {
            "application/vnd.jupyter.widget-view+json": {
              "model_id": "",
              "version_major": 2,
              "version_minor": 0
            },
            "text/plain": [
              "FloatProgress(value=0.0, bar_style='info', description='Progress:', layout=Layout(height='25px', width='50%'),…"
            ]
          },
          "metadata": {},
          "output_type": "display_data"
        }
      ],
      "source": [
        "images = spark.read.format(\"binaryFile\") \\\n",
        "  .option(\"pathGlobFilter\", \"*.jpg\") \\\n",
        "  .option(\"recursiveFileLookup\", \"true\") \\\n",
        "  .load(PATH_Data)"
      ]
    },
    {
      "cell_type": "code",
      "execution_count": null,
      "id": "16bfeb4d",
      "metadata": {
        "colab": {
          "referenced_widgets": [
            ""
          ]
        },
        "id": "16bfeb4d",
        "outputId": "3c2ca103-25e7-4091-b1fa-380ba0704f6e"
      },
      "outputs": [
        {
          "data": {
            "application/vnd.jupyter.widget-view+json": {
              "model_id": "",
              "version_major": 2,
              "version_minor": 0
            },
            "text/plain": [
              "FloatProgress(value=0.0, bar_style='info', description='Progress:', layout=Layout(height='25px', width='50%'),…"
            ]
          },
          "metadata": {},
          "output_type": "display_data"
        },
        {
          "name": "stdout",
          "output_type": "stream",
          "text": [
            "+--------------------+-------------------+------+--------------------+\n",
            "|                path|   modificationTime|length|             content|\n",
            "+--------------------+-------------------+------+--------------------+\n",
            "|s3://p8-data/Test...|2021-07-03 09:00:08|  7353|[FF D8 FF E0 00 1...|\n",
            "|s3://p8-data/Test...|2021-07-03 09:00:08|  7350|[FF D8 FF E0 00 1...|\n",
            "|s3://p8-data/Test...|2021-07-03 09:00:08|  7349|[FF D8 FF E0 00 1...|\n",
            "|s3://p8-data/Test...|2021-07-03 09:00:08|  7348|[FF D8 FF E0 00 1...|\n",
            "|s3://p8-data/Test...|2021-07-03 09:00:09|  7328|[FF D8 FF E0 00 1...|\n",
            "+--------------------+-------------------+------+--------------------+\n",
            "only showing top 5 rows"
          ]
        }
      ],
      "source": [
        "images.show(5)"
      ]
    },
    {
      "cell_type": "markdown",
      "id": "8b32ac34",
      "metadata": {
        "id": "8b32ac34"
      },
      "source": [
        "<u>Je ne conserve que le **path** de l'image et j'ajoute <br />\n",
        "    une colonne contenant les **labels** de chaque image</u> :"
      ]
    },
    {
      "cell_type": "code",
      "execution_count": null,
      "id": "a52ab808",
      "metadata": {
        "colab": {
          "referenced_widgets": [
            ""
          ]
        },
        "id": "a52ab808",
        "outputId": "03149032-68b4-476b-9127-248afc5356e8"
      },
      "outputs": [
        {
          "data": {
            "application/vnd.jupyter.widget-view+json": {
              "model_id": "",
              "version_major": 2,
              "version_minor": 0
            },
            "text/plain": [
              "FloatProgress(value=0.0, bar_style='info', description='Progress:', layout=Layout(height='25px', width='50%'),…"
            ]
          },
          "metadata": {},
          "output_type": "display_data"
        },
        {
          "name": "stdout",
          "output_type": "stream",
          "text": [
            "root\n",
            " |-- path: string (nullable = true)\n",
            " |-- modificationTime: timestamp (nullable = true)\n",
            " |-- length: long (nullable = true)\n",
            " |-- content: binary (nullable = true)\n",
            " |-- label: string (nullable = true)\n",
            "\n",
            "None\n",
            "+------------------------------------------+----------+\n",
            "|path                                      |label     |\n",
            "+------------------------------------------+----------+\n",
            "|s3://p8-data/Test/Watermelon/r_106_100.jpg|Watermelon|\n",
            "|s3://p8-data/Test/Watermelon/r_109_100.jpg|Watermelon|\n",
            "|s3://p8-data/Test/Watermelon/r_108_100.jpg|Watermelon|\n",
            "|s3://p8-data/Test/Watermelon/r_107_100.jpg|Watermelon|\n",
            "|s3://p8-data/Test/Watermelon/r_95_100.jpg |Watermelon|\n",
            "+------------------------------------------+----------+\n",
            "only showing top 5 rows\n",
            "\n",
            "None"
          ]
        }
      ],
      "source": [
        "images = images.withColumn('label', element_at(split(images['path'], '/'),-2))\n",
        "print(images.printSchema())\n",
        "print(images.select('path','label').show(5,False))"
      ]
    },
    {
      "cell_type": "markdown",
      "id": "8f15b199",
      "metadata": {
        "id": "8f15b199"
      },
      "source": [
        "#### 4.10.5.2 Préparation du modèle"
      ]
    },
    {
      "cell_type": "code",
      "execution_count": null,
      "id": "ec7c7165",
      "metadata": {
        "colab": {
          "referenced_widgets": [
            ""
          ]
        },
        "id": "ec7c7165",
        "outputId": "2adadb0d-599a-4371-f3da-bea11a180217"
      },
      "outputs": [
        {
          "data": {
            "application/vnd.jupyter.widget-view+json": {
              "model_id": "",
              "version_major": 2,
              "version_minor": 0
            },
            "text/plain": [
              "FloatProgress(value=0.0, bar_style='info', description='Progress:', layout=Layout(height='25px', width='50%'),…"
            ]
          },
          "metadata": {},
          "output_type": "display_data"
        },
        {
          "name": "stdout",
          "output_type": "stream",
          "text": [
            "Downloading data from https://storage.googleapis.com/tensorflow/keras-applications/mobilenet_v2/mobilenet_v2_weights_tf_dim_ordering_tf_kernels_1.0_224.h5\n",
            "\r",
            "    8192/14536120 [..............................] - ETA: 0s\b\b\b\b\b\b\b\b\b\b\b\b\b\b\b\b\b\b\b\b\b\b\b\b\b\b\b\b\b\b\b\b\b\b\b\b\b\b\b\b\b\b\b\b\b\b\b\b\b\b\b\b\b\b\b\b\b\b\b\b\r",
            " 4202496/14536120 [=======>......................] - ETA: 0s\b\b\b\b\b\b\b\b\b\b\b\b\b\b\b\b\b\b\b\b\b\b\b\b\b\b\b\b\b\b\b\b\b\b\b\b\b\b\b\b\b\b\b\b\b\b\b\b\b\b\b\b\b\b\b\b\b\b\b\b\r",
            "14540800/14536120 [==============================] - 0s 0us/step"
          ]
        }
      ],
      "source": [
        "model = MobileNetV2(weights='imagenet',\n",
        "                    include_top=True,\n",
        "                    input_shape=(224, 224, 3))"
      ]
    },
    {
      "cell_type": "code",
      "execution_count": null,
      "id": "1b9bc650",
      "metadata": {
        "colab": {
          "referenced_widgets": [
            ""
          ]
        },
        "id": "1b9bc650",
        "outputId": "7996a048-907c-473a-be69-92e547b037c7"
      },
      "outputs": [
        {
          "data": {
            "application/vnd.jupyter.widget-view+json": {
              "model_id": "",
              "version_major": 2,
              "version_minor": 0
            },
            "text/plain": [
              "FloatProgress(value=0.0, bar_style='info', description='Progress:', layout=Layout(height='25px', width='50%'),…"
            ]
          },
          "metadata": {},
          "output_type": "display_data"
        }
      ],
      "source": [
        "new_model = Model(inputs=model.input,\n",
        "                  outputs=model.layers[-2].output)"
      ]
    },
    {
      "cell_type": "code",
      "execution_count": null,
      "id": "a0d497f2",
      "metadata": {
        "colab": {
          "referenced_widgets": [
            ""
          ]
        },
        "id": "a0d497f2",
        "outputId": "a81c63bd-d231-4753-c793-a7c65ba434bb"
      },
      "outputs": [
        {
          "data": {
            "application/vnd.jupyter.widget-view+json": {
              "model_id": "",
              "version_major": 2,
              "version_minor": 0
            },
            "text/plain": [
              "FloatProgress(value=0.0, bar_style='info', description='Progress:', layout=Layout(height='25px', width='50%'),…"
            ]
          },
          "metadata": {},
          "output_type": "display_data"
        }
      ],
      "source": [
        "brodcast_weights = sc.broadcast(new_model.get_weights())"
      ]
    },
    {
      "cell_type": "code",
      "execution_count": null,
      "id": "1bc0bf14",
      "metadata": {
        "colab": {
          "referenced_widgets": [
            ""
          ]
        },
        "collapsed": true,
        "id": "1bc0bf14",
        "outputId": "e927eec0-be14-4d07-feae-3c637391b69e"
      },
      "outputs": [
        {
          "data": {
            "application/vnd.jupyter.widget-view+json": {
              "model_id": "",
              "version_major": 2,
              "version_minor": 0
            },
            "text/plain": [
              "FloatProgress(value=0.0, bar_style='info', description='Progress:', layout=Layout(height='25px', width='50%'),…"
            ]
          },
          "metadata": {},
          "output_type": "display_data"
        },
        {
          "name": "stdout",
          "output_type": "stream",
          "text": [
            "Model: \"model\"\n",
            "__________________________________________________________________________________________________\n",
            "Layer (type)                    Output Shape         Param #     Connected to                     \n",
            "==================================================================================================\n",
            "input_1 (InputLayer)            [(None, 224, 224, 3) 0                                            \n",
            "__________________________________________________________________________________________________\n",
            "Conv1 (Conv2D)                  (None, 112, 112, 32) 864         input_1[0][0]                    \n",
            "__________________________________________________________________________________________________\n",
            "bn_Conv1 (BatchNormalization)   (None, 112, 112, 32) 128         Conv1[0][0]                      \n",
            "__________________________________________________________________________________________________\n",
            "Conv1_relu (ReLU)               (None, 112, 112, 32) 0           bn_Conv1[0][0]                   \n",
            "__________________________________________________________________________________________________\n",
            "expanded_conv_depthwise (Depthw (None, 112, 112, 32) 288         Conv1_relu[0][0]                 \n",
            "__________________________________________________________________________________________________\n",
            "expanded_conv_depthwise_BN (Bat (None, 112, 112, 32) 128         expanded_conv_depthwise[0][0]    \n",
            "__________________________________________________________________________________________________\n",
            "expanded_conv_depthwise_relu (R (None, 112, 112, 32) 0           expanded_conv_depthwise_BN[0][0] \n",
            "__________________________________________________________________________________________________\n",
            "expanded_conv_project (Conv2D)  (None, 112, 112, 16) 512         expanded_conv_depthwise_relu[0][0\n",
            "__________________________________________________________________________________________________\n",
            "expanded_conv_project_BN (Batch (None, 112, 112, 16) 64          expanded_conv_project[0][0]      \n",
            "__________________________________________________________________________________________________\n",
            "block_1_expand (Conv2D)         (None, 112, 112, 96) 1536        expanded_conv_project_BN[0][0]   \n",
            "__________________________________________________________________________________________________\n",
            "block_1_expand_BN (BatchNormali (None, 112, 112, 96) 384         block_1_expand[0][0]             \n",
            "__________________________________________________________________________________________________\n",
            "block_1_expand_relu (ReLU)      (None, 112, 112, 96) 0           block_1_expand_BN[0][0]          \n",
            "__________________________________________________________________________________________________\n",
            "block_1_pad (ZeroPadding2D)     (None, 113, 113, 96) 0           block_1_expand_relu[0][0]        \n",
            "__________________________________________________________________________________________________\n",
            "block_1_depthwise (DepthwiseCon (None, 56, 56, 96)   864         block_1_pad[0][0]                \n",
            "__________________________________________________________________________________________________\n",
            "block_1_depthwise_BN (BatchNorm (None, 56, 56, 96)   384         block_1_depthwise[0][0]          \n",
            "__________________________________________________________________________________________________\n",
            "block_1_depthwise_relu (ReLU)   (None, 56, 56, 96)   0           block_1_depthwise_BN[0][0]       \n",
            "__________________________________________________________________________________________________\n",
            "block_1_project (Conv2D)        (None, 56, 56, 24)   2304        block_1_depthwise_relu[0][0]     \n",
            "__________________________________________________________________________________________________\n",
            "block_1_project_BN (BatchNormal (None, 56, 56, 24)   96          block_1_project[0][0]            \n",
            "__________________________________________________________________________________________________\n",
            "block_2_expand (Conv2D)         (None, 56, 56, 144)  3456        block_1_project_BN[0][0]         \n",
            "__________________________________________________________________________________________________\n",
            "block_2_expand_BN (BatchNormali (None, 56, 56, 144)  576         block_2_expand[0][0]             \n",
            "__________________________________________________________________________________________________\n",
            "block_2_expand_relu (ReLU)      (None, 56, 56, 144)  0           block_2_expand_BN[0][0]          \n",
            "__________________________________________________________________________________________________\n",
            "block_2_depthwise (DepthwiseCon (None, 56, 56, 144)  1296        block_2_expand_relu[0][0]        \n",
            "__________________________________________________________________________________________________\n",
            "block_2_depthwise_BN (BatchNorm (None, 56, 56, 144)  576         block_2_depthwise[0][0]          \n",
            "__________________________________________________________________________________________________\n",
            "block_2_depthwise_relu (ReLU)   (None, 56, 56, 144)  0           block_2_depthwise_BN[0][0]       \n",
            "__________________________________________________________________________________________________\n",
            "block_2_project (Conv2D)        (None, 56, 56, 24)   3456        block_2_depthwise_relu[0][0]     \n",
            "__________________________________________________________________________________________________\n",
            "block_2_project_BN (BatchNormal (None, 56, 56, 24)   96          block_2_project[0][0]            \n",
            "__________________________________________________________________________________________________\n",
            "block_2_add (Add)               (None, 56, 56, 24)   0           block_1_project_BN[0][0]         \n",
            "                                                                 block_2_project_BN[0][0]         \n",
            "__________________________________________________________________________________________________\n",
            "block_3_expand (Conv2D)         (None, 56, 56, 144)  3456        block_2_add[0][0]                \n",
            "__________________________________________________________________________________________________\n",
            "block_3_expand_BN (BatchNormali (None, 56, 56, 144)  576         block_3_expand[0][0]             \n",
            "__________________________________________________________________________________________________\n",
            "block_3_expand_relu (ReLU)      (None, 56, 56, 144)  0           block_3_expand_BN[0][0]          \n",
            "__________________________________________________________________________________________________\n",
            "block_3_pad (ZeroPadding2D)     (None, 57, 57, 144)  0           block_3_expand_relu[0][0]        \n",
            "__________________________________________________________________________________________________\n",
            "block_3_depthwise (DepthwiseCon (None, 28, 28, 144)  1296        block_3_pad[0][0]                \n",
            "__________________________________________________________________________________________________\n",
            "block_3_depthwise_BN (BatchNorm (None, 28, 28, 144)  576         block_3_depthwise[0][0]          \n",
            "__________________________________________________________________________________________________\n",
            "block_3_depthwise_relu (ReLU)   (None, 28, 28, 144)  0           block_3_depthwise_BN[0][0]       \n",
            "__________________________________________________________________________________________________\n",
            "block_3_project (Conv2D)        (None, 28, 28, 32)   4608        block_3_depthwise_relu[0][0]     \n",
            "__________________________________________________________________________________________________\n",
            "block_3_project_BN (BatchNormal (None, 28, 28, 32)   128         block_3_project[0][0]            \n",
            "__________________________________________________________________________________________________\n",
            "block_4_expand (Conv2D)         (None, 28, 28, 192)  6144        block_3_project_BN[0][0]         \n",
            "__________________________________________________________________________________________________\n",
            "block_4_expand_BN (BatchNormali (None, 28, 28, 192)  768         block_4_expand[0][0]             \n",
            "__________________________________________________________________________________________________\n",
            "block_4_expand_relu (ReLU)      (None, 28, 28, 192)  0           block_4_expand_BN[0][0]          \n",
            "__________________________________________________________________________________________________\n",
            "block_4_depthwise (DepthwiseCon (None, 28, 28, 192)  1728        block_4_expand_relu[0][0]        \n",
            "__________________________________________________________________________________________________\n",
            "block_4_depthwise_BN (BatchNorm (None, 28, 28, 192)  768         block_4_depthwise[0][0]          \n",
            "__________________________________________________________________________________________________\n",
            "block_4_depthwise_relu (ReLU)   (None, 28, 28, 192)  0           block_4_depthwise_BN[0][0]       \n",
            "__________________________________________________________________________________________________\n",
            "block_4_project (Conv2D)        (None, 28, 28, 32)   6144        block_4_depthwise_relu[0][0]     \n",
            "__________________________________________________________________________________________________\n",
            "block_4_project_BN (BatchNormal (None, 28, 28, 32)   128         block_4_project[0][0]            \n",
            "__________________________________________________________________________________________________\n",
            "block_4_add (Add)               (None, 28, 28, 32)   0           block_3_project_BN[0][0]         \n",
            "                                                                 block_4_project_BN[0][0]         \n",
            "__________________________________________________________________________________________________\n",
            "block_5_expand (Conv2D)         (None, 28, 28, 192)  6144        block_4_add[0][0]                \n",
            "__________________________________________________________________________________________________\n",
            "block_5_expand_BN (BatchNormali (None, 28, 28, 192)  768         block_5_expand[0][0]             \n",
            "__________________________________________________________________________________________________\n",
            "block_5_expand_relu (ReLU)      (None, 28, 28, 192)  0           block_5_expand_BN[0][0]          \n",
            "__________________________________________________________________________________________________\n",
            "block_5_depthwise (DepthwiseCon (None, 28, 28, 192)  1728        block_5_expand_relu[0][0]        \n",
            "__________________________________________________________________________________________________\n",
            "block_5_depthwise_BN (BatchNorm (None, 28, 28, 192)  768         block_5_depthwise[0][0]          \n",
            "__________________________________________________________________________________________________\n",
            "block_5_depthwise_relu (ReLU)   (None, 28, 28, 192)  0           block_5_depthwise_BN[0][0]       \n",
            "__________________________________________________________________________________________________\n",
            "block_5_project (Conv2D)        (None, 28, 28, 32)   6144        block_5_depthwise_relu[0][0]     \n",
            "__________________________________________________________________________________________________\n",
            "block_5_project_BN (BatchNormal (None, 28, 28, 32)   128         block_5_project[0][0]            \n",
            "__________________________________________________________________________________________________\n",
            "block_5_add (Add)               (None, 28, 28, 32)   0           block_4_add[0][0]                \n",
            "                                                                 block_5_project_BN[0][0]         \n",
            "__________________________________________________________________________________________________\n",
            "block_6_expand (Conv2D)         (None, 28, 28, 192)  6144        block_5_add[0][0]                \n",
            "__________________________________________________________________________________________________\n",
            "block_6_expand_BN (BatchNormali (None, 28, 28, 192)  768         block_6_expand[0][0]             \n",
            "__________________________________________________________________________________________________\n",
            "block_6_expand_relu (ReLU)      (None, 28, 28, 192)  0           block_6_expand_BN[0][0]          \n",
            "__________________________________________________________________________________________________\n",
            "block_6_pad (ZeroPadding2D)     (None, 29, 29, 192)  0           block_6_expand_relu[0][0]        \n",
            "__________________________________________________________________________________________________\n",
            "block_6_depthwise (DepthwiseCon (None, 14, 14, 192)  1728        block_6_pad[0][0]                \n",
            "__________________________________________________________________________________________________\n",
            "block_6_depthwise_BN (BatchNorm (None, 14, 14, 192)  768         block_6_depthwise[0][0]          \n",
            "__________________________________________________________________________________________________\n",
            "block_6_depthwise_relu (ReLU)   (None, 14, 14, 192)  0           block_6_depthwise_BN[0][0]       \n",
            "__________________________________________________________________________________________________\n",
            "block_6_project (Conv2D)        (None, 14, 14, 64)   12288       block_6_depthwise_relu[0][0]     \n",
            "__________________________________________________________________________________________________\n",
            "block_6_project_BN (BatchNormal (None, 14, 14, 64)   256         block_6_project[0][0]            \n",
            "__________________________________________________________________________________________________\n",
            "block_7_expand (Conv2D)         (None, 14, 14, 384)  24576       block_6_project_BN[0][0]         \n",
            "__________________________________________________________________________________________________\n",
            "block_7_expand_BN (BatchNormali (None, 14, 14, 384)  1536        block_7_expand[0][0]             \n",
            "__________________________________________________________________________________________________\n",
            "block_7_expand_relu (ReLU)      (None, 14, 14, 384)  0           block_7_expand_BN[0][0]          \n",
            "__________________________________________________________________________________________________\n",
            "block_7_depthwise (DepthwiseCon (None, 14, 14, 384)  3456        block_7_expand_relu[0][0]        \n",
            "__________________________________________________________________________________________________\n",
            "block_7_depthwise_BN (BatchNorm (None, 14, 14, 384)  1536        block_7_depthwise[0][0]          \n",
            "__________________________________________________________________________________________________\n",
            "block_7_depthwise_relu (ReLU)   (None, 14, 14, 384)  0           block_7_depthwise_BN[0][0]       \n",
            "__________________________________________________________________________________________________\n",
            "block_7_project (Conv2D)        (None, 14, 14, 64)   24576       block_7_depthwise_relu[0][0]     \n",
            "__________________________________________________________________________________________________\n",
            "block_7_project_BN (BatchNormal (None, 14, 14, 64)   256         block_7_project[0][0]            \n",
            "__________________________________________________________________________________________________\n",
            "block_7_add (Add)               (None, 14, 14, 64)   0           block_6_project_BN[0][0]         \n",
            "                                                                 block_7_project_BN[0][0]         \n",
            "__________________________________________________________________________________________________\n",
            "block_8_expand (Conv2D)         (None, 14, 14, 384)  24576       block_7_add[0][0]                \n",
            "__________________________________________________________________________________________________\n",
            "block_8_expand_BN (BatchNormali (None, 14, 14, 384)  1536        block_8_expand[0][0]             \n",
            "__________________________________________________________________________________________________\n",
            "block_8_expand_relu (ReLU)      (None, 14, 14, 384)  0           block_8_expand_BN[0][0]          \n",
            "__________________________________________________________________________________________________\n",
            "block_8_depthwise (DepthwiseCon (None, 14, 14, 384)  3456        block_8_expand_relu[0][0]        \n",
            "__________________________________________________________________________________________________\n",
            "block_8_depthwise_BN (BatchNorm (None, 14, 14, 384)  1536        block_8_depthwise[0][0]          \n",
            "__________________________________________________________________________________________________\n",
            "block_8_depthwise_relu (ReLU)   (None, 14, 14, 384)  0           block_8_depthwise_BN[0][0]       \n",
            "__________________________________________________________________________________________________\n",
            "block_8_project (Conv2D)        (None, 14, 14, 64)   24576       block_8_depthwise_relu[0][0]     \n",
            "__________________________________________________________________________________________________\n",
            "block_8_project_BN (BatchNormal (None, 14, 14, 64)   256         block_8_project[0][0]            \n",
            "__________________________________________________________________________________________________\n",
            "block_8_add (Add)               (None, 14, 14, 64)   0           block_7_add[0][0]                \n",
            "                                                                 block_8_project_BN[0][0]         \n",
            "__________________________________________________________________________________________________\n",
            "block_9_expand (Conv2D)         (None, 14, 14, 384)  24576       block_8_add[0][0]                \n",
            "__________________________________________________________________________________________________\n",
            "block_9_expand_BN (BatchNormali (None, 14, 14, 384)  1536        block_9_expand[0][0]             \n",
            "__________________________________________________________________________________________________\n",
            "block_9_expand_relu (ReLU)      (None, 14, 14, 384)  0           block_9_expand_BN[0][0]          \n",
            "__________________________________________________________________________________________________\n",
            "block_9_depthwise (DepthwiseCon (None, 14, 14, 384)  3456        block_9_expand_relu[0][0]        \n",
            "__________________________________________________________________________________________________\n",
            "block_9_depthwise_BN (BatchNorm (None, 14, 14, 384)  1536        block_9_depthwise[0][0]          \n",
            "__________________________________________________________________________________________________\n",
            "block_9_depthwise_relu (ReLU)   (None, 14, 14, 384)  0           block_9_depthwise_BN[0][0]       \n",
            "__________________________________________________________________________________________________\n",
            "block_9_project (Conv2D)        (None, 14, 14, 64)   24576       block_9_depthwise_relu[0][0]     \n",
            "__________________________________________________________________________________________________\n",
            "block_9_project_BN (BatchNormal (None, 14, 14, 64)   256         block_9_project[0][0]            \n",
            "__________________________________________________________________________________________________\n",
            "block_9_add (Add)               (None, 14, 14, 64)   0           block_8_add[0][0]                \n",
            "                                                                 block_9_project_BN[0][0]         \n",
            "__________________________________________________________________________________________________\n",
            "block_10_expand (Conv2D)        (None, 14, 14, 384)  24576       block_9_add[0][0]                \n",
            "__________________________________________________________________________________________________\n",
            "block_10_expand_BN (BatchNormal (None, 14, 14, 384)  1536        block_10_expand[0][0]            \n",
            "__________________________________________________________________________________________________\n",
            "block_10_expand_relu (ReLU)     (None, 14, 14, 384)  0           block_10_expand_BN[0][0]         \n",
            "__________________________________________________________________________________________________\n",
            "block_10_depthwise (DepthwiseCo (None, 14, 14, 384)  3456        block_10_expand_relu[0][0]       \n",
            "__________________________________________________________________________________________________\n",
            "block_10_depthwise_BN (BatchNor (None, 14, 14, 384)  1536        block_10_depthwise[0][0]         \n",
            "__________________________________________________________________________________________________\n",
            "block_10_depthwise_relu (ReLU)  (None, 14, 14, 384)  0           block_10_depthwise_BN[0][0]      \n",
            "__________________________________________________________________________________________________\n",
            "block_10_project (Conv2D)       (None, 14, 14, 96)   36864       block_10_depthwise_relu[0][0]    \n",
            "__________________________________________________________________________________________________\n",
            "block_10_project_BN (BatchNorma (None, 14, 14, 96)   384         block_10_project[0][0]           \n",
            "__________________________________________________________________________________________________\n",
            "block_11_expand (Conv2D)        (None, 14, 14, 576)  55296       block_10_project_BN[0][0]        \n",
            "__________________________________________________________________________________________________\n",
            "block_11_expand_BN (BatchNormal (None, 14, 14, 576)  2304        block_11_expand[0][0]            \n",
            "__________________________________________________________________________________________________\n",
            "block_11_expand_relu (ReLU)     (None, 14, 14, 576)  0           block_11_expand_BN[0][0]         \n",
            "__________________________________________________________________________________________________\n",
            "block_11_depthwise (DepthwiseCo (None, 14, 14, 576)  5184        block_11_expand_relu[0][0]       \n",
            "__________________________________________________________________________________________________\n",
            "block_11_depthwise_BN (BatchNor (None, 14, 14, 576)  2304        block_11_depthwise[0][0]         \n",
            "__________________________________________________________________________________________________\n",
            "block_11_depthwise_relu (ReLU)  (None, 14, 14, 576)  0           block_11_depthwise_BN[0][0]      \n",
            "__________________________________________________________________________________________________\n",
            "block_11_project (Conv2D)       (None, 14, 14, 96)   55296       block_11_depthwise_relu[0][0]    \n",
            "__________________________________________________________________________________________________\n",
            "block_11_project_BN (BatchNorma (None, 14, 14, 96)   384         block_11_project[0][0]           \n",
            "__________________________________________________________________________________________________\n",
            "block_11_add (Add)              (None, 14, 14, 96)   0           block_10_project_BN[0][0]        \n",
            "                                                                 block_11_project_BN[0][0]        \n",
            "__________________________________________________________________________________________________\n",
            "block_12_expand (Conv2D)        (None, 14, 14, 576)  55296       block_11_add[0][0]               \n",
            "__________________________________________________________________________________________________\n",
            "block_12_expand_BN (BatchNormal (None, 14, 14, 576)  2304        block_12_expand[0][0]            \n",
            "__________________________________________________________________________________________________\n",
            "block_12_expand_relu (ReLU)     (None, 14, 14, 576)  0           block_12_expand_BN[0][0]         \n",
            "__________________________________________________________________________________________________\n",
            "block_12_depthwise (DepthwiseCo (None, 14, 14, 576)  5184        block_12_expand_relu[0][0]       \n",
            "__________________________________________________________________________________________________\n",
            "block_12_depthwise_BN (BatchNor (None, 14, 14, 576)  2304        block_12_depthwise[0][0]         \n",
            "__________________________________________________________________________________________________\n",
            "block_12_depthwise_relu (ReLU)  (None, 14, 14, 576)  0           block_12_depthwise_BN[0][0]      \n",
            "__________________________________________________________________________________________________\n",
            "block_12_project (Conv2D)       (None, 14, 14, 96)   55296       block_12_depthwise_relu[0][0]    \n",
            "__________________________________________________________________________________________________\n",
            "block_12_project_BN (BatchNorma (None, 14, 14, 96)   384         block_12_project[0][0]           \n",
            "__________________________________________________________________________________________________\n",
            "block_12_add (Add)              (None, 14, 14, 96)   0           block_11_add[0][0]               \n",
            "                                                                 block_12_project_BN[0][0]        \n",
            "__________________________________________________________________________________________________\n",
            "block_13_expand (Conv2D)        (None, 14, 14, 576)  55296       block_12_add[0][0]               \n",
            "__________________________________________________________________________________________________\n",
            "block_13_expand_BN (BatchNormal (None, 14, 14, 576)  2304        block_13_expand[0][0]            \n",
            "__________________________________________________________________________________________________\n",
            "block_13_expand_relu (ReLU)     (None, 14, 14, 576)  0           block_13_expand_BN[0][0]         \n",
            "__________________________________________________________________________________________________\n",
            "block_13_pad (ZeroPadding2D)    (None, 15, 15, 576)  0           block_13_expand_relu[0][0]       \n",
            "__________________________________________________________________________________________________\n",
            "block_13_depthwise (DepthwiseCo (None, 7, 7, 576)    5184        block_13_pad[0][0]               \n",
            "__________________________________________________________________________________________________\n",
            "block_13_depthwise_BN (BatchNor (None, 7, 7, 576)    2304        block_13_depthwise[0][0]         \n",
            "__________________________________________________________________________________________________\n",
            "block_13_depthwise_relu (ReLU)  (None, 7, 7, 576)    0           block_13_depthwise_BN[0][0]      \n",
            "__________________________________________________________________________________________________\n",
            "block_13_project (Conv2D)       (None, 7, 7, 160)    92160       block_13_depthwise_relu[0][0]    \n",
            "__________________________________________________________________________________________________\n",
            "block_13_project_BN (BatchNorma (None, 7, 7, 160)    640         block_13_project[0][0]           \n",
            "__________________________________________________________________________________________________\n",
            "block_14_expand (Conv2D)        (None, 7, 7, 960)    153600      block_13_project_BN[0][0]        \n",
            "__________________________________________________________________________________________________\n",
            "block_14_expand_BN (BatchNormal (None, 7, 7, 960)    3840        block_14_expand[0][0]            \n",
            "__________________________________________________________________________________________________\n",
            "block_14_expand_relu (ReLU)     (None, 7, 7, 960)    0           block_14_expand_BN[0][0]         \n",
            "__________________________________________________________________________________________________\n",
            "block_14_depthwise (DepthwiseCo (None, 7, 7, 960)    8640        block_14_expand_relu[0][0]       \n",
            "__________________________________________________________________________________________________\n",
            "block_14_depthwise_BN (BatchNor (None, 7, 7, 960)    3840        block_14_depthwise[0][0]         \n",
            "__________________________________________________________________________________________________\n",
            "block_14_depthwise_relu (ReLU)  (None, 7, 7, 960)    0           block_14_depthwise_BN[0][0]      \n",
            "__________________________________________________________________________________________________\n",
            "block_14_project (Conv2D)       (None, 7, 7, 160)    153600      block_14_depthwise_relu[0][0]    \n",
            "__________________________________________________________________________________________________\n",
            "block_14_project_BN (BatchNorma (None, 7, 7, 160)    640         block_14_project[0][0]           \n",
            "__________________________________________________________________________________________________\n",
            "block_14_add (Add)              (None, 7, 7, 160)    0           block_13_project_BN[0][0]        \n",
            "                                                                 block_14_project_BN[0][0]        \n",
            "__________________________________________________________________________________________________\n",
            "block_15_expand (Conv2D)        (None, 7, 7, 960)    153600      block_14_add[0][0]               \n",
            "__________________________________________________________________________________________________\n",
            "block_15_expand_BN (BatchNormal (None, 7, 7, 960)    3840        block_15_expand[0][0]            \n",
            "__________________________________________________________________________________________________\n",
            "block_15_expand_relu (ReLU)     (None, 7, 7, 960)    0           block_15_expand_BN[0][0]         \n",
            "__________________________________________________________________________________________________\n",
            "block_15_depthwise (DepthwiseCo (None, 7, 7, 960)    8640        block_15_expand_relu[0][0]       \n",
            "__________________________________________________________________________________________________\n",
            "block_15_depthwise_BN (BatchNor (None, 7, 7, 960)    3840        block_15_depthwise[0][0]         \n",
            "__________________________________________________________________________________________________\n",
            "block_15_depthwise_relu (ReLU)  (None, 7, 7, 960)    0           block_15_depthwise_BN[0][0]      \n",
            "__________________________________________________________________________________________________\n",
            "block_15_project (Conv2D)       (None, 7, 7, 160)    153600      block_15_depthwise_relu[0][0]    \n",
            "__________________________________________________________________________________________________\n",
            "block_15_project_BN (BatchNorma (None, 7, 7, 160)    640         block_15_project[0][0]           \n",
            "__________________________________________________________________________________________________\n",
            "block_15_add (Add)              (None, 7, 7, 160)    0           block_14_add[0][0]               \n",
            "                                                                 block_15_project_BN[0][0]        \n",
            "__________________________________________________________________________________________________\n",
            "block_16_expand (Conv2D)        (None, 7, 7, 960)    153600      block_15_add[0][0]               \n",
            "__________________________________________________________________________________________________\n",
            "block_16_expand_BN (BatchNormal (None, 7, 7, 960)    3840        block_16_expand[0][0]            \n",
            "__________________________________________________________________________________________________\n",
            "block_16_expand_relu (ReLU)     (None, 7, 7, 960)    0           block_16_expand_BN[0][0]         \n",
            "__________________________________________________________________________________________________\n",
            "block_16_depthwise (DepthwiseCo (None, 7, 7, 960)    8640        block_16_expand_relu[0][0]       \n",
            "__________________________________________________________________________________________________\n",
            "block_16_depthwise_BN (BatchNor (None, 7, 7, 960)    3840        block_16_depthwise[0][0]         \n",
            "__________________________________________________________________________________________________\n",
            "block_16_depthwise_relu (ReLU)  (None, 7, 7, 960)    0           block_16_depthwise_BN[0][0]      \n",
            "__________________________________________________________________________________________________\n",
            "block_16_project (Conv2D)       (None, 7, 7, 320)    307200      block_16_depthwise_relu[0][0]    \n",
            "__________________________________________________________________________________________________\n",
            "block_16_project_BN (BatchNorma (None, 7, 7, 320)    1280        block_16_project[0][0]           \n",
            "__________________________________________________________________________________________________\n",
            "Conv_1 (Conv2D)                 (None, 7, 7, 1280)   409600      block_16_project_BN[0][0]        \n",
            "__________________________________________________________________________________________________\n",
            "Conv_1_bn (BatchNormalization)  (None, 7, 7, 1280)   5120        Conv_1[0][0]                     \n",
            "__________________________________________________________________________________________________\n",
            "out_relu (ReLU)                 (None, 7, 7, 1280)   0           Conv_1_bn[0][0]                  \n",
            "__________________________________________________________________________________________________\n",
            "global_average_pooling2d (Globa (None, 1280)         0           out_relu[0][0]                   \n",
            "==================================================================================================\n",
            "Total params: 2,257,984\n",
            "Trainable params: 2,223,872\n",
            "Non-trainable params: 34,112\n",
            "__________________________________________________________________________________________________"
          ]
        }
      ],
      "source": [
        "new_model.summary()"
      ]
    },
    {
      "cell_type": "code",
      "execution_count": null,
      "id": "be8fe2b9",
      "metadata": {
        "colab": {
          "referenced_widgets": [
            ""
          ]
        },
        "id": "be8fe2b9",
        "outputId": "0b09a155-fabc-490d-efb1-ed2ff7207984"
      },
      "outputs": [
        {
          "data": {
            "application/vnd.jupyter.widget-view+json": {
              "model_id": "",
              "version_major": 2,
              "version_minor": 0
            },
            "text/plain": [
              "FloatProgress(value=0.0, bar_style='info', description='Progress:', layout=Layout(height='25px', width='50%'),…"
            ]
          },
          "metadata": {},
          "output_type": "display_data"
        }
      ],
      "source": [
        "def model_fn():\n",
        "    \"\"\"\n",
        "    Returns a MobileNetV2 model with top layer removed \n",
        "    and broadcasted pretrained weights.\n",
        "    \"\"\"\n",
        "    model = MobileNetV2(weights='imagenet',\n",
        "                        include_top=True,\n",
        "                        input_shape=(224, 224, 3))\n",
        "    for layer in model.layers:\n",
        "        layer.trainable = False\n",
        "    new_model = Model(inputs=model.input,\n",
        "                  outputs=model.layers[-2].output)\n",
        "    new_model.set_weights(brodcast_weights.value)\n",
        "    return new_model"
      ]
    },
    {
      "cell_type": "markdown",
      "id": "c032f135",
      "metadata": {
        "id": "c032f135"
      },
      "source": [
        "#### 4.10.5.3 Définition du processus de chargement des images <br/> et application de leur featurisation à travers l'utilisation de pandas UDF"
      ]
    },
    {
      "cell_type": "code",
      "execution_count": null,
      "id": "933100cf",
      "metadata": {
        "scrolled": true,
        "colab": {
          "referenced_widgets": [
            ""
          ]
        },
        "id": "933100cf",
        "outputId": "adcc95ba-151d-44c3-cf09-b1f71972813a"
      },
      "outputs": [
        {
          "data": {
            "application/vnd.jupyter.widget-view+json": {
              "model_id": "",
              "version_major": 2,
              "version_minor": 0
            },
            "text/plain": [
              "FloatProgress(value=0.0, bar_style='info', description='Progress:', layout=Layout(height='25px', width='50%'),…"
            ]
          },
          "metadata": {},
          "output_type": "display_data"
        },
        {
          "name": "stdout",
          "output_type": "stream",
          "text": [
            "/usr/lib/spark/python/lib/pyspark.zip/pyspark/sql/pandas/functions.py:392: UserWarning: In Python 3.6+ and Spark 3.0+, it is preferred to specify type hints for pandas UDF instead of specifying pandas UDF type which will be deprecated in the future releases. See SPARK-28264 for more details."
          ]
        }
      ],
      "source": [
        "def preprocess(content):\n",
        "    \"\"\"\n",
        "    Preprocesses raw image bytes for prediction.\n",
        "    \"\"\"\n",
        "    img = Image.open(io.BytesIO(content)).resize([224, 224])\n",
        "    arr = img_to_array(img)\n",
        "    return preprocess_input(arr)\n",
        "\n",
        "def featurize_series(model, content_series):\n",
        "    \"\"\"\n",
        "    Featurize a pd.Series of raw images using the input model.\n",
        "    :return: a pd.Series of image features\n",
        "    \"\"\"\n",
        "    input = np.stack(content_series.map(preprocess))\n",
        "    preds = model.predict(input)\n",
        "    # For some layers, output features will be multi-dimensional tensors.\n",
        "    # We flatten the feature tensors to vectors for easier storage in Spark DataFrames.\n",
        "    output = [p.flatten() for p in preds]\n",
        "    return pd.Series(output)\n",
        "\n",
        "@pandas_udf('array<float>', PandasUDFType.SCALAR_ITER)\n",
        "def featurize_udf(content_series_iter):\n",
        "    '''\n",
        "    This method is a Scalar Iterator pandas UDF wrapping our featurization function.\n",
        "    The decorator specifies that this returns a Spark DataFrame column of type ArrayType(FloatType).\n",
        "\n",
        "    :param content_series_iter: This argument is an iterator over batches of data, where each batch\n",
        "                              is a pandas Series of image data.\n",
        "    '''\n",
        "    # With Scalar Iterator pandas UDFs, we can load the model once and then re-use it\n",
        "    # for multiple data batches.  This amortizes the overhead of loading big models.\n",
        "    model = model_fn()\n",
        "    for content_series in content_series_iter:\n",
        "        yield featurize_series(model, content_series)"
      ]
    },
    {
      "cell_type": "markdown",
      "id": "f23206e8",
      "metadata": {
        "id": "f23206e8"
      },
      "source": [
        "#### 4.10.5.4 Exécutions des actions d'extractions de features"
      ]
    },
    {
      "cell_type": "code",
      "execution_count": null,
      "id": "22d760c2",
      "metadata": {
        "colab": {
          "referenced_widgets": [
            ""
          ]
        },
        "id": "22d760c2",
        "outputId": "726980e7-363d-4467-cbde-0642dae1a413"
      },
      "outputs": [
        {
          "data": {
            "application/vnd.jupyter.widget-view+json": {
              "model_id": "",
              "version_major": 2,
              "version_minor": 0
            },
            "text/plain": [
              "FloatProgress(value=0.0, bar_style='info', description='Progress:', layout=Layout(height='25px', width='50%'),…"
            ]
          },
          "metadata": {},
          "output_type": "display_data"
        }
      ],
      "source": [
        "# spark.conf.set(\"spark.sql.execution.arrow.maxRecordsPerBatch\", \"1024\")"
      ]
    },
    {
      "cell_type": "code",
      "execution_count": null,
      "id": "5e07fd68",
      "metadata": {
        "colab": {
          "referenced_widgets": [
            ""
          ]
        },
        "id": "5e07fd68",
        "outputId": "da9ca07b-345b-4d91-dcbd-43a5d82aaf6d"
      },
      "outputs": [
        {
          "data": {
            "application/vnd.jupyter.widget-view+json": {
              "model_id": "",
              "version_major": 2,
              "version_minor": 0
            },
            "text/plain": [
              "FloatProgress(value=0.0, bar_style='info', description='Progress:', layout=Layout(height='25px', width='50%'),…"
            ]
          },
          "metadata": {},
          "output_type": "display_data"
        }
      ],
      "source": [
        "features_df = images.repartition(24).select(col(\"path\"),\n",
        "                                            col(\"label\"),\n",
        "                                            featurize_udf(\"content\").alias(\"features\")\n",
        "                                           )"
      ]
    },
    {
      "cell_type": "code",
      "execution_count": null,
      "id": "06a930b3",
      "metadata": {
        "colab": {
          "referenced_widgets": [
            ""
          ]
        },
        "id": "06a930b3",
        "outputId": "1dd6b923-2e8b-4de1-ea33-fa3371b1729b"
      },
      "outputs": [
        {
          "data": {
            "application/vnd.jupyter.widget-view+json": {
              "model_id": "",
              "version_major": 2,
              "version_minor": 0
            },
            "text/plain": [
              "FloatProgress(value=0.0, bar_style='info', description='Progress:', layout=Layout(height='25px', width='50%'),…"
            ]
          },
          "metadata": {},
          "output_type": "display_data"
        },
        {
          "name": "stdout",
          "output_type": "stream",
          "text": [
            "s3://p8-data/Results"
          ]
        }
      ],
      "source": [
        "print(PATH_Result)"
      ]
    },
    {
      "cell_type": "code",
      "execution_count": null,
      "id": "7c53ddd5",
      "metadata": {
        "colab": {
          "referenced_widgets": [
            ""
          ]
        },
        "id": "7c53ddd5",
        "outputId": "cb0de832-84a4-48c9-bc32-bdf9d940e8af"
      },
      "outputs": [
        {
          "data": {
            "application/vnd.jupyter.widget-view+json": {
              "model_id": "",
              "version_major": 2,
              "version_minor": 0
            },
            "text/plain": [
              "FloatProgress(value=0.0, bar_style='info', description='Progress:', layout=Layout(height='25px', width='50%'),…"
            ]
          },
          "metadata": {},
          "output_type": "display_data"
        }
      ],
      "source": [
        "features_df.write.mode(\"overwrite\").parquet(PATH_Result)"
      ]
    },
    {
      "cell_type": "markdown",
      "id": "1fe01b72",
      "metadata": {
        "id": "1fe01b72"
      },
      "source": [
        "### 4.10.6 Chargement des données enregistrées et validation du résultat"
      ]
    },
    {
      "cell_type": "code",
      "execution_count": null,
      "id": "db18a784",
      "metadata": {
        "colab": {
          "referenced_widgets": [
            ""
          ]
        },
        "id": "db18a784",
        "outputId": "5e5c2b02-946f-4e88-a416-6f8c43a8fdb3"
      },
      "outputs": [
        {
          "data": {
            "application/vnd.jupyter.widget-view+json": {
              "model_id": "",
              "version_major": 2,
              "version_minor": 0
            },
            "text/plain": [
              "FloatProgress(value=0.0, bar_style='info', description='Progress:', layout=Layout(height='25px', width='50%'),…"
            ]
          },
          "metadata": {},
          "output_type": "display_data"
        }
      ],
      "source": [
        "df = pd.read_parquet(PATH_Result, engine='pyarrow')"
      ]
    },
    {
      "cell_type": "code",
      "execution_count": null,
      "id": "d750d2a8",
      "metadata": {
        "colab": {
          "referenced_widgets": [
            ""
          ]
        },
        "id": "d750d2a8",
        "outputId": "e0829b27-5e66-471b-cb78-b35ece1b3fec"
      },
      "outputs": [
        {
          "data": {
            "application/vnd.jupyter.widget-view+json": {
              "model_id": "",
              "version_major": 2,
              "version_minor": 0
            },
            "text/plain": [
              "FloatProgress(value=0.0, bar_style='info', description='Progress:', layout=Layout(height='25px', width='50%'),…"
            ]
          },
          "metadata": {},
          "output_type": "display_data"
        },
        {
          "name": "stdout",
          "output_type": "stream",
          "text": [
            "                                           path  ...                                           features\n",
            "0    s3://p8-data/Test/Watermelon/r_174_100.jpg  ...  [0.0059991637, 0.44703647, 0.0, 0.0, 3.3713572...\n",
            "1  s3://p8-data/Test/Pineapple Mini/128_100.jpg  ...  [0.0146466885, 4.080593, 0.055877004, 0.0, 0.0...\n",
            "2  s3://p8-data/Test/Pineapple Mini/137_100.jpg  ...  [0.0, 4.9659867, 0.0, 0.0, 0.0, 0.0, 0.5144821...\n",
            "3      s3://p8-data/Test/Watermelon/275_100.jpg  ...  [0.22511952, 0.07235509, 0.0, 0.0, 1.690149, 0...\n",
            "4      s3://p8-data/Test/Watermelon/271_100.jpg  ...  [0.3286234, 0.18830013, 0.0, 0.0, 1.9123534, 0...\n",
            "\n",
            "[5 rows x 3 columns]"
          ]
        }
      ],
      "source": [
        "df.head()"
      ]
    },
    {
      "cell_type": "code",
      "execution_count": null,
      "id": "b29205ff",
      "metadata": {
        "colab": {
          "referenced_widgets": [
            ""
          ]
        },
        "id": "b29205ff",
        "outputId": "6ddf9063-e3d8-4f92-826a-6a8915bd538b"
      },
      "outputs": [
        {
          "data": {
            "application/vnd.jupyter.widget-view+json": {
              "model_id": "",
              "version_major": 2,
              "version_minor": 0
            },
            "text/plain": [
              "FloatProgress(value=0.0, bar_style='info', description='Progress:', layout=Layout(height='25px', width='50%'),…"
            ]
          },
          "metadata": {},
          "output_type": "display_data"
        },
        {
          "name": "stdout",
          "output_type": "stream",
          "text": [
            "(1280,)"
          ]
        }
      ],
      "source": [
        "df.loc[0,'features'].shape"
      ]
    },
    {
      "cell_type": "code",
      "execution_count": null,
      "id": "4fba6455",
      "metadata": {
        "colab": {
          "referenced_widgets": [
            ""
          ]
        },
        "id": "4fba6455",
        "outputId": "5a06d1bd-f114-48dd-c5b9-f14caff4986d"
      },
      "outputs": [
        {
          "data": {
            "application/vnd.jupyter.widget-view+json": {
              "model_id": "",
              "version_major": 2,
              "version_minor": 0
            },
            "text/plain": [
              "FloatProgress(value=0.0, bar_style='info', description='Progress:', layout=Layout(height='25px', width='50%'),…"
            ]
          },
          "metadata": {},
          "output_type": "display_data"
        },
        {
          "name": "stdout",
          "output_type": "stream",
          "text": [
            "(22688, 3)"
          ]
        }
      ],
      "source": [
        "df.shape"
      ]
    },
    {
      "cell_type": "markdown",
      "id": "72974aab",
      "metadata": {
        "id": "72974aab"
      },
      "source": [
        "<u>On peut également constater la présence des fichiers <br />\n",
        "    au format \"**parquet**\" sur le **serveur S3**</u> :\n",
        "\n",
        "![Affichage des résultats sur S3](img/S3_Results.png)\n",
        "\n",
        "## 4.11 Suivi de l'avancement des tâches avec le Serveur d'Historique Spark\n",
        "\n",
        "Il est possible de voir l'avancement des tâches en cours <br />\n",
        "avec le **serveur d'historique Spark**.\n",
        "\n",
        "![Accès au serveur d'historique spark](img/EMR_serveur_historique_spark_acces.png)\n",
        "\n",
        "**Il est également possible de revenir et d'étudier les tâches <br />\n",
        "qui ont été réalisé, afin de debugger, optimiser les futurs <br />\n",
        "tâches à réaliser.**\n",
        "\n",
        "<u>Lorsque la commande \"**features_df.write.mode(\"overwrite\").parquet(PATH_Result)**\" <br />\n",
        "était en cours, nous pouvions observer son état d'avancement</u> :\n",
        "\n",
        "![Progression execution script](img/EMR_jupyterhub_avancement.png)\n",
        "\n",
        "<u>Le **serveur d'historique Spark** nous permet une vision beaucoup plus précise <br />\n",
        "de l'exécution des différentes tâche sur les différentes machines du cluster</u> :\n",
        "\n",
        "![Suivi des tâches spark](img/EMR_SHSpark_01.png)\n",
        "\n",
        "On peut également constater que notre cluster de calcul a mis <br />\n",
        "un tout petit peu **moins de 8 minutes** pour traiter les **22 688 images**.\n",
        "\n",
        "![Temps de traitement](img/EMR_SHSpark_02.png)\n"
      ]
    },
    {
      "cell_type": "markdown",
      "id": "b22d65bf",
      "metadata": {
        "id": "b22d65bf"
      },
      "source": [
        "## 4.12 Résiliation de l'instance EMR\n",
        "\n",
        "Notre travail est maintenant terminé. <br />\n",
        "Le cluster de machines EMR est **facturé à la demande**, <br />\n",
        "et nous continuons d'être facturé même lorsque <br />\n",
        "les machines sont au repos.<br />\n",
        "Pour **optimiser la facturation**, il nous faut <br />\n",
        "maintenant **résilier le cluster**.\n",
        "\n",
        "<u>Je réalise cette commande depuis l'interface AWS</u> :\n",
        "\n",
        "1. Commencez par **désactiver le tunnel ssh dans FoxyProxy** pour éviter des problèmes de **timeout**.\n",
        "![Désactivation de FoxyProxy](img/EMR_foxyproxy_desactivation.png)\n",
        "2. Cliquez sur \"**Résilier**\"\n",
        "![Cliquez sur Résilier](img/EMR_resiliation_01.png)\n",
        "3. Confirmez la résiliation\n",
        "![Confirmez la résiliation](img/EMR_resiliation_02.png)\n",
        "4. La résiliation prend environ **1 minute**\n",
        "![Résiliation en cours](img/EMR_resiliation_03.png)\n",
        "5. La résiliation est effectuée\n",
        "![Résiliation terminée](img/EMR_resiliation_04.png)\n",
        "\n",
        "## 4.13 Cloner le serveur EMR (si besoin)\n",
        "\n",
        "Si nous devons de nouveau exécuter notre notebook dans les mêmes conditions, <br />\n",
        "il nous suffit de **cloner notre cluster** et ainsi en obtenir une copie fonctionnelle <br />\n",
        "sous 15/20 minutes, le temps de son instanciation.\n",
        "\n",
        "<u>Pour cela deux solutions</u> :\n",
        "1. <u>Depuis l'interface AWS</u> :\n",
        " 1. Cliquez sur \"**Cloner**\"\n",
        "   ![Cloner un cluster](img/EMR_cloner_01.png)\n",
        " 2. Dans notre cas nous ne souhaitons pas inclure d'étapes\n",
        "   ![Ne pas inclure d'étapes](img/EMR_cloner_02.png)\n",
        " 3. La configuration du cluster est recréée à l’identique. <br />\n",
        "    On peut revenir sur les différentes étapes si on souhaite apporter des modifications<br />\n",
        "    Quand tout est prêt, cliquez sur \"**Créer un cluster**\"\n",
        "  ![Vérification/Modification/Créer un cluster](img/EMR_cloner_03.png)\n",
        "2. <u>En ligne de commande</u> (avec AWS CLI d'installé et de configuré et en s'assurant <br />\n",
        "   de s'attribuer les droits nécessaires sur le compte AMI utilisé)\n",
        " 1. Cliquez sur \"**Exporter AWS CLI**\"\n",
        " ![Exporter AWS CLI](img/EMR_cloner_cli_01.png)\n",
        " 2. Copier/Coller la commande **depuis un terminal**\n",
        " ![Copier Coller Commande](img/EMR_cloner_cli_02.png)\n",
        "\n",
        "## 4.14 Arborescence du serveur S3 à la fin du projet\n",
        "\n",
        "<u>Pour information, voici **l'arborescence complète de mon bucket S3 p8-data** à la fin du projet</u> : <br />\n",
        "*Par soucis de lisibilité, je ne liste pas les 131 sous dossiers du répertoire \"Test\"*\n",
        "\n",
        "1. Results/_SUCCESS\n",
        "1. Results/part-00000-2cc36f38-19ef-4d8a-a0d1-5ddb309b3894-c000.snappy.parquet\n",
        "1. Results/part-00001-2cc36f38-19ef-4d8a-a0d1-5ddb309b3894-c000.snappy.parquet\n",
        "1. Results/part-00002-2cc36f38-19ef-4d8a-a0d1-5ddb309b3894-c000.snappy.parquet\n",
        "1. Results/part-00003-2cc36f38-19ef-4d8a-a0d1-5ddb309b3894-c000.snappy.parquet\n",
        "1. Results/part-00004-2cc36f38-19ef-4d8a-a0d1-5ddb309b3894-c000.snappy.parquet\n",
        "1. Results/part-00005-2cc36f38-19ef-4d8a-a0d1-5ddb309b3894-c000.snappy.parquet\n",
        "1. Results/part-00006-2cc36f38-19ef-4d8a-a0d1-5ddb309b3894-c000.snappy.parquet\n",
        "1. Results/part-00007-2cc36f38-19ef-4d8a-a0d1-5ddb309b3894-c000.snappy.parquet\n",
        "1. Results/part-00008-2cc36f38-19ef-4d8a-a0d1-5ddb309b3894-c000.snappy.parquet\n",
        "1. Results/part-00009-2cc36f38-19ef-4d8a-a0d1-5ddb309b3894-c000.snappy.parquet\n",
        "1. Results/part-00010-2cc36f38-19ef-4d8a-a0d1-5ddb309b3894-c000.snappy.parquet\n",
        "1. Results/part-00011-2cc36f38-19ef-4d8a-a0d1-5ddb309b3894-c000.snappy.parquet\n",
        "1. Results/part-00012-2cc36f38-19ef-4d8a-a0d1-5ddb309b3894-c000.snappy.parquet\n",
        "1. Results/part-00013-2cc36f38-19ef-4d8a-a0d1-5ddb309b3894-c000.snappy.parquet\n",
        "1. Results/part-00014-2cc36f38-19ef-4d8a-a0d1-5ddb309b3894-c000.snappy.parquet\n",
        "1. Results/part-00015-2cc36f38-19ef-4d8a-a0d1-5ddb309b3894-c000.snappy.parquet\n",
        "1. Results/part-00016-2cc36f38-19ef-4d8a-a0d1-5ddb309b3894-c000.snappy.parquet\n",
        "1. Results/part-00017-2cc36f38-19ef-4d8a-a0d1-5ddb309b3894-c000.snappy.parquet\n",
        "1. Results/part-00018-2cc36f38-19ef-4d8a-a0d1-5ddb309b3894-c000.snappy.parquet\n",
        "1. Results/part-00019-2cc36f38-19ef-4d8a-a0d1-5ddb309b3894-c000.snappy.parquet\n",
        "1. Results/part-00020-2cc36f38-19ef-4d8a-a0d1-5ddb309b3894-c000.snappy.parquet\n",
        "1. Results/part-00021-2cc36f38-19ef-4d8a-a0d1-5ddb309b3894-c000.snappy.parquet\n",
        "1. Results/part-00022-2cc36f38-19ef-4d8a-a0d1-5ddb309b3894-c000.snappy.parquet\n",
        "1. Results/part-00023-2cc36f38-19ef-4d8a-a0d1-5ddb309b3894-c000.snappy.parquet\n",
        "1. Test/\n",
        "1. bootstrap-emr.sh\n",
        "1. jupyter-s3-conf.json\n",
        "1. jupyter/jovyan/.s3keep\n",
        "1. jupyter/jovyan/P8_01_Notebook.ipynb\n",
        "1. jupyter/jovyan/_metadata\n",
        "1. jupyter/jovyan/e-5OTY4VKPDT21945FF6DN15E35/.aws-editors-workspace-metadata/\n",
        "1. jupyter/jovyan/e-5OTY4VKPDT21945FF6DN15E35/.aws-editors-workspace-metadata/file-perm.sqlite\n",
        "1. jupyter/jovyan/e-5OTY4VKPDT21945FF6DN15E35/.aws-editors-workspace-metadata/nbconvert/\n",
        "1. jupyter/jovyan/e-5OTY4VKPDT21945FF6DN15E35/.aws-editors-workspace-metadata/nbconvert/templates/\n",
        "1. jupyter/jovyan/e-5OTY4VKPDT21945FF6DN15E35/.aws-editors-workspace-metadata/nbconvert/templates/html/\n",
        "1. jupyter/jovyan/e-5OTY4VKPDT21945FF6DN15E35/.aws-editors-workspace-metadata/nbconvert/templates/latex/\n",
        "1. jupyter/jovyan/e-5OTY4VKPDT21945FF6DN15E35/.aws-editors-workspace-metadata/nbsignatures.db\n",
        "1. jupyter/jovyan/e-5OTY4VKPDT21945FF6DN15E35/.aws-editors-workspace-metadata/notebook_secret\n",
        "1. jupyter/jovyan/e-5OTY4VKPDT21945FF6DN15E35/.ipynb_checkpoints/\n",
        "1. jupyter/jovyan/e-5OTY4VKPDT21945FF6DN15E35/.ipynb_checkpoints/Untitled-checkpoint.ipynb\n",
        "1. jupyter/jovyan/e-5OTY4VKPDT21945FF6DN15E35/.ipynb_checkpoints/Untitled1-checkpoint.ipynb\n",
        "1. jupyter/jovyan/e-5OTY4VKPDT21945FF6DN15E35/.ipynb_checkpoints/test3-checkpoint.ipynb\n",
        "1. jupyter/jovyan/e-5OTY4VKPDT21945FF6DN15E35/Untitled.ipynb\n",
        "1. jupyter/jovyan/e-5OTY4VKPDT21945FF6DN15E35/Untitled1.ipynb\n",
        "1. jupyter/jovyan/e-5OTY4VKPDT21945FF6DN15E35/test3.ipynb"
      ]
    },
    {
      "cell_type": "markdown",
      "id": "4eba46f9",
      "metadata": {
        "id": "4eba46f9"
      },
      "source": [
        "# 5. Conclusion\n",
        "\n",
        "Nous avons réalisé ce projet **en deux temps** en tenant <br />\n",
        "compte des contraintes qui nous ont été imposées.\n",
        "\n",
        "Nous avons **dans un premier temps développé notre solution en local** <br />\n",
        "sur une machine virtuelle dans un environnement Linux Ubuntu.\n",
        "\n",
        "La <u>première phase</u> a consisté à **installer l'environnement de travail Spark**. <br />\n",
        "**Spark** a un paramètre qui nous permet de travaillé en local et nous permet <br />\n",
        "ainsi de **simuler du calcul partagé** en considérant <br />\n",
        "**chaque cœur d'un processeur comme un worker indépendant**.<br />\n",
        "Nous avons travaillé sur un plus **petit jeu de donnée**, l'idée était <br />\n",
        "simplement de **valider le bon fonctionnement de la solution**.\n",
        "\n",
        "Nous avons fait le choix de réaliser du **transfert learning** <br />\n",
        "à partir du model **MobileNetV2**.<br />\n",
        "Ce modèle a été retenu pour sa **légèreté** et sa **rapidité d'exécution** <br />\n",
        "ainsi que pour la **faible dimension de son vecteur en sortie**.\n",
        "\n",
        "Les résultats ont été enregistrés sur disque en plusieurs <br />\n",
        "partitions au format \"**parquet**\".\n",
        "\n",
        "<u>**La solution a parfaitement fonctionné en mode local**</u>.\n",
        "\n",
        "La <u>deuxième phase</u> a consisté à créer un **réel cluster de calculs**. <br />\n",
        "L'objectif était de pouvoir **anticiper une future augmentation de la charge de travail**.\n",
        "\n",
        "Le meilleur choix retenu a été l'utilisation du prestataire de services **Amazon Web Services** <br />\n",
        "qui nous permet de **louer à la demande de la puissance de calculs**, <br />\n",
        "pour un **coût tout à fait acceptable**.<br />\n",
        "Ce service se nomme **EC2** et se classe parmi les offres **Infrastructure As A Service** (IAAS).\n",
        "\n",
        "Nous sommes allez plus loin en utilisant un service de plus <br />\n",
        "haut niveau (**Plateforme As A Service** PAAS)<br />\n",
        "en utilisant le service **EMR** qui nous permet d'un seul coup <br />\n",
        "d'**instancier plusieurs serveur (un cluster)** sur lesquels <br />\n",
        "nous avons pu demander l'installation et la configuration de plusieurs<br />\n",
        "programmes et librairies nécessaires à notre projet comme **Spark**, <br />\n",
        "**Hadoop**, **JupyterHub** ainsi que la librairie **TensorFlow**.\n",
        "\n",
        "En plus d'être plus **rapide et efficace à mettre en place**, nous avons <br />\n",
        "la **certitude du bon fonctionnement de la solution**, celle-ci ayant été <br />\n",
        "préalablement validé par les ingénieurs d'Amazon.\n",
        "\n",
        "Nous avons également pu installer, sans difficulté, **les packages <br />\n",
        "nécessaires sur l'ensembles des machines du cluster**.\n",
        "\n",
        "Enfin, avec très peu de modification, et plus simplement encore, <br />\n",
        "nous avons pu **exécuter notre notebook comme nous l'avions fait localement**.<br />\n",
        "Nous avons cette fois-ci exécuté le traitement sur **l'ensemble des images de notre dossier \"Test\"**.\n",
        "\n",
        "Nous avons opté pour le service **Amazon S3** pour **stocker les données de notre projet**. <br />\n",
        "S3 offre, pour un faible coût, toutes les conditions dont nous avons besoin pour stocker <br />\n",
        "et exploiter de manière efficace nos données.<br />\n",
        "L'espace alloué est potentiellement **illimité**, mais les coûts seront fonction de l'espace utilisé.\n",
        "\n",
        "Il nous sera **facile de faire face à une monté de la charge de travail** en **redimensionnant** <br />\n",
        "simplement notre cluster de machines (horizontalement et/ou verticalement au besoin), <br />\n",
        "les coûts augmenteront en conséquence mais resteront nettement inférieurs aux coûts engendrés <br />\n",
        "par l'achat de matériels ou par la location de serveurs dédiés."
      ]
    }
  ],
  "metadata": {
    "kernelspec": {
      "display_name": "Python 3 (ipykernel)",
      "language": "python",
      "name": "python3"
    },
    "language_info": {
      "codemirror_mode": {
        "name": "ipython",
        "version": 3
      },
      "file_extension": ".py",
      "mimetype": "text/x-python",
      "name": "python",
      "nbconvert_exporter": "python",
      "pygments_lexer": "ipython3",
      "version": "3.9.12"
    },
    "toc": {
      "base_numbering": 1,
      "nav_menu": {},
      "number_sections": true,
      "sideBar": true,
      "skip_h1_title": false,
      "title_cell": "Table of Contents",
      "title_sidebar": "Contents",
      "toc_cell": false,
      "toc_position": {
        "height": "calc(100% - 180px)",
        "left": "10px",
        "top": "150px",
        "width": "432.4px"
      },
      "toc_section_display": true,
      "toc_window_display": true
    },
    "colab": {
      "provenance": [],
      "toc_visible": true,
      "collapsed_sections": [
        "0oA1Ta7vhu6R",
        "27ac9832",
        "83663cbd",
        "2ffe93f5",
        "8f15b199",
        "c032f135",
        "f23206e8",
        "1fe01b72"
      ],
      "gpuClass": "premium",
      "include_colab_link": true
    },
    "accelerator": "GPU",
    "gpuClass": "premium"
  },
  "nbformat": 4,
  "nbformat_minor": 5
}